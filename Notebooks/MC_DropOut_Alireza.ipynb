{
 "cells": [
  {
   "cell_type": "code",
   "execution_count": 1,
   "metadata": {},
   "outputs": [
    {
     "name": "stdout",
     "output_type": "stream",
     "text": [
      "/home/yann/IVISpaces\n"
     ]
    }
   ],
   "source": [
    "cd .."
   ]
  },
  {
   "cell_type": "code",
   "execution_count": 7,
   "metadata": {},
   "outputs": [],
   "source": [
    "import math\n",
    "\n",
    "import torch\n",
    "from torch import nn\n",
    "\n",
    "import matplotlib.pyplot as plt\n",
    "\n",
    "from torch.utils.data import Dataset\n",
    "\n",
    "from Metrics import evaluate_metrics\n",
    "from Experiments import get_setup\n"
   ]
  },
  {
   "cell_type": "code",
   "execution_count": 8,
   "metadata": {},
   "outputs": [],
   "source": [
    "\n",
    "device = torch.device('cuda:0' if torch.cuda.is_available() else 'cpu')\n",
    "\n"
   ]
  },
  {
   "cell_type": "markdown",
   "metadata": {},
   "source": [
    "# Setup #"
   ]
  },
  {
   "cell_type": "code",
   "execution_count": 9,
   "metadata": {},
   "outputs": [
    {
     "name": "stdout",
     "output_type": "stream",
     "text": [
      "input dim: 1\n",
      "output dim: 1\n",
      "nb of train samples: 120\n"
     ]
    }
   ],
   "source": [
    "#toy datasets : ['foong','foong_sparse', 'foong_mixed','foong2d']\n",
    "#UCI datasets: ['boston','concrete', 'energy', 'powerplant',  'wine', 'yacht', 'protein', 'navalC']\n",
    "dataset='foong' \n",
    "\n",
    "setup_ = get_setup(dataset) #get a module\n",
    "setup=setup_.Setup(device) #get an object\n",
    "\n",
    "x_train, y_train=setup.train_data() #scaled_data\n",
    "x_test, y_test=setup.test_data()\n",
    "input_dim=x_train.shape[1]\n",
    "output_dim=y_train.shape[1]\n",
    "print('input dim: {}'.format(input_dim))\n",
    "print('output dim: {}'.format(output_dim))\n",
    "print('nb of train samples: {}'.format(len(x_train)))\n",
    "\n",
    "#scalar used to scale the train target to have std=1\n",
    "std_y_train = torch.tensor(1.)\n",
    "if hasattr(setup, '_scaler_y'):\n",
    "    print('scaler target: {}'.format(setup._scaler_y.scale_.item()))\n",
    "    std_y_train=torch.tensor(setup._scaler_y.scale_, device=device).squeeze().float()"
   ]
  },
  {
   "cell_type": "markdown",
   "metadata": {},
   "source": [
    "# Predictive model #"
   ]
  },
  {
   "cell_type": "code",
   "execution_count": 10,
   "metadata": {},
   "outputs": [],
   "source": [
    "#predictive model\n",
    "layerwidth=50\n",
    "nblayers=1\n",
    "activation=nn.ReLU()\n",
    "\n"
   ]
  },
  {
   "cell_type": "markdown",
   "metadata": {},
   "source": [
    "# Results on test #"
   ]
  },
  {
   "cell_type": "code",
   "execution_count": 20,
   "metadata": {},
   "outputs": [
    {
     "data": {
      "text/plain": [
       "{'RMSE': (0.7325465679168701, 0.9821411967277527),\n",
       " 'LPP': (-1.3667142391204834, 0.2508379817008972),\n",
       " 'PICP': 1.0,\n",
       " 'MPIW': 3.7475361824035645}"
      ]
     },
     "execution_count": 20,
     "metadata": {},
     "output_type": "execute_result"
    }
   ],
   "source": [
    "\n",
    "#example\n",
    "nb_predictors=100\n",
    "nb_test_points=5\n",
    "\n",
    "y_pred=torch.randn(100,5,1) #nb_predictors x nb_tests x 1\n",
    "\n",
    "sigma_noise=0.5+torch.rand(100,5,1) #nb_predictors x nb_tests x 1 if heteroscedastic\n",
    "#sigma_noise=0.5+torch.rand(100,1,1) #nb_predictors x 1 x 1 if homeoscedastic depending on predictors\n",
    "#sigma_noise=0.5+torch.rand(1,1,1) # 1 x 1 x 1 if homeoscedastic uniform on predictors\n",
    "\n",
    "y_test=2*torch.randn(5,1)\n",
    "\n",
    "#calculate metrics\n",
    "#(RMSE, sqrt(std on test)), \n",
    "#(LPP (loglikelihood), std on test), (bigger is better)\n",
    "# PICP Predictive Interval Covering Probability (theoretical best value 0.95)\n",
    "# MPIW, Mean Predictive Interval Width (smaller is better)\n",
    "evaluate_metrics(y_pred,sigma_noise, y_test, std_y_train, device='cpu', std=True)"
   ]
  },
  {
   "cell_type": "code",
   "execution_count": null,
   "metadata": {},
   "outputs": [],
   "source": []
  },
  {
   "cell_type": "code",
   "execution_count": null,
   "metadata": {},
   "outputs": [],
   "source": []
  }
 ],
 "metadata": {
  "kernelspec": {
   "display_name": "Python 3",
   "language": "python",
   "name": "python3"
  },
  "language_info": {
   "codemirror_mode": {
    "name": "ipython",
    "version": 3
   },
   "file_extension": ".py",
   "mimetype": "text/x-python",
   "name": "python",
   "nbconvert_exporter": "python",
   "pygments_lexer": "ipython3",
   "version": "3.8.3"
  }
 },
 "nbformat": 4,
 "nbformat_minor": 4
}
