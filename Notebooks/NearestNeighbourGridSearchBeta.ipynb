{
 "cells": [
  {
   "cell_type": "code",
   "execution_count": 2,
   "metadata": {},
   "outputs": [
    {
     "name": "stdout",
     "output_type": "stream",
     "text": [
      "/home/yann/IVISpaces\n"
     ]
    }
   ],
   "source": [
    "cd .."
   ]
  },
  {
   "cell_type": "code",
   "execution_count": 3,
   "metadata": {},
   "outputs": [],
   "source": [
    "from torch import nn\n",
    "\n",
    "import torch\n",
    "import seaborn as sn\n",
    "import matplotlib.pyplot as plt\n",
    "from tqdm import trange\n",
    "\n",
    "from Metrics.SSGE import SpectralSteinEstimator\n",
    "from Metrics.KLdivergence import KL\n",
    "from Tools import NormalLogLikelihood\n",
    "\n",
    "from torch.distributions import MultivariateNormal"
   ]
  },
  {
   "cell_type": "code",
   "execution_count": 28,
   "metadata": {},
   "outputs": [
    {
     "data": {
      "text/plain": [
       "device(type='cuda', index=0)"
      ]
     },
     "execution_count": 28,
     "metadata": {},
     "output_type": "execute_result"
    }
   ],
   "source": [
    "device = torch.device('cuda:0' if torch.cuda.is_available() else 'cpu')\n",
    "device"
   ]
  },
  {
   "cell_type": "markdown",
   "metadata": {},
   "source": [
    "# beta in NN estimation of KL #\n",
    "nb_samples= 100\n",
    "\n",
    "experimentation on multivariate gaussian \n",
    "\n",
    "|dimension|beta|\n",
    "|---|---|\n",
    "|2|0.95|\n",
    "|3|0.9|\n",
    "|4|0.85|\n",
    "|5| 0.8|\n",
    "|10|0.7|\n",
    "|20|0.64|\n",
    "|30| 0.61|\n",
    "|40| 0.59|\n",
    "|50|0.583|\n",
    "|100|0.56|\n",
    "|150|0.545|\n",
    "|200|0.54|\n",
    "|300|0.53|\n",
    "|500|0.525|\n",
    "|1000|0.52|\n"
   ]
  },
  {
   "cell_type": "markdown",
   "metadata": {},
   "source": [
    "# Grid search #"
   ]
  },
  {
   "cell_type": "code",
   "execution_count": 37,
   "metadata": {},
   "outputs": [
    {
     "name": "stdout",
     "output_type": "stream",
     "text": [
      "tensor(2.6886, device='cuda:0')\n"
     ]
    }
   ],
   "source": [
    "n_samples=500\n",
    "N=151\n",
    "true_p=1.*torch.ones(N,device=device)\n",
    "true_q=torch.zeros(N,device=device)\n",
    "target = MultivariateNormal(true_q,torch.diagflat(true_p))\n",
    "\n",
    "learning_rate=0.05\n",
    "patience=25\n",
    "lr_decay=0.5\n",
    "min_lr=0.05/8\n",
    "\n",
    "class MeanField(nn.Module):\n",
    "    def __init__(self,dim):        \n",
    "        super(MeanField, self).__init__()\n",
    "        self.p = torch.nn.Parameter(torch.Tensor(dim))\n",
    "        self.q = torch.nn.Parameter(torch.Tensor(dim))\n",
    "        self.dim=dim\n",
    "        \n",
    "        torch.nn.init.uniform_(self.p,a=0.1, b=5.)\n",
    "        torch.nn.init.normal_(self.q,mean=0., std=5.)\n",
    "\n",
    "    def forward(self,x):\n",
    "        assert x.shape[1] == self.dim, 'dimension mismatch'\n",
    "        return self.p*x+self.q\n",
    "\n",
    "def run(n_samples,N,beta,repeat):\n",
    "    \n",
    "    \n",
    "    params={'p':[],'q':[]}\n",
    "    for r in range(repeat):\n",
    "        variational=MeanField(N).to(device) \n",
    "        optimizer = torch.optim.Adam(variational.parameters(), lr=learning_rate)\n",
    "        scheduler = torch.optim.lr_scheduler.ReduceLROnPlateau(optimizer, \n",
    "                                                           patience=patience, \n",
    "                                                           factor=lr_decay,\n",
    "                                                           verbose=False)\n",
    "        for _ in range(3000):\n",
    "            optimizer.zero_grad()\n",
    "\n",
    "            x=torch.randn(n_samples,N).to(device)\n",
    "\n",
    "            n_samples=x.shape[0]\n",
    "            sample=variational(x)\n",
    "\n",
    "            K=KL(sample.view(-1,N),target.sample((n_samples,)),k=1,beta=beta)\n",
    "            K.backward()\n",
    "\n",
    "            optimizer.step()\n",
    "\n",
    "            scheduler.step(K.item())\n",
    "\n",
    "            if optimizer.param_groups[0]['lr'] <= min_lr:\n",
    "                break\n",
    "        params['p'].append(variational.p.data.clone().cpu().numpy())\n",
    "        params['q'].append(variational.q.data.clone().cpu().numpy())\n",
    "    return {beta:params}\n",
    "\n",
    "\n",
    "def meanlogKNNdistance(p,q,k):\n",
    "    x=torch.randn(n_samples,p.shape[0]).to(p.device)\n",
    "    sample=p*x+q\n",
    "    distances= torch.cdist(sample, sample, p=2)\n",
    "    kNN = torch.topk(distances, k=k + 1, dim=1, largest=False, sorted=True)[0][:,k]  # .clamp(torch.finfo().eps,float('inf\n",
    "    return kNN.log().mean()\n",
    "true_meankNN=meanlogKNNdistance(true_p,true_q,k=1)\n",
    "print(true_meankNN)"
   ]
  },
  {
   "cell_type": "code",
   "execution_count": 29,
   "metadata": {},
   "outputs": [],
   "source": [
    "betas=torch.linspace(0.1,1.,20).numpy()\n",
    "params={'beta':betas}"
   ]
  },
  {
   "cell_type": "code",
   "execution_count": 30,
   "metadata": {},
   "outputs": [
    {
     "name": "stderr",
     "output_type": "stream",
     "text": [
      "100%|██████████| 20/20 [03:46<00:00, 11.32s/it]\n"
     ]
    }
   ],
   "source": [
    "import pandas as pd\n",
    "\n",
    "results={}\n",
    "for i in trange(len(betas)):\n",
    "    results.update(run(n_samples,N,betas[i],10))\n",
    "\n",
    "        "
   ]
  },
  {
   "cell_type": "code",
   "execution_count": 31,
   "metadata": {},
   "outputs": [
    {
     "data": {
      "text/html": [
       "<div>\n",
       "<style scoped>\n",
       "    .dataframe tbody tr th:only-of-type {\n",
       "        vertical-align: middle;\n",
       "    }\n",
       "\n",
       "    .dataframe tbody tr th {\n",
       "        vertical-align: top;\n",
       "    }\n",
       "\n",
       "    .dataframe thead th {\n",
       "        text-align: right;\n",
       "    }\n",
       "</style>\n",
       "<table border=\"1\" class=\"dataframe\">\n",
       "  <thead>\n",
       "    <tr style=\"text-align: right;\">\n",
       "      <th></th>\n",
       "      <th>p</th>\n",
       "      <th>q</th>\n",
       "    </tr>\n",
       "  </thead>\n",
       "  <tbody>\n",
       "    <tr>\n",
       "      <th>0.100000</th>\n",
       "      <td>[[0.24500905, -0.28656283, 0.37925953, -0.3007...</td>\n",
       "      <td>[[0.124086246, -0.03490995, -0.7485944, 0.0601...</td>\n",
       "    </tr>\n",
       "    <tr>\n",
       "      <th>0.147368</th>\n",
       "      <td>[[0.38597113, 0.47018325, 0.40582278, 0.393737...</td>\n",
       "      <td>[[-0.029641524, 0.057839975, -0.09137216, -0.1...</td>\n",
       "    </tr>\n",
       "    <tr>\n",
       "      <th>0.194737</th>\n",
       "      <td>[[0.46661726, 0.40538657, 0.4914628, 0.498222,...</td>\n",
       "      <td>[[0.12685046, -0.080772966, 0.10547446, 0.0695...</td>\n",
       "    </tr>\n",
       "    <tr>\n",
       "      <th>0.242105</th>\n",
       "      <td>[[0.5640105, 0.5667021, 0.5546692, 0.5031443, ...</td>\n",
       "      <td>[[-0.016365407, -0.030915847, 0.0006196034, -0...</td>\n",
       "    </tr>\n",
       "    <tr>\n",
       "      <th>0.289474</th>\n",
       "      <td>[[0.56609166, 0.5957468, 0.5713195, 0.61101127...</td>\n",
       "      <td>[[-0.044217896, 0.023469893, 0.031948786, 0.02...</td>\n",
       "    </tr>\n",
       "    <tr>\n",
       "      <th>0.336842</th>\n",
       "      <td>[[0.64050794, 0.63090193, 0.6578229, 0.6539200...</td>\n",
       "      <td>[[0.014497279, -0.03040403, 0.03190454, -0.034...</td>\n",
       "    </tr>\n",
       "    <tr>\n",
       "      <th>0.384210</th>\n",
       "      <td>[[0.7805557, 0.7298221, 0.72097105, 0.7220468,...</td>\n",
       "      <td>[[0.008480121, 0.0014149327, 0.014050237, -0.0...</td>\n",
       "    </tr>\n",
       "    <tr>\n",
       "      <th>0.431579</th>\n",
       "      <td>[[0.7866025, 0.8018998, 0.771992, 0.82509875, ...</td>\n",
       "      <td>[[0.01260517, 0.017530734, -0.0189053, 0.00483...</td>\n",
       "    </tr>\n",
       "    <tr>\n",
       "      <th>0.478947</th>\n",
       "      <td>[[0.8950107, 0.8886342, 0.81821305, 0.87975144...</td>\n",
       "      <td>[[-0.0005792646, -0.017022856, 0.039210565, -0...</td>\n",
       "    </tr>\n",
       "    <tr>\n",
       "      <th>0.526316</th>\n",
       "      <td>[[0.9563053, 0.9067058, 0.97999954, 0.9172024,...</td>\n",
       "      <td>[[-0.003575628, -0.012159646, 0.027695417, 0.0...</td>\n",
       "    </tr>\n",
       "    <tr>\n",
       "      <th>0.573684</th>\n",
       "      <td>[[1.0569553, 1.0594169, 1.0021644, 1.0835062, ...</td>\n",
       "      <td>[[-0.051766112, 0.031969775, 0.007208319, 0.00...</td>\n",
       "    </tr>\n",
       "    <tr>\n",
       "      <th>0.621053</th>\n",
       "      <td>[[1.0742782, 1.1112723, 1.1410043, 1.0877267, ...</td>\n",
       "      <td>[[0.009991613, 0.009060584, 0.0448843, -0.0254...</td>\n",
       "    </tr>\n",
       "    <tr>\n",
       "      <th>0.668421</th>\n",
       "      <td>[[1.2548183, 1.2076632, 1.213863, 1.202696, 1....</td>\n",
       "      <td>[[-0.010146958, -0.006481277, 0.00573696, 0.05...</td>\n",
       "    </tr>\n",
       "    <tr>\n",
       "      <th>0.715789</th>\n",
       "      <td>[[1.3576748, 1.3703085, 1.3425918, 1.33139, 1....</td>\n",
       "      <td>[[0.007164953, 0.007724847, 0.0014216213, -0.0...</td>\n",
       "    </tr>\n",
       "    <tr>\n",
       "      <th>0.763158</th>\n",
       "      <td>[[1.465225, 1.5488216, 1.4930217, 1.4750291, 1...</td>\n",
       "      <td>[[-0.004720961, -0.03112758, 0.0035639044, 0.0...</td>\n",
       "    </tr>\n",
       "    <tr>\n",
       "      <th>0.810526</th>\n",
       "      <td>[[1.6025338, 1.6438372, 1.6309129, 1.6193303, ...</td>\n",
       "      <td>[[0.0042358227, 0.034572165, 0.017767336, -0.0...</td>\n",
       "    </tr>\n",
       "    <tr>\n",
       "      <th>0.857895</th>\n",
       "      <td>[[1.8815475, 1.9349852, 1.8529007, 1.8821193, ...</td>\n",
       "      <td>[[0.056194678, 0.042137396, 0.006518671, -0.01...</td>\n",
       "    </tr>\n",
       "    <tr>\n",
       "      <th>0.905263</th>\n",
       "      <td>[[2.1828458, 2.149021, 2.1622562, 2.1711376, 2...</td>\n",
       "      <td>[[0.004941631, -0.06659773, 0.006938017, 0.042...</td>\n",
       "    </tr>\n",
       "    <tr>\n",
       "      <th>0.952632</th>\n",
       "      <td>[[3.0147915, 3.1172822, 3.0088434, 2.9920318, ...</td>\n",
       "      <td>[[-0.00012561749, 0.017853819, 0.008598349, 0....</td>\n",
       "    </tr>\n",
       "    <tr>\n",
       "      <th>1.000000</th>\n",
       "      <td>[[6.3667946, 6.1834025, 6.2998004, 6.519507, 6...</td>\n",
       "      <td>[[0.062297367, -0.023075908, 0.026286714, 0.01...</td>\n",
       "    </tr>\n",
       "  </tbody>\n",
       "</table>\n",
       "</div>"
      ],
      "text/plain": [
       "                                                          p  \\\n",
       "0.100000  [[0.24500905, -0.28656283, 0.37925953, -0.3007...   \n",
       "0.147368  [[0.38597113, 0.47018325, 0.40582278, 0.393737...   \n",
       "0.194737  [[0.46661726, 0.40538657, 0.4914628, 0.498222,...   \n",
       "0.242105  [[0.5640105, 0.5667021, 0.5546692, 0.5031443, ...   \n",
       "0.289474  [[0.56609166, 0.5957468, 0.5713195, 0.61101127...   \n",
       "0.336842  [[0.64050794, 0.63090193, 0.6578229, 0.6539200...   \n",
       "0.384210  [[0.7805557, 0.7298221, 0.72097105, 0.7220468,...   \n",
       "0.431579  [[0.7866025, 0.8018998, 0.771992, 0.82509875, ...   \n",
       "0.478947  [[0.8950107, 0.8886342, 0.81821305, 0.87975144...   \n",
       "0.526316  [[0.9563053, 0.9067058, 0.97999954, 0.9172024,...   \n",
       "0.573684  [[1.0569553, 1.0594169, 1.0021644, 1.0835062, ...   \n",
       "0.621053  [[1.0742782, 1.1112723, 1.1410043, 1.0877267, ...   \n",
       "0.668421  [[1.2548183, 1.2076632, 1.213863, 1.202696, 1....   \n",
       "0.715789  [[1.3576748, 1.3703085, 1.3425918, 1.33139, 1....   \n",
       "0.763158  [[1.465225, 1.5488216, 1.4930217, 1.4750291, 1...   \n",
       "0.810526  [[1.6025338, 1.6438372, 1.6309129, 1.6193303, ...   \n",
       "0.857895  [[1.8815475, 1.9349852, 1.8529007, 1.8821193, ...   \n",
       "0.905263  [[2.1828458, 2.149021, 2.1622562, 2.1711376, 2...   \n",
       "0.952632  [[3.0147915, 3.1172822, 3.0088434, 2.9920318, ...   \n",
       "1.000000  [[6.3667946, 6.1834025, 6.2998004, 6.519507, 6...   \n",
       "\n",
       "                                                          q  \n",
       "0.100000  [[0.124086246, -0.03490995, -0.7485944, 0.0601...  \n",
       "0.147368  [[-0.029641524, 0.057839975, -0.09137216, -0.1...  \n",
       "0.194737  [[0.12685046, -0.080772966, 0.10547446, 0.0695...  \n",
       "0.242105  [[-0.016365407, -0.030915847, 0.0006196034, -0...  \n",
       "0.289474  [[-0.044217896, 0.023469893, 0.031948786, 0.02...  \n",
       "0.336842  [[0.014497279, -0.03040403, 0.03190454, -0.034...  \n",
       "0.384210  [[0.008480121, 0.0014149327, 0.014050237, -0.0...  \n",
       "0.431579  [[0.01260517, 0.017530734, -0.0189053, 0.00483...  \n",
       "0.478947  [[-0.0005792646, -0.017022856, 0.039210565, -0...  \n",
       "0.526316  [[-0.003575628, -0.012159646, 0.027695417, 0.0...  \n",
       "0.573684  [[-0.051766112, 0.031969775, 0.007208319, 0.00...  \n",
       "0.621053  [[0.009991613, 0.009060584, 0.0448843, -0.0254...  \n",
       "0.668421  [[-0.010146958, -0.006481277, 0.00573696, 0.05...  \n",
       "0.715789  [[0.007164953, 0.007724847, 0.0014216213, -0.0...  \n",
       "0.763158  [[-0.004720961, -0.03112758, 0.0035639044, 0.0...  \n",
       "0.810526  [[0.0042358227, 0.034572165, 0.017767336, -0.0...  \n",
       "0.857895  [[0.056194678, 0.042137396, 0.006518671, -0.01...  \n",
       "0.905263  [[0.004941631, -0.06659773, 0.006938017, 0.042...  \n",
       "0.952632  [[-0.00012561749, 0.017853819, 0.008598349, 0....  \n",
       "1.000000  [[0.062297367, -0.023075908, 0.026286714, 0.01...  "
      ]
     },
     "execution_count": 31,
     "metadata": {},
     "output_type": "execute_result"
    }
   ],
   "source": [
    "frame=pd.DataFrame(results).T\n",
    "frame"
   ]
  },
  {
   "cell_type": "code",
   "execution_count": 32,
   "metadata": {},
   "outputs": [
    {
     "name": "stdout",
     "output_type": "stream",
     "text": [
      "1/20\n",
      "2/20\n",
      "3/20\n",
      "4/20\n",
      "5/20\n",
      "6/20\n",
      "7/20\n",
      "8/20\n",
      "9/20\n",
      "10/20\n",
      "11/20\n",
      "12/20\n",
      "13/20\n",
      "14/20\n",
      "15/20\n",
      "16/20\n",
      "17/20\n",
      "18/20\n",
      "19/20\n",
      "20/20\n"
     ]
    }
   ],
   "source": [
    "import numpy as np\n",
    "columns=list(betas)\n",
    "\n",
    "results_errors=[]\n",
    "for i in range(len(betas)):\n",
    "    print(\"{}/{}\".format(i+1,len(betas)))\n",
    "    ps=frame['p'][betas[i]]\n",
    "    qs=frame['q'][betas[i]]\n",
    "    for j in range(len(ps)): \n",
    "        posterior=MultivariateNormal(torch.as_tensor(qs[j]).to(device),torch.diagflat(torch.as_tensor(ps[j]).abs()).to(device))\n",
    "        kls_to=torch.distributions.kl.kl_divergence(posterior,target).item()\n",
    "        kls_from=torch.distributions.kl.kl_divergence(target,posterior).item()\n",
    "        q_errors=(torch.as_tensor(qs[j]).to(device) -true_q).norm().square().item()\n",
    "        p_errors=(torch.as_tensor(ps[j]).to(device) -true_p).norm().square().item()\n",
    "        meanNNd=meanlogKNNdistance(torch.as_tensor(ps[j]).to(device),torch.as_tensor(qs[j]).to(device),1)-true_meankNN\n",
    "        results_errors.append({'beta':np.round(betas[i],2),'KL_to': kls_to,'KL_from': kls_from, 'p_errors': p_errors, 'q_errors': q_errors, 'meankNNdist':meanNNd.item()})\n",
    "   # results[betas[i]].update({'KL_from': kls_from})\n",
    "   # results[betas[i]].update({'p_errors': p_errors})\n",
    "   # results[betas[i]].update({'q_errors': q_errors})"
   ]
  },
  {
   "cell_type": "code",
   "execution_count": 33,
   "metadata": {},
   "outputs": [
    {
     "data": {
      "text/html": [
       "<div>\n",
       "<style scoped>\n",
       "    .dataframe tbody tr th:only-of-type {\n",
       "        vertical-align: middle;\n",
       "    }\n",
       "\n",
       "    .dataframe tbody tr th {\n",
       "        vertical-align: top;\n",
       "    }\n",
       "\n",
       "    .dataframe thead th {\n",
       "        text-align: right;\n",
       "    }\n",
       "</style>\n",
       "<table border=\"1\" class=\"dataframe\">\n",
       "  <thead>\n",
       "    <tr style=\"text-align: right;\">\n",
       "      <th></th>\n",
       "      <th>beta</th>\n",
       "      <th>KL_to</th>\n",
       "      <th>KL_from</th>\n",
       "      <th>p_errors</th>\n",
       "      <th>q_errors</th>\n",
       "      <th>meankNNdist</th>\n",
       "    </tr>\n",
       "  </thead>\n",
       "  <tbody>\n",
       "    <tr>\n",
       "      <th>192</th>\n",
       "      <td>1.00</td>\n",
       "      <td>320.032867</td>\n",
       "      <td>84.270424</td>\n",
       "      <td>5117.053711</td>\n",
       "      <td>51.082325</td>\n",
       "      <td>1.924901</td>\n",
       "    </tr>\n",
       "    <tr>\n",
       "      <th>197</th>\n",
       "      <td>1.00</td>\n",
       "      <td>288.760559</td>\n",
       "      <td>79.709808</td>\n",
       "      <td>4596.711914</td>\n",
       "      <td>27.488874</td>\n",
       "      <td>1.872180</td>\n",
       "    </tr>\n",
       "    <tr>\n",
       "      <th>198</th>\n",
       "      <td>1.00</td>\n",
       "      <td>278.212524</td>\n",
       "      <td>78.108719</td>\n",
       "      <td>4429.534668</td>\n",
       "      <td>19.333008</td>\n",
       "      <td>1.856091</td>\n",
       "    </tr>\n",
       "    <tr>\n",
       "      <th>190</th>\n",
       "      <td>1.00</td>\n",
       "      <td>283.436279</td>\n",
       "      <td>78.942581</td>\n",
       "      <td>4382.546875</td>\n",
       "      <td>33.550377</td>\n",
       "      <td>1.857120</td>\n",
       "    </tr>\n",
       "    <tr>\n",
       "      <th>193</th>\n",
       "      <td>1.00</td>\n",
       "      <td>274.838623</td>\n",
       "      <td>77.584213</td>\n",
       "      <td>4369.793945</td>\n",
       "      <td>17.245495</td>\n",
       "      <td>1.857053</td>\n",
       "    </tr>\n",
       "    <tr>\n",
       "      <th>...</th>\n",
       "      <td>...</td>\n",
       "      <td>...</td>\n",
       "      <td>...</td>\n",
       "      <td>...</td>\n",
       "      <td>...</td>\n",
       "      <td>...</td>\n",
       "    </tr>\n",
       "    <tr>\n",
       "      <th>103</th>\n",
       "      <td>0.57</td>\n",
       "      <td>0.137955</td>\n",
       "      <td>0.132614</td>\n",
       "      <td>0.344448</td>\n",
       "      <td>0.110976</td>\n",
       "      <td>0.032783</td>\n",
       "    </tr>\n",
       "    <tr>\n",
       "      <th>108</th>\n",
       "      <td>0.57</td>\n",
       "      <td>0.139137</td>\n",
       "      <td>0.133820</td>\n",
       "      <td>0.338586</td>\n",
       "      <td>0.116235</td>\n",
       "      <td>0.036696</td>\n",
       "    </tr>\n",
       "    <tr>\n",
       "      <th>102</th>\n",
       "      <td>0.57</td>\n",
       "      <td>0.140776</td>\n",
       "      <td>0.135309</td>\n",
       "      <td>0.308815</td>\n",
       "      <td>0.133776</td>\n",
       "      <td>0.040175</td>\n",
       "    </tr>\n",
       "    <tr>\n",
       "      <th>100</th>\n",
       "      <td>0.57</td>\n",
       "      <td>0.127320</td>\n",
       "      <td>0.123207</td>\n",
       "      <td>0.294975</td>\n",
       "      <td>0.112936</td>\n",
       "      <td>0.037324</td>\n",
       "    </tr>\n",
       "    <tr>\n",
       "      <th>105</th>\n",
       "      <td>0.57</td>\n",
       "      <td>0.140097</td>\n",
       "      <td>0.135484</td>\n",
       "      <td>0.293394</td>\n",
       "      <td>0.138961</td>\n",
       "      <td>0.035237</td>\n",
       "    </tr>\n",
       "  </tbody>\n",
       "</table>\n",
       "<p>200 rows × 6 columns</p>\n",
       "</div>"
      ],
      "text/plain": [
       "     beta       KL_to    KL_from     p_errors   q_errors  meankNNdist\n",
       "192  1.00  320.032867  84.270424  5117.053711  51.082325     1.924901\n",
       "197  1.00  288.760559  79.709808  4596.711914  27.488874     1.872180\n",
       "198  1.00  278.212524  78.108719  4429.534668  19.333008     1.856091\n",
       "190  1.00  283.436279  78.942581  4382.546875  33.550377     1.857120\n",
       "193  1.00  274.838623  77.584213  4369.793945  17.245495     1.857053\n",
       "..    ...         ...        ...          ...        ...          ...\n",
       "103  0.57    0.137955   0.132614     0.344448   0.110976     0.032783\n",
       "108  0.57    0.139137   0.133820     0.338586   0.116235     0.036696\n",
       "102  0.57    0.140776   0.135309     0.308815   0.133776     0.040175\n",
       "100  0.57    0.127320   0.123207     0.294975   0.112936     0.037324\n",
       "105  0.57    0.140097   0.135484     0.293394   0.138961     0.035237\n",
       "\n",
       "[200 rows x 6 columns]"
      ]
     },
     "execution_count": 33,
     "metadata": {},
     "output_type": "execute_result"
    }
   ],
   "source": [
    "columns=['beta','KL_to','KL_from', 'p_errors', 'q_errors','meankNNdist']\n",
    "errors=pd.DataFrame(results_errors, columns=columns)\n",
    "errors.sort_values(['p_errors'], ascending=False)"
   ]
  },
  {
   "cell_type": "code",
   "execution_count": 34,
   "metadata": {},
   "outputs": [
    {
     "data": {
      "image/png": "[encoded data removed]",
      "text/plain": [
       "<Figure size 432x288 with 1 Axes>"
      ]
     },
     "metadata": {
      "needs_background": "light"
     },
     "output_type": "display_data"
    }
   ],
   "source": [
    "import seaborn as sns\n",
    "ax=sns.lineplot('beta','KL_to', data=errors)\n",
    "ax=sns.lineplot('beta','KL_from', data=errors)\n",
    "\n",
    "#plt.xticks(betas)\n",
    "#xlabels = np.round(betas,2)#[str(np.round(x*betas.max()/len(betas),2))  for x in ax.get_xticks()]\n",
    "#ax.set_xticklabels(xlabels)\n"
   ]
  },
  {
   "cell_type": "code",
   "execution_count": 35,
   "metadata": {},
   "outputs": [
    {
     "data": {
      "text/plain": [
       "[<matplotlib.lines.Line2D at 0x7ff24e07c5e0>]"
      ]
     },
     "execution_count": 35,
     "metadata": {},
     "output_type": "execute_result"
    },
    {
     "data": {
      "image/png": "[encoded data removed]",
      "text/plain": [
       "<Figure size 432x288 with 1 Axes>"
      ]
     },
     "metadata": {
      "needs_background": "light"
     },
     "output_type": "display_data"
    }
   ],
   "source": [
    "ax=sns.lineplot('beta','meankNNdist', data=errors)\n",
    "plt.plot(betas,torch.zeros(len(betas)))\n",
    "\n"
   ]
  },
  {
   "cell_type": "code",
   "execution_count": 36,
   "metadata": {},
   "outputs": [
    {
     "data": {
      "image/png": "[encoded data removed]",
      "text/plain": [
       "<Figure size 432x288 with 1 Axes>"
      ]
     },
     "metadata": {
      "needs_background": "light"
     },
     "output_type": "display_data"
    }
   ],
   "source": [
    "\n",
    "ax=sns.lineplot('beta',np.sqrt(errors['p_errors']), data=errors, label='errors on scale')\n",
    "ax=sns.lineplot('beta',np.sqrt(errors['q_errors']), data=errors, label='errors on mode')\n",
    "\n",
    "plt.title('RMSE')\n",
    "plt.show()"
   ]
  },
  {
   "cell_type": "markdown",
   "metadata": {},
   "source": [
    "# SSGE #"
   ]
  },
  {
   "cell_type": "code",
   "execution_count": 34,
   "metadata": {},
   "outputs": [],
   "source": [
    "\n",
    "from Metrics.SSGE import SpectralSteinEstimator\n",
    "\n",
    "n_samples=500\n",
    "N=151\n",
    "true_p=1.*torch.ones(N,device=device)\n",
    "true_q=torch.zeros(N,device=device)\n",
    "target = MultivariateNormal(true_q,torch.diagflat(true_p))\n",
    "\n",
    "lr=0.05\n",
    "patience=25\n",
    "lr_decay=0.5\n",
    "min_lr=0.05/8\n",
    "\n",
    "class MeanField(nn.Module):\n",
    "    def __init__(self,dim):        \n",
    "        super(MeanField, self).__init__()\n",
    "        self.p = torch.nn.Parameter(torch.Tensor(dim))\n",
    "        self.q = torch.nn.Parameter(torch.Tensor(dim))\n",
    "        self.dim=dim\n",
    "        \n",
    "        torch.nn.init.uniform_(self.p,a=0.1, b=5.)\n",
    "        torch.nn.init.normal_(self.q,mean=0., std=5.)\n",
    "\n",
    "    def forward(self,x):\n",
    "        assert x.shape[1] == self.dim, 'dimension mismatch'\n",
    "        return self.p*x+self.q\n",
    "\n",
    "etas=torch.linspace(0.1,1.,10).numpy()\n",
    "    \n",
    "    \n",
    "def run(eta):\n",
    "    variational=MeanField(N).to(device) \n",
    "    for _ in range(2000):\n",
    "        x=torch.randn(n_samples,N).to(device)\n",
    "        sample=variational(x)\n",
    "\n",
    "        lp=-target.log_prob(sample).mean()\n",
    "        lp_grad_p=torch.autograd.grad(lp,variational.p,retain_graph=True)[0]\n",
    "        lp_grad_q=torch.autograd.grad(lp,variational.q,retain_graph=True)[0]\n",
    "\n",
    "\n",
    "        # Get the estimate of the score \n",
    "        score_estimator = SpectralSteinEstimator(eta=eta)\n",
    "        score = score_estimator(sample,sample)\n",
    "\n",
    "        #compute gradients with respect to parameters\n",
    "        H_grad_p = torch.autograd.grad(sample, variational.p,\n",
    "                              grad_outputs=score,\n",
    "                              retain_graph=True)[0]/n_samples\n",
    "        H_grad_q = torch.autograd.grad(sample, variational.q,\n",
    "                              grad_outputs=score,\n",
    "                              retain_graph=True)[0]/n_samples\n",
    "\n",
    "        variational.p.data.add_(-lr*(H_grad_p+lp_grad_p))\n",
    "        variational.q.data.add_(-lr*(H_grad_q+lp_grad_q))\n",
    "\n",
    "\n",
    "    posterior=MultivariateNormal(variational.q.detach(),torch.diagflat(variational.p.detach()))\n",
    "    kls_to=torch.distributions.kl.kl_divergence(posterior,target).item()\n",
    "    kls_from=torch.distributions.kl.kl_divergence(target,posterior).item()\n",
    "    q_errors=(variational.q.detach() -true_q).norm().square().item()\n",
    "    p_errors=(variational.p.detach() -true_p).norm().square().item()\n",
    "    results_errors={'KL_to': kls_to,'KL_from': kls_from, 'p_errors': p_errors, 'q_errors': q_errors}\n",
    "    return results_errors"
   ]
  },
  {
   "cell_type": "code",
   "execution_count": 36,
   "metadata": {},
   "outputs": [
    {
     "name": "stderr",
     "output_type": "stream",
     "text": [
      "\r",
      "  0%|          | 0/5 [00:00<?, ?it/s]"
     ]
    },
    {
     "name": "stdout",
     "output_type": "stream",
     "text": [
      "sigma(0):1/5\n"
     ]
    },
    {
     "name": "stderr",
     "output_type": "stream",
     "text": [
      "\r",
      " 20%|██        | 1/5 [05:56<23:44, 356.09s/it]"
     ]
    },
    {
     "name": "stdout",
     "output_type": "stream",
     "text": [
      "sigma(0):2/5\n"
     ]
    },
    {
     "name": "stderr",
     "output_type": "stream",
     "text": [
      "\r",
      " 40%|████      | 2/5 [11:49<17:46, 355.37s/it]"
     ]
    },
    {
     "name": "stdout",
     "output_type": "stream",
     "text": [
      "sigma(0):3/5\n"
     ]
    },
    {
     "name": "stderr",
     "output_type": "stream",
     "text": [
      "\r",
      " 60%|██████    | 3/5 [17:40<11:48, 354.04s/it]"
     ]
    },
    {
     "name": "stdout",
     "output_type": "stream",
     "text": [
      "sigma(0):4/5\n"
     ]
    },
    {
     "name": "stderr",
     "output_type": "stream",
     "text": [
      "\r",
      " 80%|████████  | 4/5 [23:35<05:54, 354.28s/it]"
     ]
    },
    {
     "name": "stdout",
     "output_type": "stream",
     "text": [
      "sigma(0):5/5\n"
     ]
    },
    {
     "name": "stderr",
     "output_type": "stream",
     "text": [
      "100%|██████████| 5/5 [29:31<00:00, 354.28s/it]\n"
     ]
    }
   ],
   "source": [
    "gs_results=[]\n",
    "repeat=5\n",
    "#for i in range(len(etas)):\n",
    "for r in trange(repeat):\n",
    "    print('sigma({}):{}/{}'.format(i,r+1,repeat))\n",
    "    gs_results.append(run(0.0))"
   ]
  },
  {
   "cell_type": "code",
   "execution_count": null,
   "metadata": {},
   "outputs": [],
   "source": [
    "errors=pd.DataFrame(gs_results)"
   ]
  }
 ],
 "metadata": {
  "kernelspec": {
   "display_name": "Python 3",
   "language": "python",
   "name": "python3"
  },
  "language_info": {
   "codemirror_mode": {
    "name": "ipython",
    "version": 3
   },
   "file_extension": ".py",
   "mimetype": "text/x-python",
   "name": "python",
   "nbconvert_exporter": "python",
   "pygments_lexer": "ipython3",
   "version": "3.8.3"
  }
 },
 "nbformat": 4,
 "nbformat_minor": 4
}
