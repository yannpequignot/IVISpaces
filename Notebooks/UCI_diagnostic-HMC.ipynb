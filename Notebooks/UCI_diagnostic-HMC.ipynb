{
 "cells": [
  {
   "cell_type": "code",
   "execution_count": 1,
   "metadata": {},
   "outputs": [
    {
     "name": "stdout",
     "output_type": "stream",
     "text": [
      "/home/yann/IVISpaces\n"
     ]
    }
   ],
   "source": [
    "cd .."
   ]
  },
  {
   "cell_type": "code",
   "execution_count": 2,
   "metadata": {},
   "outputs": [],
   "source": [
    "import numpy as np\n",
    "import math\n",
    "import torch\n",
    "from torch import nn\n",
    "\n",
    "import pandas as pd\n",
    "\n",
    "from datetime import datetime\n",
    "\n",
    "from torch.utils.data import Dataset\n",
    "\n",
    "from Models import get_mlp, BigGenerator, MeanFieldVariationalDistribution, GaussianProcess\n",
    "from Tools import AverageNormalLogLikelihood, logmvn01pdf\n",
    "from Metrics import KL, evaluate_metrics, Entropy\n",
    "\n",
    "from Experiments import get_setup\n",
    "\n",
    "from Inference.IVI_noise import IVI\n",
    "\n",
    "from tqdm import trange\n",
    "\n",
    "import timeit"
   ]
  },
  {
   "cell_type": "code",
   "execution_count": 3,
   "metadata": {},
   "outputs": [
    {
     "name": "stderr",
     "output_type": "stream",
     "text": [
      "/home/yann/anaconda3/envs/bnn/lib/python3.8/site-packages/ipykernel/ipkernel.py:287: DeprecationWarning: `should_run_async` will not call `transform_cell` automatically in the future. Please pass the result to `transformed_cell` argument and any exception that happen during thetransform in `preprocessing_exc_tuple` in IPython 7.17 and above.\n",
      "  and should_run_async(code)\n"
     ]
    }
   ],
   "source": [
    "## Hyperparameters ##\n",
    "\n",
    "#predictive model\n",
    "layerwidth=50\n",
    "nblayers=1\n",
    "activation=nn.ReLU()\n",
    "\n",
    "#generative model\n",
    "lat_dim=5\n",
    "\n",
    "#optimizer\n",
    "learning_rate=0.005\n",
    "\n",
    "#scheduler\n",
    "patience=30\n",
    "lr_decay=.7#.7\n",
    "min_lr= 0.0001\n",
    "n_epochs=2000#5000#2000\n",
    "\n",
    "\n",
    "#loss hyperparameters\n",
    "n_samples_LL=100 #nb of predictor samples for average LogLikelihood\n",
    "\n",
    "n_samples_KL=500 #nb of predictor samples for KL divergence\n",
    "kNNE=1 #k-nearest neighbour\n",
    "\n",
    "batch_size=50\n",
    "\n",
    "sigma_prior=.5# TO DO check with other experiments setup.sigma_prior    \n",
    "\n",
    "\n",
    "input_sampling='uniform' #'uniform', 'uniform+data'\n"
   ]
  },
  {
   "cell_type": "code",
   "execution_count": 7,
   "metadata": {},
   "outputs": [],
   "source": [
    "device = torch.device('cuda:0' if torch.cuda.is_available() else 'cpu')\n"
   ]
  },
  {
   "cell_type": "code",
   "execution_count": null,
   "metadata": {},
   "outputs": [],
   "source": []
  },
  {
   "cell_type": "code",
   "execution_count": 33,
   "metadata": {},
   "outputs": [],
   "source": [
    "input_sampling='uniform' #'uniform', 'uniform+data'\n",
    "\n",
    "def OOD_sampler(x_train,n_ood):\n",
    "    M = x_train.max(0, keepdim=True)[0]\n",
    "    m = x_train.min(0, keepdim=True)[0]\n",
    "    X = torch.rand(n_ood,x_train.shape[1]).to(device) * (M-m) + m                           \n",
    "    return X\n",
    "\n",
    "\n",
    "\n",
    "def FuNNeVI(dataset,device):\n",
    "\n",
    "    setup_ = get_setup(dataset)\n",
    "    setup=setup_.Setup(device) \n",
    "\n",
    "    x_train, y_train=setup.train_data()\n",
    "    x_test, y_test=setup.test_data()\n",
    "\n",
    "    std_y_train = torch.tensor(1.)\n",
    "    if hasattr(setup, '_scaler_y'):\n",
    "        std_y_train=torch.tensor(setup._scaler_y.scale_, device=device).squeeze().float()\n",
    "\n",
    "    train_dataset = torch.utils.data.TensorDataset(x_train, y_train)\n",
    "    size_data=len(train_dataset)\n",
    "    train_loader = torch.utils.data.DataLoader(train_dataset, batch_size=batch_size, shuffle=True)\n",
    "\n",
    "    ## predictive model\n",
    "    input_dim=x_train.shape[1]\n",
    "    param_count, model = get_mlp(input_dim, layerwidth, nblayers, activation)\n",
    "    \n",
    "    def prior(n):\n",
    "        return sigma_prior*torch.randn(size=(n,param_count), device=device)\n",
    "    \n",
    "\n",
    "    if input_sampling=='mixture':\n",
    "        def input_sampler(x_data):\n",
    "            n_ood=1\n",
    "            M = x_train.max(0, keepdim=True)[0]\n",
    "            m = x_train.min(0, keepdim=True)[0]\n",
    "            X_rand = torch.rand(n_ood,input_dim).to(device) * (M-m) + m                            \n",
    "            X=torch.cat([x_data,\\\n",
    "                         x_data+0.1*torch.randn_like(x_data),\\\n",
    "                         x_data+0.1*torch.randn_like(x_data),\\\n",
    "                         x_data+0.1*torch.randn_like(x_data),\n",
    "                         X_rand])   \n",
    "            return X\n",
    "    \n",
    "    if input_sampling=='uniform':\n",
    "        def input_sampler(x_data):\n",
    "            n_ood=200\n",
    "            M = x_train.max(0, keepdim=True)[0]\n",
    "            m = x_train.min(0, keepdim=True)[0]\n",
    "            X = torch.rand(n_ood,input_dim).to(device) * (M-m) + m                           \n",
    "            return X\n",
    "    \n",
    "    if input_sampling=='uniform+data':\n",
    "        def input_sampler(x_data,n_ood=150):\n",
    "            M = x_train.max(0, keepdim=True)[0]\n",
    "            m = x_train.min(0, keepdim=True)[0]\n",
    "            X_rand = torch.rand(n_ood,input_dim).to(device) * (M-m) + m                           \n",
    "            return torch.cat([x_data,X_rand])\n",
    "    \n",
    "    def projection(theta0,theta1, x_data):\n",
    "        X=input_sampler(x_data)\n",
    "        #compute projection on both paramters with model\n",
    "        theta0_proj=model(X, theta0).squeeze(2)\n",
    "        theta1_proj=model(X, theta1).squeeze(2)\n",
    "        return theta0_proj, theta1_proj\n",
    "\n",
    "    def kl(x_data, GeN):\n",
    "\n",
    "        theta=GeN(n_samples_KL) #variationnel\n",
    "        theta_prior=prior(n_samples_KL) #prior\n",
    "\n",
    "        theta_proj, theta_prior_proj = projection(theta, theta_prior,x_data)\n",
    "\n",
    "        K=KL(theta_proj, theta_prior_proj,k=kNNE,device=device)\n",
    "        return K\n",
    "    \n",
    "    \n",
    "    \n",
    "    def ELBO(x_data, y_data, GeN, _sigma_noise):\n",
    "        y_pred=model(x_data,GeN(n_samples_LL))\n",
    "        sigma_noise = torch.log(torch.exp(_sigma_noise) + 1.)\n",
    "\n",
    "        Average_LogLikelihood=AverageNormalLogLikelihood(y_pred, y_data, sigma_noise)\n",
    "        the_KL=kl(x_data, GeN)\n",
    "        the_ELBO= - Average_LogLikelihood+ (len(x_data)/size_data)* the_KL\n",
    "        return the_ELBO, the_KL, Average_LogLikelihood, sigma_noise\n",
    "\n",
    "    #generative model\n",
    "    GeN = BigGenerator(lat_dim,param_count,device).to(device)\n",
    "\n",
    "    ## Parametrize noise for learning aleatoric uncertainty\n",
    "    \n",
    "    _sigma_noise=torch.log(torch.tensor(setup.sigma_noise).exp()-1.).clone().to(device).detach().requires_grad_(False)\n",
    "    sigma_noise = torch.log(torch.exp(_sigma_noise) + 1.)\n",
    "\n",
    "    optimizer = torch.optim.Adam(list(GeN.parameters()), lr=learning_rate)\n",
    "    scheduler = torch.optim.lr_scheduler.ReduceLROnPlateau(optimizer, patience=patience, factor=lr_decay, min_lr=min_lr)\n",
    "\n",
    "    Run=IVI(train_loader, ELBO, optimizer)\n",
    "    \n",
    "    start = timeit.default_timer()\n",
    "    with trange(n_epochs) as tr:\n",
    "        tr.set_description(desc=dataset+'/FuNNeVI', refresh=False)\n",
    "        for t in tr:\n",
    "            \n",
    "            \n",
    "            scores=Run.run(GeN,_sigma_noise)\n",
    "\n",
    "            scheduler.step(scores['ELBO'])\n",
    "            tr.set_postfix(ELBO=scores['ELBO'], LogLike=scores['LL'], KL=scores['KL'], lr=scores['lr'], sigma=scores['sigma'])\n",
    "\n",
    "            if scores['lr'] <= 1e-4:\n",
    "                break\n",
    "    stop = timeit.default_timer()\n",
    "    time = stop - start\n",
    "    \n",
    "    \n",
    "    \n",
    "    theta=GeN(1000).detach()\n",
    "    return theta\n",
    "\n",
    "\n",
    "def GeNNeVI(dataset,device):\n",
    "\n",
    "    setup_ = get_setup(dataset)\n",
    "    setup=setup_.Setup(device) \n",
    "\n",
    "    x_train, y_train=setup.train_data()\n",
    "    x_test, y_test=setup.test_data()\n",
    "\n",
    "    std_y_train = torch.tensor(1.)\n",
    "    if hasattr(setup, '_scaler_y'):\n",
    "        std_y_train=torch.tensor(setup._scaler_y.scale_, device=device).squeeze().float()\n",
    "    \n",
    "    train_dataset = torch.utils.data.TensorDataset(x_train, y_train)\n",
    "    size_data=len(train_dataset)\n",
    "    train_loader = torch.utils.data.DataLoader(train_dataset, batch_size=batch_size, shuffle=True)\n",
    "\n",
    "  \n",
    "\n",
    "    ## predictive model\n",
    "    input_dim=x_train.shape[1]\n",
    "    param_count, model = get_mlp(input_dim, layerwidth, nblayers, activation)\n",
    "    \n",
    "    def prior(n):\n",
    "        return sigma_prior*torch.randn(size=(n,param_count), device=device)\n",
    "    \n",
    "    def kl(x_data, GeN):\n",
    "\n",
    "        theta=GeN(n_samples_KL) #variationnel\n",
    "        theta_prior=prior(n_samples_KL) #prior\n",
    "\n",
    "        K=KL(theta, theta_prior,k=kNNE,device=device)\n",
    "        return K\n",
    "    \n",
    "    def ELBO(x_data, y_data, GeN, _sigma_noise):\n",
    "        y_pred=model(x_data,GeN(n_samples_LL))\n",
    "        sigma_noise = torch.log(torch.exp(_sigma_noise) + 1.)\n",
    "\n",
    "        Average_LogLikelihood=AverageNormalLogLikelihood(y_pred, y_data, sigma_noise)\n",
    "        the_KL=kl(x_data, GeN)\n",
    "        the_ELBO= - Average_LogLikelihood+ (len(x_data)/size_data)* the_KL#(len(x_data)/size_data)*the_KL\n",
    "        return the_ELBO, the_KL, Average_LogLikelihood, sigma_noise\n",
    "\n",
    "    #generative model\n",
    "    GeN = BigGenerator(lat_dim,param_count,device).to(device)\n",
    "\n",
    "    ## Parametrize noise for learning aleatoric uncertainty\n",
    "    \n",
    "    _sigma_noise=torch.log(torch.tensor(setup.sigma_noise).exp()-1.).clone().to(device).detach().requires_grad_(False)\n",
    "    sigma_noise = torch.log(torch.exp(_sigma_noise) + 1.)\n",
    "\n",
    "    optimizer = torch.optim.Adam(GeN.parameters(), lr=learning_rate)\n",
    "    scheduler = torch.optim.lr_scheduler.ReduceLROnPlateau(optimizer, patience=patience, factor=lr_decay, min_lr=min_lr)\n",
    "\n",
    "    Run=IVI(train_loader, ELBO, optimizer)\n",
    "    \n",
    "    start = timeit.default_timer()\n",
    "    with trange(n_epochs) as tr:\n",
    "        tr.set_description(desc=dataset+'/GeNNeVI', refresh=False)\n",
    "        for t in tr:\n",
    "            \n",
    "            scores=Run.run(GeN,_sigma_noise)\n",
    "\n",
    "            scheduler.step(scores['ELBO'])\n",
    "            tr.set_postfix(ELBO=scores['ELBO'], LogLike=scores['LL'], KL=scores['KL'], lr=scores['lr'], sigma=scores['sigma'])\n",
    "\n",
    "            if scores['lr'] <= 1e-4:\n",
    "                break\n",
    "    stop = timeit.default_timer()\n",
    "    time = stop - start\n",
    "    \n",
    "    theta=GeN(1000).detach()\n",
    "    return theta"
   ]
  },
  {
   "cell_type": "code",
   "execution_count": 5,
   "metadata": {},
   "outputs": [],
   "source": [
    "dataset='boston'\n",
    "setup_ = get_setup(dataset)\n",
    "setup=setup_.Setup(device) \n",
    "\n",
    "x_train, y_train=setup.train_data()\n",
    "x_test, y_test=setup.test_data()\n",
    "\n",
    "\n",
    "def ood_input(x_train,n_ood=50):\n",
    "    M = x_train.max(0, keepdim=True)[0]\n",
    "    m = x_train.min(0, keepdim=True)[0]\n",
    "    X_rand = torch.rand(n_ood,input_dim).to(device) * (M-m) + m  \n",
    "    return X_rand \n",
    "\n",
    "def noisy_train(n_ood=50):\n",
    "    return x_train[:n_ood]+0.1*torch.randn_like(x_train[:n_ood])\n",
    "\n",
    "input_dim=x_train.shape[1]\n",
    "param_count, model = get_mlp(input_dim, layerwidth, nblayers, activation)"
   ]
  },
  {
   "cell_type": "code",
   "execution_count": 7,
   "metadata": {},
   "outputs": [
    {
     "name": "stderr",
     "output_type": "stream",
     "text": [
      "/home/yann/anaconda3/envs/bnn/lib/python3.8/site-packages/ipykernel/ipkernel.py:287: DeprecationWarning: `should_run_async` will not call `transform_cell` automatically in the future. Please pass the result to `transformed_cell` argument and any exception that happen during thetransform in `preprocessing_exc_tuple` in IPython 7.17 and above.\n",
      "  and should_run_async(code)\n"
     ]
    },
    {
     "ename": "NameError",
     "evalue": "name 'FuNNeVI' is not defined",
     "output_type": "error",
     "traceback": [
      "\u001b[0;31m---------------------------------------------------------------------------\u001b[0m",
      "\u001b[0;31mNameError\u001b[0m                                 Traceback (most recent call last)",
      "\u001b[0;32m<ipython-input-7-c7d2c3855e23>\u001b[0m in \u001b[0;36m<module>\u001b[0;34m\u001b[0m\n\u001b[0;32m----> 1\u001b[0;31m \u001b[0mtheta_Fun\u001b[0m\u001b[0;34m=\u001b[0m\u001b[0mFuNNeVI\u001b[0m\u001b[0;34m(\u001b[0m\u001b[0mdataset\u001b[0m\u001b[0;34m,\u001b[0m\u001b[0mdevice\u001b[0m\u001b[0;34m)\u001b[0m\u001b[0;34m\u001b[0m\u001b[0;34m\u001b[0m\u001b[0m\n\u001b[0m",
      "\u001b[0;31mNameError\u001b[0m: name 'FuNNeVI' is not defined"
     ]
    }
   ],
   "source": [
    "\n",
    "theta_Fun=FuNNeVI(dataset,device)\n"
   ]
  },
  {
   "cell_type": "code",
   "execution_count": 36,
   "metadata": {},
   "outputs": [
    {
     "name": "stderr",
     "output_type": "stream",
     "text": [
      "/home/yann/anaconda3/envs/bnn/lib/python3.8/site-packages/ipykernel/ipkernel.py:287: DeprecationWarning: `should_run_async` will not call `transform_cell` automatically in the future. Please pass the result to `transformed_cell` argument and any exception that happen during thetransform in `preprocessing_exc_tuple` in IPython 7.17 and above.\n",
      "  and should_run_async(code)\n",
      "boston/GeNNeVI:  50%|█████     | 1001/2000 [00:56<00:56, 17.70it/s, ELBO=101, KL=91.4, LogLike=-91.4, lr=0.0001, sigma=2.5]  \n"
     ]
    }
   ],
   "source": [
    "theta_Gen=GeNNeVI(dataset,device)\n"
   ]
  },
  {
   "cell_type": "code",
   "execution_count": 8,
   "metadata": {},
   "outputs": [],
   "source": [
    "setup_ = get_setup(dataset)\n",
    "setup=setup_.Setup(device) "
   ]
  },
  {
   "cell_type": "code",
   "execution_count": 45,
   "metadata": {},
   "outputs": [
    {
     "name": "stderr",
     "output_type": "stream",
     "text": [
      "/home/yann/anaconda3/envs/bnn/lib/python3.8/site-packages/ipykernel/ipkernel.py:287: DeprecationWarning: `should_run_async` will not call `transform_cell` automatically in the future. Please pass the result to `transformed_cell` argument and any exception that happen during thetransform in `preprocessing_exc_tuple` in IPython 7.17 and above.\n",
      "  and should_run_async(code)\n"
     ]
    },
    {
     "ename": "RuntimeError",
     "evalue": "Expected object of device type cuda but got device type cpu for argument #0 'result' in call to _th_bmm_out",
     "output_type": "error",
     "traceback": [
      "\u001b[0;31m---------------------------------------------------------------------------\u001b[0m",
      "\u001b[0;31mRuntimeError\u001b[0m                              Traceback (most recent call last)",
      "\u001b[0;32m<ipython-input-45-04aac58f873f>\u001b[0m in \u001b[0;36m<module>\u001b[0;34m\u001b[0m\n\u001b[1;32m      1\u001b[0m \u001b[0mmodels_HMC\u001b[0m \u001b[0;34m=\u001b[0m \u001b[0mtorch\u001b[0m\u001b[0;34m.\u001b[0m\u001b[0mload\u001b[0m\u001b[0;34m(\u001b[0m\u001b[0;34m'Results/HMC_models.pt'\u001b[0m\u001b[0;34m)\u001b[0m\u001b[0;34m\u001b[0m\u001b[0;34m\u001b[0m\u001b[0m\n\u001b[1;32m      2\u001b[0m \u001b[0mtheta_HMC\u001b[0m\u001b[0;34m=\u001b[0m\u001b[0mmodels_HMC\u001b[0m\u001b[0;34m[\u001b[0m\u001b[0mdataset\u001b[0m\u001b[0;34m]\u001b[0m\u001b[0;34m[\u001b[0m\u001b[0;34m:\u001b[0m\u001b[0;36m1000\u001b[0m\u001b[0;34m,\u001b[0m\u001b[0;34m:\u001b[0m\u001b[0;34m]\u001b[0m\u001b[0;34m.\u001b[0m\u001b[0mto\u001b[0m\u001b[0;34m(\u001b[0m\u001b[0mdevice\u001b[0m\u001b[0;34m)\u001b[0m\u001b[0;34m\u001b[0m\u001b[0;34m\u001b[0m\u001b[0m\n\u001b[0;32m----> 3\u001b[0;31m \u001b[0mpred_HMC\u001b[0m \u001b[0;34m=\u001b[0m \u001b[0mmodel\u001b[0m\u001b[0;34m(\u001b[0m\u001b[0mx_test\u001b[0m\u001b[0;34m,\u001b[0m\u001b[0mtheta_HMC\u001b[0m\u001b[0;34m)\u001b[0m\u001b[0;34m\u001b[0m\u001b[0;34m\u001b[0m\u001b[0m\n\u001b[0m\u001b[1;32m      4\u001b[0m \u001b[0msigma_noise\u001b[0m\u001b[0;34m=\u001b[0m\u001b[0mtorch\u001b[0m\u001b[0;34m.\u001b[0m\u001b[0mtensor\u001b[0m\u001b[0;34m(\u001b[0m\u001b[0msetup\u001b[0m\u001b[0;34m.\u001b[0m\u001b[0msigma_noise\u001b[0m\u001b[0;34m)\u001b[0m\u001b[0;34m\u001b[0m\u001b[0;34m\u001b[0m\u001b[0m\n\u001b[1;32m      5\u001b[0m \u001b[0mstd_y_train\u001b[0m \u001b[0;34m=\u001b[0m \u001b[0mtorch\u001b[0m\u001b[0;34m.\u001b[0m\u001b[0mtensor\u001b[0m\u001b[0;34m(\u001b[0m\u001b[0;36m1.\u001b[0m\u001b[0;34m)\u001b[0m\u001b[0;34m\u001b[0m\u001b[0;34m\u001b[0m\u001b[0m\n",
      "\u001b[0;32m~/IVISpaces/Models/__init__.py\u001b[0m in \u001b[0;36mmlp\u001b[0;34m(x, theta, input_dim, layerwidth, nb_layers, activation)\u001b[0m\n\u001b[1;32m    103\u001b[0m         \u001b[0mtheta\u001b[0m \u001b[0;34m=\u001b[0m \u001b[0mtheta\u001b[0m\u001b[0;34m.\u001b[0m\u001b[0msplit\u001b[0m\u001b[0;34m(\u001b[0m\u001b[0msplit_sizes\u001b[0m\u001b[0;34m,\u001b[0m \u001b[0mdim\u001b[0m\u001b[0;34m=\u001b[0m\u001b[0;36m1\u001b[0m\u001b[0;34m)\u001b[0m\u001b[0;34m\u001b[0m\u001b[0;34m\u001b[0m\u001b[0m\n\u001b[1;32m    104\u001b[0m         \u001b[0minput_x\u001b[0m \u001b[0;34m=\u001b[0m \u001b[0mx\u001b[0m\u001b[0;34m.\u001b[0m\u001b[0mview\u001b[0m\u001b[0;34m(\u001b[0m\u001b[0mnb_x\u001b[0m\u001b[0;34m,\u001b[0m \u001b[0minput_dim\u001b[0m\u001b[0;34m,\u001b[0m \u001b[0;36m1\u001b[0m\u001b[0;34m)\u001b[0m\u001b[0;34m\u001b[0m\u001b[0;34m\u001b[0m\u001b[0m\n\u001b[0;32m--> 105\u001b[0;31m         m = torch.matmul(theta[0].view(\n\u001b[0m\u001b[1;32m    106\u001b[0m             nb_theta, 1, layerwidth, input_dim), input_x)\n\u001b[1;32m    107\u001b[0m         \u001b[0mm\u001b[0m \u001b[0;34m=\u001b[0m \u001b[0mm\u001b[0m\u001b[0;34m.\u001b[0m\u001b[0madd\u001b[0m\u001b[0;34m(\u001b[0m\u001b[0mtheta\u001b[0m\u001b[0;34m[\u001b[0m\u001b[0;36m1\u001b[0m\u001b[0;34m]\u001b[0m\u001b[0;34m.\u001b[0m\u001b[0mreshape\u001b[0m\u001b[0;34m(\u001b[0m\u001b[0mnb_theta\u001b[0m\u001b[0;34m,\u001b[0m \u001b[0;36m1\u001b[0m\u001b[0;34m,\u001b[0m \u001b[0mlayerwidth\u001b[0m\u001b[0;34m,\u001b[0m \u001b[0;36m1\u001b[0m\u001b[0;34m)\u001b[0m\u001b[0;34m)\u001b[0m\u001b[0;34m\u001b[0m\u001b[0;34m\u001b[0m\u001b[0m\n",
      "\u001b[0;31mRuntimeError\u001b[0m: Expected object of device type cuda but got device type cpu for argument #0 'result' in call to _th_bmm_out"
     ]
    }
   ],
   "source": [
    "models_HMC = torch.load('Results/HMC_models.pt')\n",
    "theta_HMC=models_HMC[dataset][:1000,:].to(device)\n",
    "pred_HMC = model(x_test,theta_HMC)\n",
    "sigma_noise=torch.tensor(setup.sigma_noise)\n",
    "std_y_train = torch.tensor(1.)\n",
    "if hasattr(setup, '_scaler_y'):\n",
    "    std_y_train=torch.tensor(setup._scaler_y.scale_, device=device).squeeze().float()\n",
    "    \n",
    "#metrics_HMC=get_metrics(pred_HMC, sigma_noise, y_test, std_y_train, 'HMC', 0.)\n",
    "#metrics_HMC"
   ]
  },
  {
   "cell_type": "code",
   "execution_count": 8,
   "metadata": {
    "scrolled": false
   },
   "outputs": [
    {
     "ename": "NameError",
     "evalue": "name 'theta_Fun' is not defined",
     "output_type": "error",
     "traceback": [
      "\u001b[0;31m---------------------------------------------------------------------------\u001b[0m",
      "\u001b[0;31mNameError\u001b[0m                                 Traceback (most recent call last)",
      "\u001b[0;32m<ipython-input-8-c57ca282f519>\u001b[0m in \u001b[0;36m<module>\u001b[0;34m\u001b[0m\n\u001b[1;32m     13\u001b[0m     \u001b[0mx\u001b[0m\u001b[0;34m=\u001b[0m\u001b[0mood_input\u001b[0m\u001b[0;34m(\u001b[0m\u001b[0;36m30\u001b[0m\u001b[0;34m)\u001b[0m\u001b[0;34m\u001b[0m\u001b[0;34m\u001b[0m\u001b[0m\n\u001b[1;32m     14\u001b[0m     \u001b[0;31m#x_train+0.05*torch.rand_like(x_train)##\u001b[0m\u001b[0;34m\u001b[0m\u001b[0;34m\u001b[0m\u001b[0;34m\u001b[0m\u001b[0m\n\u001b[0;32m---> 15\u001b[0;31m \u001b[0my_pred_FuN\u001b[0m\u001b[0;34m=\u001b[0m\u001b[0mmodel\u001b[0m\u001b[0;34m(\u001b[0m\u001b[0mx\u001b[0m\u001b[0;34m,\u001b[0m \u001b[0mtheta_Fun\u001b[0m\u001b[0;34m.\u001b[0m\u001b[0mdetach\u001b[0m\u001b[0;34m(\u001b[0m\u001b[0;34m)\u001b[0m\u001b[0;34m)\u001b[0m\u001b[0;34m\u001b[0m\u001b[0;34m\u001b[0m\u001b[0m\n\u001b[0m\u001b[1;32m     16\u001b[0m \u001b[0my_pred_GeN\u001b[0m\u001b[0;34m=\u001b[0m\u001b[0mmodel\u001b[0m\u001b[0;34m(\u001b[0m\u001b[0mx\u001b[0m\u001b[0;34m,\u001b[0m \u001b[0mtheta_Gen\u001b[0m\u001b[0;34m.\u001b[0m\u001b[0mdetach\u001b[0m\u001b[0;34m(\u001b[0m\u001b[0;34m)\u001b[0m\u001b[0;34m)\u001b[0m\u001b[0;34m\u001b[0m\u001b[0;34m\u001b[0m\u001b[0m\n\u001b[1;32m     17\u001b[0m \u001b[0;34m\u001b[0m\u001b[0m\n",
      "\u001b[0;31mNameError\u001b[0m: name 'theta_Fun' is not defined"
     ]
    }
   ],
   "source": [
    "import seaborn as sns\n",
    "from pylab import *\n",
    "from Tools import log_norm\n",
    "\n",
    "\n",
    "\n",
    "x_train, y_train=setup.train_data()\n",
    "x_test, y_test=setup.test_data()\n",
    "data='test'\n",
    "if data=='test':\n",
    "    x=x_test\n",
    "if data=='OOD':\n",
    "    x=ood_input(30)\n",
    "    #x_train+0.05*torch.rand_like(x_train)##\n",
    "y_pred_FuN=model(x, theta_Fun.detach())\n",
    "y_pred_GeN=model(x, theta_Gen.detach())\n",
    "\n",
    "\n",
    "def prior(n):\n",
    "    return 0.5*torch.randn(size=(n,param_count), device=device)\n",
    "\n",
    "pred_prior=model(x, prior(1000))\n",
    "sigma_noise=torch.tensor(setup.sigma_noise)\n",
    "pred_GeN=y_pred_GeN+sigma_noise*torch.randn_like(y_pred_GeN)\n",
    "pred_FuN=y_pred_FuN+sigma_noise*torch.randn_like(y_pred_FuN)\n",
    "\n",
    "models_HMC = torch.load('Results/HMC_models.pt')\n",
    "theta_HMC=models_HMC[dataset][:1000,:].to(device)\n",
    "pred_HMC = model(x,theta_HMC)\n",
    "pred_HMC+=setup.sigma_noise*torch.randn_like(pred_HMC)\n",
    "\n",
    "\n",
    "\n",
    "sns_plot=sns.set(rc={\"figure.figsize\": (20, 60)})\n",
    "N=10\n",
    "M=3\n",
    "#np.random.seed(42)\n",
    "\n",
    "for _ in range(1,1+N*M):\n",
    "    i=np.random.randint(0,x.shape[0])\n",
    "    subplot(N,M,_)\n",
    "    #line4=plt.axvline(pred_FuN.mean(0)[i].cpu(), color='blue', lw=2.,label='mean FuN')\n",
    "#    line4=plt.axvline(pred_GeN.mean(0)[i].cpu(), color='orange', lw=2.,label='mean GeN')\n",
    "\n",
    "    ax =sns.distplot(pred_FuN[:,i].cpu(),label='FuN', color='blue')\n",
    "    line5 =ax=sns.distplot(pred_GeN[:,i].cpu(),label='GeN', color='red')\n",
    "#    line5 =sns.distplot(pred_prior[:,i].cpu(),label='prior', color='green')\n",
    "    ax=sns.distplot(pred_HMC[:,i].cpu(),label='HMC', color='gold')\n",
    "\n",
    "\n",
    "    line1=plt.axvline(y_test[i].cpu(), color='red', linewidth=2.,label='target')\n",
    "\n",
    "\n",
    "    plt.title(str(i))\n",
    "\n",
    "ax.legend(bbox_to_anchor=(1.05, 1), loc='upper left', borderaxespad=0.)\n",
    "plt.subplots_adjust(top=.97)\n",
    "# plt.suptitle(t='Posterior Predictive on {} (HMC, RMSE: {:3f}, LPP:{:3f}), (GeNNeVI, RMSE: {:3f}, LPP:{:3f}) ,(FuNNeVI, RMSE: {:3f}, LPP:{:3f})'\\\n",
    "#              .format(data, metrics_HMC[('HMC', 'RMSE')],metrics_HMC[('HMC', 'LPP')],\\\n",
    "#                      metrics_GeN[('GeNNeVI', 'RMSE')],metrics_GeN[('GeNNeVI', 'LPP')],\\\n",
    "#                      metrics_FuN[('FuNNeVI', 'RMSE')],metrics_FuN[('FuNNeVI', 'LPP')]))\n"
   ]
  },
  {
   "cell_type": "code",
   "execution_count": null,
   "metadata": {},
   "outputs": [],
   "source": []
  },
  {
   "cell_type": "code",
   "execution_count": 9,
   "metadata": {
    "scrolled": false
   },
   "outputs": [
    {
     "name": "stderr",
     "output_type": "stream",
     "text": [
      "/home/yann/anaconda3/envs/bnn/lib/python3.8/site-packages/ipykernel/ipkernel.py:287: DeprecationWarning: `should_run_async` will not call `transform_cell` automatically in the future. Please pass the result to `transformed_cell` argument and any exception that happen during thetransform in `preprocessing_exc_tuple` in IPython 7.17 and above.\n",
      "  and should_run_async(code)\n"
     ]
    },
    {
     "ename": "NameError",
     "evalue": "name 'theta_Fun' is not defined",
     "output_type": "error",
     "traceback": [
      "\u001b[0;31m---------------------------------------------------------------------------\u001b[0m",
      "\u001b[0;31mNameError\u001b[0m                                 Traceback (most recent call last)",
      "\u001b[0;32m<ipython-input-9-2e1fd25dcdc7>\u001b[0m in \u001b[0;36m<module>\u001b[0;34m\u001b[0m\n\u001b[1;32m     43\u001b[0m \u001b[0mx_ood\u001b[0m\u001b[0;34m=\u001b[0m\u001b[0mood_input\u001b[0m\u001b[0;34m(\u001b[0m\u001b[0mx_train\u001b[0m\u001b[0;34m,\u001b[0m\u001b[0;36m1000\u001b[0m\u001b[0;34m)\u001b[0m\u001b[0;34m.\u001b[0m\u001b[0mto\u001b[0m\u001b[0;34m(\u001b[0m\u001b[0mdevice\u001b[0m\u001b[0;34m)\u001b[0m\u001b[0;34m\u001b[0m\u001b[0;34m\u001b[0m\u001b[0m\n\u001b[1;32m     44\u001b[0m \u001b[0mx_train_noisy\u001b[0m\u001b[0;34m=\u001b[0m\u001b[0mx_train\u001b[0m\u001b[0;34m+\u001b[0m\u001b[0;36m0.1\u001b[0m\u001b[0;34m*\u001b[0m\u001b[0mtorch\u001b[0m\u001b[0;34m.\u001b[0m\u001b[0mrand_like\u001b[0m\u001b[0;34m(\u001b[0m\u001b[0mx_train\u001b[0m\u001b[0;34m)\u001b[0m\u001b[0;31m##\u001b[0m\u001b[0;34m\u001b[0m\u001b[0;34m\u001b[0m\u001b[0m\n\u001b[0;32m---> 45\u001b[0;31m \u001b[0my_pred_FuN\u001b[0m\u001b[0;34m=\u001b[0m\u001b[0mmodel\u001b[0m\u001b[0;34m(\u001b[0m\u001b[0mx\u001b[0m\u001b[0;34m,\u001b[0m \u001b[0mtheta_Fun\u001b[0m\u001b[0;34m.\u001b[0m\u001b[0mdetach\u001b[0m\u001b[0;34m(\u001b[0m\u001b[0;34m)\u001b[0m\u001b[0;34m.\u001b[0m\u001b[0mto\u001b[0m\u001b[0;34m(\u001b[0m\u001b[0mdevice\u001b[0m\u001b[0;34m)\u001b[0m\u001b[0;34m)\u001b[0m\u001b[0;34m\u001b[0m\u001b[0;34m\u001b[0m\u001b[0m\n\u001b[0m\u001b[1;32m     46\u001b[0m \u001b[0;31m#y_pred_GeN=model(x, GeN_GeN(1000).detach())\u001b[0m\u001b[0;34m\u001b[0m\u001b[0;34m\u001b[0m\u001b[0;34m\u001b[0m\u001b[0m\n\u001b[1;32m     47\u001b[0m \u001b[0mX\u001b[0m\u001b[0;34m=\u001b[0m\u001b[0;34m[\u001b[0m\u001b[0mx_train\u001b[0m\u001b[0;34m,\u001b[0m\u001b[0mx_test\u001b[0m\u001b[0;34m,\u001b[0m\u001b[0mx_train_noisy\u001b[0m\u001b[0;34m,\u001b[0m\u001b[0mx_ood\u001b[0m\u001b[0;34m]\u001b[0m\u001b[0;34m\u001b[0m\u001b[0;34m\u001b[0m\u001b[0m\n",
      "\u001b[0;31mNameError\u001b[0m: name 'theta_Fun' is not defined"
     ]
    }
   ],
   "source": [
    "def BatchEntropy_(theta,k=1,k_MC=1,device='cpu'):\n",
    "    \"\"\"\n",
    "    Parameters:\n",
    "        theta (Tensor): Samples, Batch x NbExemples X NbDimensions\n",
    "        k (Int): ordinal number\n",
    "\n",
    "    Returns:\n",
    "        Tensor: H of size Batch x 1, k-Nearest Neighbour Estimation of the entropy of theta, H[b]=H(theta[b]).\n",
    "\n",
    "    \"\"\"\n",
    "    batch=theta.shape[0]\n",
    "    nb_samples=theta.shape[1]\n",
    "    d=torch.tensor(theta.shape[-1]).float()\n",
    "    D=torch.cdist(theta,theta)\n",
    "    a = torch.topk(D, k=k+1, dim=1, largest=False, sorted=True)[0][:,k].to(device) #.clamp(torch.finfo().eps,float('inf'))    d=torch.as_tensor(float(dim), device=device)\n",
    "    K=torch.as_tensor(float(k), device=device)\n",
    "    K_MC=torch.as_tensor(float(k_MC), device=device)\n",
    "    N=torch.as_tensor(float(nb_samples), device=device)\n",
    "    pi=torch.as_tensor(math.pi, device=device)\n",
    "    lcd = d/2.*pi.log() - torch.lgamma(1. + d/2.0)-d/2*K_MC.log()\n",
    "    return torch.log(N) - torch.digamma(K) + lcd + d/nb_samples*torch.log(a).sum(1)\n",
    "#from Metrics import BatchEntropy\n",
    "\n",
    "def EntropyScatterPlot(theta):\n",
    "    X=[x_train,x_test,OOD_sampler(x_train,1000)]\n",
    "    Y=[model(X[i],theta) for i in range(len(X))]\n",
    "    H=[]\n",
    "    for i in range(len(Y)):\n",
    "        H.append(BatchEntropy(Y[i].transpose(0,1),k=len(Y[i])//100))\n",
    "    return H\n",
    "\n",
    "\n",
    "def EntropyScatterPlot(ax,theta,X, label, k,title):\n",
    "    Y=[model(X[i],theta) for i in range(len(X))]\n",
    "    for i in range(len(Y)):\n",
    "        H=BatchEntropy(Y[i].transpose(0,1),k=k)\n",
    "        sns.distplot(H.cpu(), label=label[i], ax=ax)\n",
    "    ax.set_title(title)\n",
    "\n",
    "\n",
    "\n",
    "x=x_test\n",
    "x_ood=ood_input(x_train,1000).to(device)\n",
    "x_train_noisy=x_train+0.1*torch.rand_like(x_train)##\n",
    "y_pred_FuN=model(x, theta_Fun.detach().to(device))\n",
    "#y_pred_GeN=model(x, GeN_GeN(1000).detach())\n",
    "X=[x_train,x_test,x_train_noisy,x_ood]\n",
    "label=['train','test','noisy train', 'OOD']\n",
    "theta_HMC=models_HMC[dataset][1000:2000,:].to(device)\n",
    "\n",
    "def prior(n):\n",
    "    return 0.5*torch.randn(size=(n,param_count), device=device)\n",
    "\n",
    "fig,ax=plt.subplots(4,1,figsize=(10,10))\n",
    "\n",
    "#theta_Fun=GeN_FuN(1000).detach()\n",
    "EntropyScatterPlot(ax[0],prior(1000),X,label,100,'prior')\n",
    "\n",
    "EntropyScatterPlot(ax[1],theta_HMC.to(device),X,label,30,'HMC')\n",
    "EntropyScatterPlot(ax[2],theta_Gen.to(device),X,label,30,'GeNNeVI')\n",
    "EntropyScatterPlot(ax[3],theta_Fun.to(device),X,label,30,'FuNNeVI')\n",
    "#theta_GeN=GeN_GeN(1000).detach()\n",
    "\n",
    "plt.legend()\n",
    "\n",
    "fig.tight_layout()\n"
   ]
  },
  {
   "cell_type": "code",
   "execution_count": 17,
   "metadata": {
    "scrolled": false
   },
   "outputs": [
    {
     "name": "stdout",
     "output_type": "stream",
     "text": [
      "torch.Size([455])\n",
      "torch.Size([51])\n",
      "torch.Size([1000])\n",
      "torch.Size([455])\n",
      "torch.Size([51])\n",
      "torch.Size([1000])\n",
      "torch.Size([455])\n",
      "torch.Size([51])\n",
      "torch.Size([1000])\n",
      "[torch.Size([455]), torch.Size([51]), torch.Size([1000])]\n"
     ]
    },
    {
     "data": {
      "image/png": "[encoded data removed]",
      "text/plain": [
       "<Figure size 720x720 with 4 Axes>"
      ]
     },
     "metadata": {
      "needs_background": "light"
     },
     "output_type": "display_data"
    }
   ],
   "source": [
    "from Metrics import BatchEntropy\n",
    "def BatchEntropy_(theta,k=1,k_MC=1,device='cpu'):\n",
    "    \"\"\"\n",
    "    Parameters:\n",
    "        theta (Tensor): Samples, Batch x NbExemples X NbDimensions\n",
    "        k (Int): ordinal number\n",
    "\n",
    "    Returns:\n",
    "        Tensor: H of size Batch x 1, k-Nearest Neighbour Estimation of the entropy of theta, H[b]=H(theta[b]).\n",
    "\n",
    "    \"\"\"\n",
    "    batch=theta.shape[0]\n",
    "    nb_samples=theta.shape[1]\n",
    "    d=torch.tensor(theta.shape[-1]).float()\n",
    "    D=torch.cdist(theta,theta)\n",
    "    a = torch.topk(D, k=k+1, dim=1, largest=False, sorted=True)[0][:,k].to(device) #.clamp(torch.finfo().eps,float('inf'))    d=torch.as_tensor(float(dim), device=device)\n",
    "    K=torch.as_tensor(float(k), device=device)\n",
    "    K_MC=torch.as_tensor(float(k_MC), device=device)\n",
    "    N=torch.as_tensor(float(nb_samples), device=device)\n",
    "    pi=torch.as_tensor(math.pi, device=device)\n",
    "    lcd = d/2.*pi.log() - torch.lgamma(1. + d/2.0)-d/2*K_MC.log()\n",
    "    return torch.log(N) - torch.digamma(K) + lcd + d/nb_samples*torch.log(a).sum(1)\n",
    "#from Metrics import BatchEntropy\n",
    "\n",
    "\n",
    "def EntropyScatterPlot(ax,theta,X, label, k,title):\n",
    "    Y_=[model(X[i],theta) for i in range(len(X))]\n",
    "    Y=[y+setup.sigma_noise*torch.randn_like(y) for y in Y_]\n",
    "    H=[BatchEntropy(y.transpose(0,1),k=30) for y in Y]\n",
    "    for i in range(len(Y)):\n",
    "        H=BatchEntropy_(Y[i].transpose(0,1),k=k)\n",
    "        print(H.shape)\n",
    "        sns.distplot(H.cpu(), label=label[i], ax=ax)\n",
    "    ax.set_title(title)\n",
    "\n",
    "\n",
    "\n",
    "x=x_test\n",
    "x_ood=ood_input(x_train,1000).to(device)\n",
    "x_train_noisy=x_train+0.1*torch.rand_like(x_train)##\n",
    "#y_pred_GeN=model(x, GeN_GeN(1000).detach())\n",
    "X=[x_train,x_test,x_ood]\n",
    "label=['train','test','OOD']\n",
    "#theta_HMC=models_HMC[dataset][1000:2000,:].to(device)\n",
    "\n",
    "def prior(n):\n",
    "    return 0.5*torch.randn(size=(n,param_count), device=device)\n",
    "\n",
    "fig,ax=plt.subplots(4,1,figsize=(10,10))\n",
    "\n",
    "#theta_Fun=GeN_FuN(1000).detach()\n",
    "EntropyScatterPlot(ax[0],prior(1000),X,label,100,'prior')\n",
    "\n",
    "Entropy=torch.load('Results/NEW/UCI_ENTROPY_Fixed_Noise2020-10-13-17:20.pt')\n",
    "H=Entropy['boston']['HMC'][1]\n",
    "\n",
    "#for i in range(len(H)):\n",
    "EntropyScatterPlot(ax[1],H,X,label,30,'HMC')\n",
    "\n",
    "H=Entropy['boston']['GeNNeVI'][1]\n",
    "\n",
    "EntropyScatterPlot(ax[2],H,X,label,30,'GeNNeVI')\n",
    "\n",
    "H=Entropy['boston']['GeNNeVI'][0]\n",
    "for i in range(len(H)):\n",
    "    sns.distplot(H[i].cpu(), label=label[i], ax=ax[3])\n",
    "    ax[3].set_title('GeNNeVI')\n",
    "\n",
    "#EntropyScatterPlot(ax[2],theta_Gen.to(device),X,label,30,'GeNNeVI')\n",
    "#EntropyScatterPlot(ax[3],theta_Fun.to(device),X,label,30,'FuNNeVI')\n",
    "#theta_GeN=GeN_GeN(1000).detach()\n",
    "print([h.shape for h in H])\n",
    "plt.legend()\n",
    "\n",
    "fig.tight_layout()\n"
   ]
  },
  {
   "cell_type": "code",
   "execution_count": 4,
   "metadata": {},
   "outputs": [
    {
     "name": "stdout",
     "output_type": "stream",
     "text": [
      "/home/yann/IVISpaces\n"
     ]
    }
   ],
   "source": [
    "cd .."
   ]
  },
  {
   "cell_type": "code",
   "execution_count": 12,
   "metadata": {},
   "outputs": [
    {
     "name": "stdout",
     "output_type": "stream",
     "text": [
      "455 51 1000\n"
     ]
    },
    {
     "data": {
      "image/png": "[encoded data removed]",
      "text/plain": [
       "<Figure size 720x360 with 1 Axes>"
      ]
     },
     "metadata": {
      "needs_background": "light"
     },
     "output_type": "display_data"
    }
   ],
   "source": [
    "import torch\n",
    "from pylab import *\n",
    "import seaborn as sns\n",
    "Entropy=torch.load('Results/NEW/UCI_ENTROPY_Fixed_Noise2020-10-12-22:33.pt')\n",
    "H=Entropy['boston']['FuNNeVI']\n",
    "label=['train','test','noisy train', 'OOD']\n",
    "print(len(H[0]),len(H[1]), len(H[2]))\n",
    "\n",
    "\n",
    "fig,ax=plt.subplots(figsize=(10,5))\n",
    "def EntropyScatterPlot(ax, H, label):\n",
    "    for i in range(2):\n",
    "        sns.distplot(H[i].cpu(), label=label[i], ax=ax)\n",
    "EntropyScatterPlot(ax,H, label)"
   ]
  },
  {
   "cell_type": "code",
   "execution_count": 21,
   "metadata": {},
   "outputs": [],
   "source": [
    "def FunKL(s, t, model, sampler, n=500):\n",
    "    assert t.shape == s.shape\n",
    "    KLs = torch.Tensor(n)\n",
    "    for i in range(n):\n",
    "        rand_input=sampler()\n",
    "        t_=model(rand_input,t).squeeze(2)\n",
    "        s_=model(rand_input,s).squeeze(2)\n",
    "        k=1\n",
    "        K= KL(t_, s_, k=k, device=device)     \n",
    "        while torch.isinf(K):\n",
    "            k+=1\n",
    "            K= KL(t_, s_, k=k, device=device)\n",
    "        KLs[i]=K\n",
    "    return K.mean()  # , K.std()\n",
    "def CompareWithHMC(thetas, dataset, method):\n",
    "    divergences={}\n",
    "    divergences_std={}\n",
    "    setup_ = get_setup(dataset)\n",
    "    setup=setup_.Setup(thetas[0].device) \n",
    "\n",
    "    x_train, y_train=setup.train_data()\n",
    "    sampler= lambda :OOD_sampler(x_train=x_train,n_ood=50)\n",
    "    ## predictive model\n",
    "    input_dim=x_train.shape[1]\n",
    "    param_count, model = get_mlp(input_dim, layerwidth, nblayers, activation)\n",
    "    \n",
    "    HMC_=models_HMC[dataset]\n",
    "    indices = torch.randperm(len(HMC_))[:1000]\n",
    "    HMC=HMC_[indices].to(thetas[0].device)#models_HMC[dataset][:thetas[0].shape[0],:].to(device)        \n",
    "\n",
    "    \n",
    "    metric='KL(-,HMC)'\n",
    "    print(dataset+': '+metric)\n",
    "    KLs=[]\n",
    "    for theta in thetas:\n",
    "        K=FunKL(theta,HMC,model,sampler)\n",
    "        print(K.item())\n",
    "        KLs.append(K.item())\n",
    "    \n",
    "    divergences.update({metric:np.mean(KLs)})\n",
    "    divergences_std.update({metric:np.std(KLs)})\n",
    "    \n",
    "    metric='KL(HMC,-)'\n",
    "    print(dataset+': '+metric)\n",
    "    KLs=[]\n",
    "    for theta in thetas:\n",
    "        K=FunKL(HMC,theta,model,sampler)\n",
    "        print(K.item())\n",
    "        KLs.append(K.item())\n",
    "    \n",
    "    divergences.update({metric:np.mean(KLs)})\n",
    "    divergences_std.update({metric:np.std(KLs)})\n",
    "    \n",
    "#     metric='KL(-,-)'\n",
    "#     print(dataset+': '+metric)\n",
    "#     KLs=[]\n",
    "        \n",
    "#     models_pairs=list(itertools.combinations(thetas,2))\n",
    "#     KLs=[]\n",
    "#     for theta_0,theta_1 in models_pairs:\n",
    "#         K=FunKL(theta_0,theta_1,model,sampler)\n",
    "#         print(K.item())\n",
    "#         KLs.append(K.item())    \n",
    "   \n",
    "#     divergences.update({metric:np.mean(KLs)})\n",
    "#     divergences_std.update({metric:np.std(KLs)})\n",
    "    \n",
    "    metrics=list(divergences.keys())\n",
    "    for j in metrics:\n",
    "        divergences[(method,j)] = divergences.pop(j)\n",
    "        divergences_std[(method,j)] = divergences_std.pop(j)\n",
    "    return divergences, divergences_std"
   ]
  },
  {
   "cell_type": "code",
   "execution_count": 22,
   "metadata": {},
   "outputs": [
    {
     "name": "stdout",
     "output_type": "stream",
     "text": [
      "boston: KL(-,HMC)\n",
      "9.702526092529297\n",
      "boston: KL(HMC,-)\n",
      "62.969703674316406\n"
     ]
    },
    {
     "data": {
      "text/plain": [
       "{('GeNNeVI', 'KL(-,HMC)'): 9.702526092529297,\n",
       " ('GeNNeVI', 'KL(HMC,-)'): 62.969703674316406}"
      ]
     },
     "execution_count": 22,
     "metadata": {},
     "output_type": "execute_result"
    }
   ],
   "source": [
    "div, Sdiv= CompareWithHMC([theta_Gen], dataset,'GeNNeVI')\n",
    "div"
   ]
  },
  {
   "cell_type": "code",
   "execution_count": 23,
   "metadata": {},
   "outputs": [
    {
     "name": "stdout",
     "output_type": "stream",
     "text": [
      "boston: KL(-,HMC)\n",
      "62.81312561035156\n",
      "boston: KL(HMC,-)\n",
      "2.0310864448547363\n"
     ]
    },
    {
     "data": {
      "text/plain": [
       "{('FuNNeVI', 'KL(-,HMC)'): 62.81312561035156,\n",
       " ('FuNNeVI', 'KL(HMC,-)'): 2.0310864448547363}"
      ]
     },
     "execution_count": 23,
     "metadata": {},
     "output_type": "execute_result"
    }
   ],
   "source": [
    "div, Sdiv= CompareWithHMC([theta_Fun], dataset,'FuNNeVI')\n",
    "div"
   ]
  },
  {
   "cell_type": "code",
   "execution_count": null,
   "metadata": {},
   "outputs": [],
   "source": []
  }
 ],
 "metadata": {
  "kernelspec": {
   "display_name": "Python 3",
   "language": "python",
   "name": "python3"
  },
  "language_info": {
   "codemirror_mode": {
    "name": "ipython",
    "version": 3
   },
   "file_extension": ".py",
   "mimetype": "text/x-python",
   "name": "python",
   "nbconvert_exporter": "python",
   "pygments_lexer": "ipython3",
   "version": "3.8.5"
  }
 },
 "nbformat": 4,
 "nbformat_minor": 4
}
