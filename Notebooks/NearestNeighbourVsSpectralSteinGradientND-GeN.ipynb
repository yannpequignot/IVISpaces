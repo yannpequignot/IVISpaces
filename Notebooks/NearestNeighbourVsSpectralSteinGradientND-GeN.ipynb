{
 "cells": [
  {
   "cell_type": "code",
   "execution_count": 8,
   "metadata": {},
   "outputs": [],
   "source": [
    "from torch import nn\n",
    "\n",
    "import torch\n",
    "from abc import abstractmethod\n",
    "import torch.tensor as Tensor\n",
    "import seaborn as sn\n",
    "import matplotlib.pyplot as plt\n",
    "\n",
    "from tqdm import trange\n",
    "from Models import BigGenerator\n",
    "\n",
    "from torch.distributions.multivariate_normal import MultivariateNormal\n"
   ]
  },
  {
   "cell_type": "code",
   "execution_count": 9,
   "metadata": {},
   "outputs": [],
   "source": [
    "device = torch.device('cuda:0' if torch.cuda.is_available() else 'cpu')\n"
   ]
  },
  {
   "cell_type": "code",
   "execution_count": 10,
   "metadata": {},
   "outputs": [],
   "source": [
    "def KL(theta0, theta1, k=1, device='cpu', p=2):\n",
    "    \"\"\"\n",
    "        Parameters:\n",
    "            theta0 (Tensor): Samples, P X NbDimensions\n",
    "            theta1 (Tensor): Samples, R X NbDimensions\n",
    "            k (Int): positive ordinal number\n",
    "\n",
    "        Returns:\n",
    "            (Float) k-Nearest Neighbour Estimation of the KL from theta0 to theta1\n",
    "\n",
    "        Kullback-Leibler Divergence Estimation of Continuous Distributions Fernando Pérez-Cruz\n",
    "        \"\"\"\n",
    "\n",
    "    n0 = theta0.shape[0]\n",
    "    n1 = theta1.shape[0]\n",
    "    dim0 = theta0.shape[1]\n",
    "    dim1 = theta1.shape[1]\n",
    "    assert dim0 == dim1\n",
    "\n",
    "    D0 = torch.cdist(theta0, theta0, p=p)\n",
    "    D1 = torch.cdist(theta0, theta1, p=p)\n",
    "\n",
    "    a0 = torch.topk(D0, k=k + 1, dim=1, largest=False, sorted=True)[0][:,k]  # .clamp(torch.finfo().eps,float('inf')).to(device)\n",
    "    a1 = torch.topk(D1, k=k, dim=1, largest=False, sorted=True)[0][:,k - 1]  # .clamp(torch.finfo().eps,float('inf')).to(device)\n",
    "\n",
    "    assert a0.shape == a1.shape, 'dimension do not match'\n",
    "\n",
    "    d = torch.as_tensor(float(dim0), device=device)\n",
    "    N0 = torch.as_tensor(float(n0), device=device)\n",
    "    N1 = torch.as_tensor(float(n1), device=device)\n",
    "\n",
    "    Mnn = (torch.log(a1) - 0.7*torch.log(a0)).mean()\n",
    "    return d*Mnn + N1.log() - (N0 - 1).log()"
   ]
  },
  {
   "cell_type": "code",
   "execution_count": 4,
   "metadata": {},
   "outputs": [],
   "source": [
    "# from https://github.com/AntixK/Spectral-Stein-Gradient\n",
    "\n",
    "class BaseScoreEstimator:\n",
    "\n",
    "    @staticmethod\n",
    "    def rbf_kernel(x1: Tensor,\n",
    "                   x2: Tensor,\n",
    "                   sigma: float) -> Tensor:\n",
    "        return torch.exp(-((x1 - x2).pow(2).sum(-1))/(2 * sigma ** 2))\n",
    "\n",
    "    def gram_matrix(self,\n",
    "             x1: Tensor,\n",
    "             x2: Tensor,\n",
    "             sigma: float) -> Tensor:\n",
    "        x1 = x1.unsqueeze(-2) # Make it into a column tensor\n",
    "        x2 = x2.unsqueeze(-3) # Make it into a row tensor\n",
    "        return self.rbf_kernel(x1, x2, sigma)\n",
    "\n",
    "    def grad_gram(self,\n",
    "                  x1: Tensor,\n",
    "                  x2: Tensor,\n",
    "                  sigma: float) -> Tensor:\n",
    "        \"\"\"\n",
    "        Computes the gradients of the RBF gram matrix with respect\n",
    "        to the inputs x1 an x2. It is given by\n",
    "        .. math::\n",
    "            \\nabla_x1 k(x1, x2) = k(x1, x2) \\frac{x1- x2}{\\sigma^2}\n",
    "            \\nabla_x2 k(x1, x2) = k(x1, x2) -\\frac{x1- x2}{\\sigma^2}\n",
    "        :param x1: (Tensor) [N x D]\n",
    "        :param x2: (Tensor) [M x D]\n",
    "        :param sigma: (Float) Width of the RBF kernel\n",
    "        :return: Gram matrix [N x M],\n",
    "                 gradients with respect to x1 [N x M x D],\n",
    "                 gradients with respect to x2 [N x M x D]\n",
    "        \"\"\"\n",
    "        with torch.no_grad():\n",
    "            Kxx = self.gram_matrix(x1, x2, sigma)\n",
    "\n",
    "            x1 = x1.unsqueeze(-2)  # Make it into a column tensor\n",
    "            x2 = x2.unsqueeze(-3)  # Make it into a row tensor\n",
    "            diff = (x1 - x2) / (sigma ** 2)\n",
    "\n",
    "            dKxx_dx1 = Kxx.unsqueeze(-1) * (-diff)\n",
    "            dKxx_dx2 = Kxx.unsqueeze(-1) * diff\n",
    "            return Kxx, dKxx_dx1, dKxx_dx2\n",
    "\n",
    "    def heuristic_sigma(self,\n",
    "                        x:Tensor,\n",
    "                        xm: Tensor) -> Tensor:\n",
    "        \"\"\"\n",
    "        Uses the median-heuristic for selecting the\n",
    "        appropriate sigma for the RBF kernel based\n",
    "        on the given samples.\n",
    "        The kernel width is set to the media of the\n",
    "        pairwise distances between x and xm.\n",
    "        :param x: (Tensor) [N x D]\n",
    "        :param xm: (Tensor) [M x D]\n",
    "        :return:\n",
    "        \"\"\"\n",
    "\n",
    "        with torch.no_grad():\n",
    "            x1 = x.unsqueeze(-2)   # Make it into a column tensor\n",
    "            x2 = xm.unsqueeze(-3)  # Make it into a row tensor\n",
    "\n",
    "            pdist_mat = torch.sqrt(((x1 - x2) ** 2).sum(dim = -1)) # [N x M]\n",
    "            kernel_width = torch.median(torch.flatten(pdist_mat))\n",
    "            return kernel_width\n",
    "\n",
    "    @abstractmethod\n",
    "    def compute_score_gradients(self, x: Tensor, xm: Tensor = None):\n",
    "        raise NotImplementedError\n",
    "\n",
    "    def __call__(self, x: Tensor, xm: Tensor = None):\n",
    "        return self.compute_score_gradients(x, xm)"
   ]
  },
  {
   "cell_type": "code",
   "execution_count": 5,
   "metadata": {},
   "outputs": [],
   "source": [
    "class SpectralSteinEstimator(BaseScoreEstimator):\n",
    "    def __init__(self,\n",
    "                 eta: float = None,\n",
    "                 num_eigs: int = None) -> None:\n",
    "        self.eta = eta\n",
    "        self.num_eigs = num_eigs\n",
    "\n",
    "    def nystrom_method(self,\n",
    "                       x: Tensor,\n",
    "                       eval_points: Tensor,\n",
    "                       eigen_vecs: Tensor,\n",
    "                       eigen_vals: Tensor,\n",
    "                       kernel_sigma: float) -> Tensor:\n",
    "        \"\"\"\n",
    "        Implements the Nystrom method for approximating the\n",
    "        eigenfunction (generalized eigenvectors) for the kernel\n",
    "        at x using the M eval_points (x_m). It is given\n",
    "        by -\n",
    "         .. math::\n",
    "            phi_j(x) = \\frac{M}{\\lambda_j} \\sum_{m=1}^M u_{jm} k(x, x_m)\n",
    "        :param x: (Tensor) Point at which the eigenfunction is evaluated [N x D]\n",
    "        :param eval_points: (Tensor) Sample points from the data of ize M [M x D]\n",
    "        :param eigen_vecs: (Tensor) Eigenvectors of the gram matrix [M x M]\n",
    "        :param eigen_vals: (Tensor) Eigenvalues of the gram matrix [M x 2]\n",
    "        :param kernel_sigma: (Float) Kernel width\n",
    "        :return: Eigenfunction at x [N x M]\n",
    "        \"\"\"\n",
    "        M = torch.tensor(eval_points.size(-2), dtype=torch.float)\n",
    "        Kxxm = self.gram_matrix(x, eval_points, kernel_sigma)\n",
    "        phi_x =  torch.sqrt(M) * Kxxm @ eigen_vecs\n",
    "\n",
    "        phi_x *= 1. / eigen_vals[:,0] # Take only the real part of the eigenvals\n",
    "                                      # as the Im is 0 (Symmetric matrix)\n",
    "        return phi_x\n",
    "\n",
    "\n",
    "    def compute_score_gradients(self,\n",
    "                                x: Tensor,\n",
    "                                xm: Tensor = None) -> Tensor:\n",
    "        \"\"\"\n",
    "        Computes the Spectral Stein Gradient Estimate (SSGE) for the\n",
    "        score function. The SSGE is given by\n",
    "        .. math::\n",
    "            \\nabla_{xi} phi_j(x) = \\frac{1}{\\mu_j M} \\sum_{m=1}^M \\nabla_{xi}k(x,x^m) \\phi_j(x^m)\n",
    "            \\beta_{ij} = -\\frac{1}{M} \\sum_{m=1}^M \\nabla_{xi} phi_j (x^m)\n",
    "            \\g_i(x) = \\sum_{j=1}^J \\beta_{ij} \\phi_j(x)\n",
    "        :param x: (Tensor) Point at which the gradient is evaluated [N x D]\n",
    "        :param xm: (Tensor) Samples for the kernel [M x D]\n",
    "        :return: gradient estimate [N x D]\n",
    "        \"\"\"\n",
    "        if xm is None:\n",
    "            xm = x\n",
    "            sigma = self.heuristic_sigma(xm, xm)\n",
    "        else:\n",
    "            # Account for the new data points too\n",
    "            _xm = torch.cat((x, xm), dim=-2)\n",
    "            sigma = self.heuristic_sigma(_xm, _xm)\n",
    "\n",
    "        M = torch.tensor(xm.size(-2), dtype=torch.float)\n",
    "\n",
    "        Kxx, dKxx_dx, _ = self.grad_gram(xm, xm, sigma)\n",
    "\n",
    "        # Kxx = Kxx + eta * I\n",
    "        if self.eta is not None:\n",
    "            Kxx += self.eta * torch.eye(xm.size(-2)).to(xm.device)\n",
    "\n",
    "        eigen_vals, eigen_vecs = torch.eig(Kxx, eigenvectors=True)\n",
    "\n",
    "        if self.num_eigs is not None:\n",
    "            eigen_vals = eigen_vals[:self.num_eigs]\n",
    "            eigen_vecs = eigen_vecs[:, :self.num_eigs]\n",
    "\n",
    "        phi_x = self.nystrom_method(x, xm, eigen_vecs, eigen_vals, sigma) # [N x M]\n",
    "\n",
    "        # Compute the Monte Carlo estimate of the gradient of\n",
    "        # the eigenfunction at x\n",
    "        dKxx_dx_avg = dKxx_dx.mean(dim=-3) #[M x D]\n",
    "\n",
    "        beta = - torch.sqrt(M) * eigen_vecs.t() @ dKxx_dx_avg\n",
    "        beta *= (1. / eigen_vals[:, 0].unsqueeze(-1))\n",
    "\n",
    "        # assert beta.allclose(beta1), f\"incorrect computation {beta - beta1}\"\n",
    "        g = phi_x @ beta # [N x D]\n",
    "        return g"
   ]
  },
  {
   "cell_type": "code",
   "execution_count": 14,
   "metadata": {},
   "outputs": [],
   "source": [
    "class mixture(nn.Module):\n",
    "    def __init__(self,dim):\n",
    "        super(mixture, self).__init__()\n",
    "        self.scale=2.\n",
    "        self.dim=dim\n",
    "        self.mean=torch.distributions.categorical.Categorical(torch.ones(dim,device=device))\n",
    "        self.gaussian=MultivariateNormal(torch.zeros(dim,device=device), 0.01*torch.eye(dim,device=device))\n",
    "        self.modes=torch.cartesian_prod(*[torch.Tensor([0.,1.])]*dim).to(device)\n",
    "    def log_prob(self,x):\n",
    "        return self.gaussian.log_prob(x.unsqueeze(1)-self.scale*self.modes.unsqueeze(0)).mean(dim=1)\n",
    "    def sample(self,n=1):\n",
    "        return self.scale*self.mean.sample((n,dim))+self.gaussian.sample((n,))\n",
    "    \n",
    "        "
   ]
  },
  {
   "cell_type": "code",
   "execution_count": 15,
   "metadata": {},
   "outputs": [
    {
     "data": {
      "text/plain": [
       "tensor([[0., 0.],\n",
       "        [0., 1.],\n",
       "        [1., 0.],\n",
       "        [1., 1.]])"
      ]
     },
     "execution_count": 15,
     "metadata": {},
     "output_type": "execute_result"
    }
   ],
   "source": [
    "dim=2\n",
    "torch.cartesian_prod(*[torch.Tensor([0.,1.])]*dim)"
   ]
  },
  {
   "cell_type": "code",
   "execution_count": 16,
   "metadata": {},
   "outputs": [
    {
     "data": {
      "text/plain": [
       "tensor([-213.0410, -176.9769, -197.2713, -205.0610, -183.8897, -207.2416,\n",
       "        -179.9252, -187.4424, -223.9383, -190.3528, -203.9478, -211.9680,\n",
       "        -203.2134, -191.7222, -199.2897, -217.2037, -205.7270, -182.7929,\n",
       "        -215.6794, -194.1807, -232.0036, -195.7369, -191.5085, -204.2010,\n",
       "        -213.8758, -192.5532, -203.1326, -197.4785, -220.4697, -180.8924,\n",
       "        -212.1822, -203.5963, -189.4997, -202.4099, -198.2498, -204.2008,\n",
       "        -197.1510, -170.7905, -206.8104, -179.0879, -202.3788, -181.9948,\n",
       "        -208.0341, -189.0504, -163.3609, -196.7638, -187.4649, -192.3200,\n",
       "        -190.1661, -204.7641, -188.4304, -208.7092, -213.8164, -201.4020,\n",
       "        -204.8904, -213.3712, -222.7437, -181.3027, -219.6213, -182.7946,\n",
       "        -192.3168, -216.8012, -216.7367, -214.7658, -190.7401, -219.7892,\n",
       "        -207.9726, -186.5276, -207.9252, -209.7613, -183.9184, -200.0412,\n",
       "        -213.7866, -196.6345, -184.6749, -193.9065, -178.5068, -184.9879,\n",
       "        -211.7972, -191.6496, -181.3382, -208.1680, -204.1957, -188.7812,\n",
       "        -203.7987, -204.4923, -163.6945, -171.0012, -215.7610, -166.2962,\n",
       "        -189.4404, -191.9780, -172.9234, -188.6597, -174.8244, -173.3199,\n",
       "        -179.0835, -220.9648, -191.9209, -201.0391, -210.1022, -173.5176,\n",
       "        -200.3785, -201.0225, -228.4051, -216.7583, -188.0943, -201.9313,\n",
       "        -213.2540, -198.9429, -185.7093, -228.0106, -196.9130, -182.2927,\n",
       "        -188.2743, -225.8199, -211.6154, -206.2730, -224.3924, -199.8424,\n",
       "        -202.1712, -228.8663, -198.5044, -211.5424, -216.5378, -198.8738,\n",
       "        -208.4330, -201.0072, -198.7896, -227.5169, -208.9906, -178.8188,\n",
       "        -194.4299, -221.8312, -198.9977, -173.9468, -203.5455, -187.6915,\n",
       "        -195.1686, -219.0590, -197.6922, -179.6592, -197.8008, -190.9044,\n",
       "        -192.9439, -175.3055, -190.7384, -189.0457, -210.9013, -184.6789,\n",
       "        -205.0899, -196.7209, -187.9570, -209.7000, -196.5241, -191.5259,\n",
       "        -222.1685, -204.3429, -176.7943, -207.3846, -200.5478, -224.5026,\n",
       "        -181.7808, -205.6334, -190.1165, -183.1078, -204.9788, -215.7625,\n",
       "        -185.6019, -180.9188, -211.9948, -224.0692, -197.7880, -186.8343,\n",
       "        -213.2538, -189.1410, -208.1125, -212.6867, -196.4467, -184.8328,\n",
       "        -185.4881, -184.9454, -192.2296, -209.7527, -187.3024, -219.9298,\n",
       "        -197.3317, -187.3346, -196.9230, -198.2825, -197.2460, -186.0559,\n",
       "        -219.7690, -195.9761, -182.2103, -181.0763, -192.5362, -207.7113,\n",
       "        -198.5687, -167.2509, -200.7680, -194.2605, -186.3301, -189.5292,\n",
       "        -186.1178, -180.4888, -217.2623, -200.6270, -211.0462, -187.4454,\n",
       "        -181.6472, -188.4435, -170.9748, -216.7447, -176.1559, -175.7544,\n",
       "        -201.8923, -214.2705, -174.6589, -192.7764, -185.3273, -187.5134,\n",
       "        -228.7115, -230.1568, -209.5130, -204.7188, -184.1876, -211.8446,\n",
       "        -201.3773, -212.0415, -207.1038, -212.1911, -222.9843, -184.8311,\n",
       "        -214.4954, -181.3117, -196.4297, -207.5793, -204.7144, -205.5410,\n",
       "        -195.0308, -175.4367, -225.3510, -218.9550, -197.7996, -165.7007,\n",
       "        -193.7700, -194.2684, -189.9218, -203.6616, -185.3555, -170.0476,\n",
       "        -191.9832, -225.8672, -193.6935, -201.4342, -189.7847, -172.3560,\n",
       "        -200.9753, -214.3838, -189.2852, -220.8301, -166.4873, -200.8885,\n",
       "        -196.0804, -175.5703, -193.3218, -196.7103, -186.1746, -180.2762,\n",
       "        -192.5665, -189.5970, -214.3173, -218.5056, -199.2757, -194.0931,\n",
       "        -201.8022, -203.1179, -202.8740, -197.9707, -206.3991, -202.3982,\n",
       "        -202.0784, -214.1358, -197.6372, -212.8006, -193.4562, -186.4315,\n",
       "        -195.8255, -187.5119, -209.3818, -185.6668, -201.3444, -199.8441,\n",
       "        -190.6176, -207.0435, -187.5563, -179.6075, -183.9771, -183.9569,\n",
       "        -197.1322, -197.5521, -220.4451, -205.4081, -212.8236, -201.0558,\n",
       "        -197.0539, -201.2841, -195.9810, -237.0600, -205.1085, -196.0827,\n",
       "        -219.0195, -193.9877, -220.0850, -207.4738, -192.7845, -172.7231,\n",
       "        -217.8237, -207.6053, -189.1362, -218.4379, -212.6961, -191.5808,\n",
       "        -184.6845, -182.5212, -182.3105, -220.4347, -233.0759, -196.8618,\n",
       "        -202.0285, -211.7897, -205.0899, -196.3757, -182.9882, -198.9541,\n",
       "        -194.9171, -193.4629, -184.2238, -201.1281, -202.6801, -198.1775,\n",
       "        -191.6689, -186.7930, -216.4078, -197.7098, -200.3159, -190.7460,\n",
       "        -212.2442, -201.5387, -211.4924, -194.1198, -176.9188, -197.8053,\n",
       "        -207.0177, -202.3836, -176.7560, -172.8614, -197.9285, -205.1484,\n",
       "        -195.7371, -193.2042, -198.0604, -207.6047, -211.0821, -194.1431,\n",
       "        -203.7433, -211.7208, -206.7330, -172.2493, -194.4692, -212.1258,\n",
       "        -200.5729, -184.4619, -205.1646, -208.8565, -209.1739, -250.9379,\n",
       "        -197.6098, -217.2028, -222.7826, -185.0014, -200.7689, -194.1417,\n",
       "        -210.3700, -184.9138, -226.5328, -185.4228, -206.4143, -192.1413,\n",
       "        -193.2876, -187.8651, -207.4590, -181.1364, -214.5231, -188.4235,\n",
       "        -173.8929, -190.5856, -240.5575, -177.0904, -197.9750, -191.1957,\n",
       "        -192.4865, -167.9626, -203.7094, -198.7748, -189.1513, -208.2379,\n",
       "        -197.0166, -187.9625, -185.0854, -197.9501, -191.0538, -211.1141,\n",
       "        -218.3999, -227.1158, -207.1256, -173.6780, -194.5474, -226.0085,\n",
       "        -210.2869, -214.5963, -215.5988, -213.5269, -227.2046, -205.6556,\n",
       "        -189.9412, -178.2480, -184.1642, -206.9646, -190.5933, -178.6094,\n",
       "        -191.7108, -181.8037, -194.0655, -199.4630, -229.0534, -220.9586,\n",
       "        -185.0155, -187.2173, -197.4037, -212.1227, -203.3204, -188.4965,\n",
       "        -185.6917, -204.6951, -161.3781, -198.2401, -201.9818, -199.2962,\n",
       "        -215.2562, -170.5638, -205.5775, -195.7074, -208.8993, -188.6271,\n",
       "        -217.5925, -191.1846, -196.8743, -207.4663, -204.2598, -191.8562,\n",
       "        -195.6132, -188.3120, -211.0175, -195.5504, -200.0406, -210.3401,\n",
       "        -184.8108, -192.5822, -195.9995, -200.5036, -219.2527, -206.9179,\n",
       "        -208.1193, -210.9374, -179.7482, -185.8169, -191.6487, -212.5099,\n",
       "        -205.8363, -154.3813, -206.1660, -196.7697, -185.5373, -189.8764,\n",
       "        -193.0637, -174.9951, -213.2764, -187.4797, -212.7223, -202.9115,\n",
       "        -191.0952, -197.1744, -185.6918, -213.7825, -202.7708, -212.8626,\n",
       "        -208.6974, -202.0328, -202.0455, -211.7043, -197.7436, -195.3815,\n",
       "        -195.1268, -208.0377, -204.4904, -203.3660, -210.3459, -213.2985,\n",
       "        -200.1558, -194.5543, -189.3856, -188.9848, -193.1115, -190.2594,\n",
       "        -190.3538, -212.8120, -179.7952, -183.9008, -204.2829, -200.5550,\n",
       "        -185.4037, -198.9841, -211.8266, -185.5244, -199.8997, -182.2139,\n",
       "        -222.6405, -188.4196, -200.8894, -189.2650, -210.0325, -188.7453,\n",
       "        -197.8879, -155.9506, -210.1024, -202.6594, -180.9038, -193.6739,\n",
       "        -176.1395, -224.6109, -192.1571, -188.9469, -201.8899, -188.0680,\n",
       "        -192.4577, -203.6878, -181.8257, -172.6569, -174.0540, -190.8604,\n",
       "        -194.8113, -219.6959, -205.3500, -190.6118, -162.9948, -206.7294,\n",
       "        -215.2665, -191.7342, -211.1021, -205.7086, -191.2983, -174.0817,\n",
       "        -171.4078, -192.3878, -219.6706, -202.9670, -211.5208, -207.6368,\n",
       "        -184.6141, -183.0857, -209.3916, -202.7610, -190.0150, -194.9091,\n",
       "        -186.7672, -187.3055, -224.0283, -185.4579, -195.0951, -194.1010,\n",
       "        -186.0914, -212.9692, -201.6612, -200.2278, -213.4764, -204.9675,\n",
       "        -206.4853, -193.5665, -218.5804, -196.1541, -179.6492, -228.9379,\n",
       "        -223.0621, -192.7966, -201.8000, -184.8742, -220.9510, -193.3177,\n",
       "        -180.3742, -169.1588, -174.5519, -180.0364, -205.3802, -203.3486,\n",
       "        -176.8785, -225.0080, -192.5409, -202.8804, -182.1411, -198.3089,\n",
       "        -194.9586, -207.2803, -205.1277, -203.4377, -193.9498, -180.0993,\n",
       "        -185.5691, -198.5044, -174.4746, -224.3853, -200.7765, -193.1807,\n",
       "        -215.0001, -183.1542, -189.3483, -170.6199, -196.8962, -180.2627,\n",
       "        -211.8948, -225.6077, -210.6239, -202.9369, -217.4910, -190.6095,\n",
       "        -191.6972, -186.9180, -213.5993, -202.5496, -212.8536, -186.8740,\n",
       "        -200.7041, -216.3669, -192.0616, -206.7202, -193.4349, -208.9073,\n",
       "        -195.5750, -179.2636, -183.4265, -190.9354, -194.0929, -206.2160,\n",
       "        -196.0888, -197.9639, -222.9791, -186.2905, -196.4911, -168.1152,\n",
       "        -217.6394, -184.2969, -196.1885, -202.0764, -187.2038, -199.5376,\n",
       "        -210.1519, -187.4854, -190.3072, -232.2254, -184.8105, -221.8126,\n",
       "        -204.9915, -201.2205, -174.3958, -186.2453, -206.4501, -193.8828,\n",
       "        -202.7684, -213.3407, -225.7749, -197.4967, -189.6635, -176.6893,\n",
       "        -202.0535, -183.0870, -201.9192, -193.8072, -221.7384, -211.5136,\n",
       "        -214.2872, -188.8629, -201.9453, -188.5263, -198.7844, -191.3151,\n",
       "        -192.4912, -192.4375, -201.4712, -212.2976, -191.1378, -205.5081,\n",
       "        -189.0813, -197.3858, -192.1030, -206.0171, -214.2352, -219.8204,\n",
       "        -183.0287, -196.5250, -204.0260, -207.1796, -183.3585, -187.3243,\n",
       "        -202.2767, -184.6882, -187.9005, -204.8523, -208.5912, -212.9943,\n",
       "        -219.9100, -196.3331, -199.0019, -212.0728, -190.1053, -202.7411,\n",
       "        -191.7564, -192.1257, -229.3663, -196.2162, -217.4205, -206.2505,\n",
       "        -209.6198, -195.2635, -192.2655, -202.7291, -197.5850, -201.5247,\n",
       "        -196.6355, -205.4971, -190.9680, -205.9948, -197.3210, -227.3495,\n",
       "        -199.2771, -194.2251, -209.0161, -193.3830, -198.0649, -197.4409,\n",
       "        -206.7645, -215.4923, -220.6071, -211.3724, -209.3531, -205.3634,\n",
       "        -215.0312, -218.2087, -211.3195, -183.4981, -215.4552, -200.6718,\n",
       "        -169.5847, -175.2299, -201.0170, -214.0555, -180.0038, -179.5458,\n",
       "        -201.2595, -201.7512, -207.9867, -204.7025, -198.4600, -190.8015,\n",
       "        -185.8688, -195.3974, -201.0379, -198.0984, -185.2352, -208.9186,\n",
       "        -201.0803, -201.0204, -167.7242, -181.5623, -192.6640, -196.9988,\n",
       "        -208.6496, -196.2663, -174.5780, -205.5653, -187.1380, -212.4571,\n",
       "        -207.7020, -215.4276, -208.2815, -186.8393, -215.5590, -215.7225,\n",
       "        -189.9181, -170.3130, -208.6931, -184.7971, -207.6015, -205.9904,\n",
       "        -197.8203, -205.7129, -201.2502, -194.0003, -206.7854, -220.6249,\n",
       "        -194.2668, -168.6381, -198.0150, -202.2037, -205.1154, -183.3007,\n",
       "        -202.2450, -177.0999, -214.3086, -192.2898, -182.9411, -192.1814,\n",
       "        -188.8731, -211.2945, -217.2803, -214.7805, -185.4146, -185.6352,\n",
       "        -219.1839, -186.3011, -192.6649, -188.3520, -196.4635, -193.3966,\n",
       "        -214.4947, -192.8150, -196.4947, -187.9387, -186.7883, -219.0709,\n",
       "        -209.9470, -181.2725, -196.5679, -206.0722, -182.9116, -208.3762,\n",
       "        -197.8313, -207.1442, -191.9659, -183.1016, -186.7204, -211.6060,\n",
       "        -183.5342, -194.6908, -197.3169, -205.0592, -201.1570, -198.3385,\n",
       "        -213.6710, -176.8882, -218.6703, -202.9408, -207.4575, -216.4628,\n",
       "        -186.9701, -185.4333, -222.3463, -189.1534, -190.6344, -202.0215,\n",
       "        -181.7943, -195.5385, -195.4755, -201.3619, -185.0443, -191.6053,\n",
       "        -191.7156, -194.6076, -183.7862, -201.1911, -205.9609, -217.1216,\n",
       "        -190.6113, -185.2832, -216.9585, -177.1015, -176.9142, -180.8980,\n",
       "        -214.5995, -221.7428, -214.7791, -209.2486, -180.4309, -221.9876,\n",
       "        -192.7535, -197.4505, -223.0777, -193.0675, -194.8008, -237.2377,\n",
       "        -204.3311, -188.2181, -206.4271, -217.5390, -201.5814, -198.1324,\n",
       "        -189.9241, -187.4910, -216.7906, -189.1424, -178.2118, -206.5236,\n",
       "        -195.7305, -189.1484, -185.9330, -184.9789, -242.2652, -204.8524,\n",
       "        -204.3555, -187.8109, -207.0508, -202.7571, -199.3662, -204.4954,\n",
       "        -212.3072, -191.9399, -192.1360, -196.2280, -207.8132, -177.2997,\n",
       "        -203.0972, -190.7613, -229.7575, -168.7370, -209.0341, -194.9047,\n",
       "        -196.1592, -184.9793, -209.3532, -204.7940, -204.1631, -182.9036,\n",
       "        -204.3707, -181.6713, -190.9051, -241.7257, -186.7462, -194.6595,\n",
       "        -199.6631, -194.4148, -191.6900, -182.8753, -213.3140, -195.1617,\n",
       "        -191.5383, -224.7155, -204.8267, -179.5979, -198.7558, -199.9526,\n",
       "        -237.1025, -169.1009, -175.9297, -200.2339, -199.7184, -216.1504,\n",
       "        -190.1739, -191.2339, -207.3442, -185.0178, -181.9627, -190.1257,\n",
       "        -181.6747, -193.9328, -201.0116, -203.3233, -210.1120, -184.3417,\n",
       "        -212.6944, -201.3234, -219.1543, -201.1837, -191.4026, -196.6279,\n",
       "        -215.1516, -207.9136, -205.3180, -208.3445, -184.2692, -202.6357,\n",
       "        -189.3342, -225.8518, -205.4370, -179.9442, -191.1248, -196.0829,\n",
       "        -201.1724, -192.5309, -208.7204, -215.7187], device='cuda:0')"
      ]
     },
     "execution_count": 16,
     "metadata": {},
     "output_type": "execute_result"
    },
    {
     "data": {
      "image/png": "[encoded data removed]",
      "text/plain": [
       "<Figure size 432x288 with 1 Axes>"
      ]
     },
     "metadata": {
      "needs_background": "light"
     },
     "output_type": "display_data"
    }
   ],
   "source": [
    "target=mixture(2)\n",
    "sample=target.sample(1000).cpu()\n",
    "plt.scatter(sample[:,0],sample[:,1])\n",
    "target.log_prob(sample.to(device))\n"
   ]
  },
  {
   "cell_type": "markdown",
   "metadata": {},
   "source": [
    "# Generator #"
   ]
  },
  {
   "cell_type": "code",
   "execution_count": 11,
   "metadata": {},
   "outputs": [
    {
     "name": "stdout",
     "output_type": "stream",
     "text": [
      "BigGenerator(\n",
      "  (model): Sequential(\n",
      "    (0): Linear(in_features=5, out_features=20, bias=True)\n",
      "    (1): ReLU(inplace=True)\n",
      "    (2): Linear(in_features=20, out_features=40, bias=True)\n",
      "    (3): ReLU(inplace=True)\n",
      "    (4): Linear(in_features=40, out_features=2, bias=True)\n",
      "  )\n",
      ")\n"
     ]
    }
   ],
   "source": [
    "#generative model\n",
    "lat_dim=5\n",
    "param_count=2\n",
    "GeN = BigGenerator(lat_dim,param_count,device).to(device)\n",
    "print(GeN)\n",
    "\n",
    "#torch.nn.init.normal_(GeN.model[4].weight,mean=0., std=1.)\n",
    "#torch.nn.init.normal_(GeN.model[4].bias,mean=0., std=1.)\n",
    "\n"
   ]
  },
  {
   "cell_type": "markdown",
   "metadata": {},
   "source": [
    "# SSGE #"
   ]
  },
  {
   "cell_type": "code",
   "execution_count": 112,
   "metadata": {},
   "outputs": [
    {
     "data": {
      "text/plain": [
       "<matplotlib.legend.Legend at 0x7f988028f8e0>"
      ]
     },
     "execution_count": 112,
     "metadata": {},
     "output_type": "execute_result"
    },
    {
     "data": {
      "image/png": "[encoded data removed]",
      "text/plain": [
       "<Figure size 432x288 with 1 Axes>"
      ]
     },
     "metadata": {
      "needs_background": "light"
     },
     "output_type": "display_data"
    }
   ],
   "source": [
    "n_samples=100\n",
    "\n",
    "\n",
    "    \n",
    "var=GeN(100).detach().cpu()\n",
    "tar=target.sample(100).cpu()\n",
    "\n",
    "plt.scatter(var[:,0],var[:,1],  alpha=0.5,label='variational')\n",
    "plt.scatter(tar[:,0],tar[:,1], alpha=0.5)\n",
    "plt.legend()\n"
   ]
  },
  {
   "cell_type": "code",
   "execution_count": 14,
   "metadata": {},
   "outputs": [
    {
     "name": "stderr",
     "output_type": "stream",
     "text": [
      "100%|██████████| 2000/2000 [00:46<00:00, 43.04it/s]\n"
     ]
    }
   ],
   "source": [
    "H_grad=[]\n",
    "lr=0.01\n",
    "KLs=[]\n",
    "ps=[]\n",
    "qs=[]\n",
    "for _ in trange(2000):\n",
    "\n",
    "    sample=GeN(n_samples)\n",
    "\n",
    "    lp=-target.log_prob(sample).mean()\n",
    "     \n",
    "    # Get the estimate of the score \n",
    "    score_estimator = SpectralSteinEstimator(eta=0.1)\n",
    "\n",
    "    score = score_estimator(sample,sample)\n",
    "\n",
    "    for p in GeN.model.parameters():\n",
    "        grad=torch.autograd.grad(lp,p,retain_graph=True)[0]+torch.autograd.grad(sample, p, grad_outputs=score, retain_graph=True)[0]/n_samples\n",
    "        p.data.add_(-lr*grad)\n",
    "\n",
    "  \n",
    "\n",
    "    KLs.append(KL(sample.view(-1,dim),target.sample(n_samples),k=1,device='cpu').item())\n",
    "    \n",
    "   # print(lp_grad_p[0])\n",
    "    \n",
    "#    H_grad.append(entropy_grad)"
   ]
  },
  {
   "cell_type": "code",
   "execution_count": 15,
   "metadata": {},
   "outputs": [
    {
     "data": {
      "text/plain": [
       "(-0.38887794613838195,\n",
       " 1.3903457701206208,\n",
       " -0.3842846050858498,\n",
       " 1.4052145078778266)"
      ]
     },
     "execution_count": 15,
     "metadata": {},
     "output_type": "execute_result"
    },
    {
     "data": {
      "image/png": "[encoded data removed]",
      "text/plain": [
       "<Figure size 432x288 with 1 Axes>"
      ]
     },
     "metadata": {
      "needs_background": "light"
     },
     "output_type": "display_data"
    }
   ],
   "source": [
    "var=GeN(1000).detach().cpu()\n",
    "tar=target.sample(1000).cpu()\n",
    "\n",
    "plt.scatter(var[:,0],var[:,1],alpha=0.5)\n",
    "plt.scatter(tar[:,0],tar[:,1],alpha=0.5)\n",
    "plt.axis('scaled')"
   ]
  },
  {
   "cell_type": "code",
   "execution_count": 16,
   "metadata": {},
   "outputs": [
    {
     "data": {
      "text/plain": [
       "[<matplotlib.lines.Line2D at 0x7fd27c276f40>]"
      ]
     },
     "execution_count": 16,
     "metadata": {},
     "output_type": "execute_result"
    },
    {
     "data": {
      "image/png": "[encoded data removed]",
      "text/plain": [
       "<Figure size 432x288 with 1 Axes>"
      ]
     },
     "metadata": {
      "needs_background": "light"
     },
     "output_type": "display_data"
    }
   ],
   "source": [
    "plt.plot(KLs)"
   ]
  },
  {
   "cell_type": "markdown",
   "metadata": {},
   "source": [
    "# Generator #"
   ]
  },
  {
   "cell_type": "code",
   "execution_count": 17,
   "metadata": {},
   "outputs": [
    {
     "name": "stdout",
     "output_type": "stream",
     "text": [
      "BigGenerator(\n",
      "  (model): Sequential(\n",
      "    (0): Linear(in_features=5, out_features=20, bias=True)\n",
      "    (1): ReLU(inplace=True)\n",
      "    (2): Linear(in_features=20, out_features=40, bias=True)\n",
      "    (3): ReLU(inplace=True)\n",
      "    (4): Linear(in_features=40, out_features=2, bias=True)\n",
      "  )\n",
      ")\n"
     ]
    },
    {
     "data": {
      "text/plain": [
       "Parameter containing:\n",
       "tensor([ 1.3917, -0.4725], device='cuda:0', requires_grad=True)"
      ]
     },
     "execution_count": 17,
     "metadata": {},
     "output_type": "execute_result"
    }
   ],
   "source": [
    "#generative model\n",
    "lat_dim=5\n",
    "param_count=2\n",
    "GeN = BigGenerator(lat_dim,param_count,device).to(device)\n",
    "print(GeN)\n",
    "\n",
    "torch.nn.init.normal_(GeN.model[4].weight,mean=0., std=1.)\n",
    "torch.nn.init.normal_(GeN.model[4].bias,mean=0., std=1.)\n",
    "\n"
   ]
  },
  {
   "cell_type": "markdown",
   "metadata": {},
   "source": [
    "# NN estimator #"
   ]
  },
  {
   "cell_type": "code",
   "execution_count": 18,
   "metadata": {},
   "outputs": [
    {
     "data": {
      "text/plain": [
       "<matplotlib.legend.Legend at 0x7ffa1d19dc40>"
      ]
     },
     "execution_count": 18,
     "metadata": {},
     "output_type": "execute_result"
    },
    {
     "data": {
      "image/png": "[encoded data removed]",
      "text/plain": [
       "<Figure size 432x288 with 1 Axes>"
      ]
     },
     "metadata": {
      "needs_background": "light"
     },
     "output_type": "display_data"
    }
   ],
   "source": [
    "n_samples=100\n",
    "var=GeN(100).detach().cpu()\n",
    "tar=target.sample(100).cpu()\n",
    "\n",
    "plt.scatter(var[:,0],var[:,1],  alpha=0.5,label='variational')\n",
    "plt.scatter(tar[:,0],tar[:,1], alpha=0.5)\n",
    "plt.legend()\n",
    "\n"
   ]
  },
  {
   "cell_type": "code",
   "execution_count": 19,
   "metadata": {},
   "outputs": [
    {
     "name": "stderr",
     "output_type": "stream",
     "text": [
      "100%|██████████| 4000/4000 [00:30<00:00, 131.87it/s, K=-.869]  \n"
     ]
    }
   ],
   "source": [
    "KLs=[]\n",
    "H_grad=[]\n",
    "lr=0.01\n",
    "n_samples=200\n",
    "\n",
    "ps=[]\n",
    "qs=[]\n",
    "with trange(4000) as tr:\n",
    "    for t in tr:\n",
    "        sample=GeN(n_samples)\n",
    "\n",
    "        K=KL(sample,target.sample(n_samples),k=5,device='cpu')\n",
    "\n",
    "        KLs.append(K.item())\n",
    "        tr.set_postfix(K=K.item())\n",
    "\n",
    "        for p in GeN.model.parameters():\n",
    "            grad=torch.autograd.grad(K,p,retain_graph=True)[0]\n",
    "            p.data.add_(-lr*grad)"
   ]
  },
  {
   "cell_type": "code",
   "execution_count": null,
   "metadata": {},
   "outputs": [],
   "source": [
    "var=GeN(500).detach().cpu()\n",
    "tar=target.sample(1000).cpu()\n",
    "\n",
    "\n",
    "plt.scatter(var[:,0],var[:,1],  alpha=0.2,label='variational')\n",
    "plt.scatter(tar[:,0],tar[:,1], alpha=0.2)\n",
    "\n",
    "plt.legend()\n",
    "plt.axis('scaled')\n",
    "plt.show()"
   ]
  },
  {
   "cell_type": "code",
   "execution_count": 94,
   "metadata": {},
   "outputs": [
    {
     "data": {
      "text/plain": [
       "[<matplotlib.lines.Line2D at 0x7f445034f6a0>]"
      ]
     },
     "execution_count": 94,
     "metadata": {},
     "output_type": "execute_result"
    },
    {
     "data": {
      "image/png": "[encoded data removed]",
      "text/plain": [
       "<Figure size 432x288 with 1 Axes>"
      ]
     },
     "metadata": {
      "needs_background": "light"
     },
     "output_type": "display_data"
    }
   ],
   "source": [
    "import matplotlib.pyplot as plt\n",
    "plt.plot(KLs)"
   ]
  },
  {
   "cell_type": "markdown",
   "metadata": {},
   "source": [
    "# consistency #"
   ]
  },
  {
   "cell_type": "code",
   "execution_count": 145,
   "metadata": {},
   "outputs": [
    {
     "name": "stderr",
     "output_type": "stream",
     "text": [
      "100%|██████████| 20/20 [01:34<00:00,  4.70s/it]\n"
     ]
    }
   ],
   "source": [
    "import timeit\n",
    "import numpy as np\n",
    "from tqdm import trange\n",
    "\n",
    "n_samples=100\n",
    "target = torch.distributions.Normal(torch.tensor([0.0]), torch.tensor([1.]))\n",
    "lr=0.1\n",
    "\n",
    "\n",
    "NN_ps=[]\n",
    "NN_qs=[]\n",
    "NN_time=[]\n",
    "for n in trange(20):\n",
    "    p=torch.tensor([1.]).uniform_(0.5,5.).detach().requires_grad_(True).to(device)\n",
    "    q=torch.tensor([10.]).uniform_(0.,10.).detach().requires_grad_(True).to(device)\n",
    "    start = timeit.default_timer()\n",
    "\n",
    "    for _ in range(2000):\n",
    "        x=torch.randn(n_samples).to(device)\n",
    "\n",
    "        n_samples=x.shape[0]\n",
    "        sample=p*x+q\n",
    "\n",
    "        K=KL(sample.view(-1,1),target.sample((n_samples,)).to(device),k=5,device='cpu')\n",
    "\n",
    "        p_grad=torch.autograd.grad(K,p,retain_graph=True)\n",
    "        q_grad=torch.autograd.grad(K,q,retain_graph=True)\n",
    "\n",
    "        p.data.add_(-lr*p_grad[0])\n",
    "        q.data.add_(-lr*q_grad[0])\n",
    "\n",
    "    NN_ps.append((p.item()))\n",
    "    NN_qs.append((q.item()))\n",
    "    stop = timeit.default_timer()\n",
    "    NN_time.append(stop - start)\n",
    "                 \n",
    "\n",
    "    "
   ]
  },
  {
   "cell_type": "code",
   "execution_count": 146,
   "metadata": {},
   "outputs": [
    {
     "name": "stdout",
     "output_type": "stream",
     "text": [
      "average time [s]: 4.685762455058284\n",
      "mean: (-0.04008566774427891, 0.4569391992067915)\n",
      "scale: (1.1856259882450104, 0.2521446274233837)\n"
     ]
    },
    {
     "data": {
      "image/png": "[encoded data removed]",
      "text/plain": [
       "<Figure size 432x432 with 3 Axes>"
      ]
     },
     "metadata": {
      "needs_background": "light"
     },
     "output_type": "display_data"
    }
   ],
   "source": [
    "sn.jointplot(NN_ps,NN_qs)\n",
    "print('average time [s]: '+str(np.mean(NN_time)))\n",
    "print('mean: '+str((np.mean(NN_qs),np.std(NN_qs))))\n",
    "print('scale: '+str((np.mean(NN_ps),np.std(NN_ps))))"
   ]
  },
  {
   "cell_type": "code",
   "execution_count": null,
   "metadata": {},
   "outputs": [
    {
     "name": "stderr",
     "output_type": "stream",
     "text": [
      " 10%|█         | 2/20 [01:08<10:11, 33.98s/it]"
     ]
    }
   ],
   "source": [
    "import timeit\n",
    "import numpy as np\n",
    "from tqdm import trange\n",
    "\n",
    "n_samples=100\n",
    "target = torch.distributions.Normal(torch.tensor([0.0],device=device), torch.tensor([1.],device=device))\n",
    "lr=0.1\n",
    "\n",
    "\n",
    "SSGE_ps=[]\n",
    "SSGE_qs=[]\n",
    "SSGE_time=[]\n",
    "for n in trange(20):\n",
    "    p=torch.Tensor(1).uniform_(0.5,5.).detach().requires_grad_(True).to(device)\n",
    "    q=torch.Tensor(1).uniform_(0.,10.).detach().requires_grad_(True).to(device)\n",
    "    start = timeit.default_timer()\n",
    "\n",
    "    for _ in range(2000):\n",
    "        x=torch.randn(n_samples).to(device)\n",
    "\n",
    "        n_samples=x.shape[0]\n",
    "        repeat_arg = (n_samples,) + (1,) * len(p.size())\n",
    "        pr=p.repeat(*repeat_arg)\n",
    "        qr=q.repeat(*repeat_arg)\n",
    "        y=pr*x+qr\n",
    "\n",
    "        sample=y[0].unsqueeze(-1)\n",
    "\n",
    "        lp=-target.log_prob(sample).mean()\n",
    "        lp_grad_p=torch.autograd.grad(lp,p,retain_graph=True)\n",
    "        lp_grad_q=torch.autograd.grad(lp,q,retain_graph=True)\n",
    "\n",
    "\n",
    "        I=torch.eye(n_samples).to(device)\n",
    "        Jp = torch.autograd.grad(y, pr,\n",
    "                              grad_outputs=I,\n",
    "                              retain_graph=True)\n",
    "        Jq = torch.autograd.grad(y, qr,\n",
    "                              grad_outputs=I,\n",
    "                              retain_graph=True)\n",
    "        Jp[0].shape\n",
    "        y_grad=torch.stack([Jp[0],Jq[0]],dim=1).to(device)\n",
    "\n",
    "\n",
    "        grad_estimator = EntropyGradient(eta=0.1)\n",
    "        entropy_grad = grad_estimator(sample, y_grad)\n",
    "\n",
    "        p.data.add_(-lr*(entropy_grad[0]+lp_grad_p[0]))\n",
    "        q.data.add_(-lr*(entropy_grad[1]+lp_grad_q[0]))\n",
    "\n",
    "    SSGE_ps.append((p.item()))\n",
    "    SSGE_qs.append((q.item()))\n",
    "    stop = timeit.default_timer()\n",
    "    SSGE_time.append(stop - start)\n",
    "                 \n"
   ]
  },
  {
   "cell_type": "code",
   "execution_count": 148,
   "metadata": {},
   "outputs": [
    {
     "name": "stdout",
     "output_type": "stream",
     "text": [
      "NN average time [s]: 4.685762455058284\n",
      "NN mean: (-0.04008566774427891, 0.4569391992067915)\n",
      "NN scale: (1.1856259882450104, 0.2521446274233837)\n",
      "SSGE average time [s]: nan\n",
      "SSGE mean: (nan, nan)\n",
      "SSGE scale: (nan, nan)\n"
     ]
    },
    {
     "name": "stderr",
     "output_type": "stream",
     "text": [
      "/home/yann/anaconda3/envs/bnn/lib/python3.8/site-packages/numpy/core/fromnumeric.py:3334: RuntimeWarning: Mean of empty slice.\n",
      "  return _methods._mean(a, axis=axis, dtype=dtype,\n",
      "/home/yann/anaconda3/envs/bnn/lib/python3.8/site-packages/numpy/core/_methods.py:161: RuntimeWarning: invalid value encountered in double_scalars\n",
      "  ret = ret.dtype.type(ret / rcount)\n",
      "/home/yann/anaconda3/envs/bnn/lib/python3.8/site-packages/numpy/core/_methods.py:216: RuntimeWarning: Degrees of freedom <= 0 for slice\n",
      "  ret = _var(a, axis=axis, dtype=dtype, out=out, ddof=ddof,\n",
      "/home/yann/anaconda3/envs/bnn/lib/python3.8/site-packages/numpy/core/_methods.py:185: RuntimeWarning: invalid value encountered in true_divide\n",
      "  arrmean = um.true_divide(\n",
      "/home/yann/anaconda3/envs/bnn/lib/python3.8/site-packages/numpy/core/_methods.py:209: RuntimeWarning: invalid value encountered in double_scalars\n",
      "  ret = ret.dtype.type(ret / rcount)\n"
     ]
    },
    {
     "data": {
      "image/png": "[encoded data removed]",
      "text/plain": [
       "<Figure size 432x432 with 3 Axes>"
      ]
     },
     "metadata": {
      "needs_background": "light"
     },
     "output_type": "display_data"
    },
    {
     "data": {
      "image/png": "[encoded data removed]",
      "text/plain": [
       "<Figure size 432x432 with 3 Axes>"
      ]
     },
     "metadata": {
      "needs_background": "light"
     },
     "output_type": "display_data"
    }
   ],
   "source": [
    "sn.jointplot(NN_ps,NN_qs)\n",
    "sn.jointplot(SSGE_ps,SSGE_qs)\n",
    "print('NN average time [s]: '+str(np.mean(NN_time)))\n",
    "print('NN mean: '+str((np.mean(NN_qs),np.std(NN_qs))))\n",
    "print('NN scale: '+str((np.mean(NN_ps),np.std(NN_ps))))\n",
    "print('SSGE average time [s]: '+str(np.mean(SSGE_time)))\n",
    "print('SSGE mean: '+str((np.mean(SSGE_qs),np.std(SSGE_qs))))\n",
    "print('SSGE scale: '+str((np.mean(SSGE_ps),np.std(SSGE_ps))))\n"
   ]
  },
  {
   "cell_type": "code",
   "execution_count": null,
   "metadata": {},
   "outputs": [],
   "source": []
  }
 ],
 "metadata": {
  "kernelspec": {
   "display_name": "Python 3",
   "language": "python",
   "name": "python3"
  },
  "language_info": {
   "codemirror_mode": {
    "name": "ipython",
    "version": 3
   },
   "file_extension": ".py",
   "mimetype": "text/x-python",
   "name": "python",
   "nbconvert_exporter": "python",
   "pygments_lexer": "ipython3",
   "version": "3.8.3"
  }
 },
 "nbformat": 4,
 "nbformat_minor": 4
}
