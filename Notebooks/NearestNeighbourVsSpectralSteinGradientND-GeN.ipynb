{
 "cells": [
  {
   "cell_type": "code",
   "execution_count": 3,
   "metadata": {},
   "outputs": [
    {
     "name": "stdout",
     "output_type": "stream",
     "text": [
      "/home/yann/IVISpaces\n"
     ]
    }
   ],
   "source": [
    "cd .."
   ]
  },
  {
   "cell_type": "code",
   "execution_count": 4,
   "metadata": {},
   "outputs": [],
   "source": [
    "from torch import nn\n",
    "\n",
    "import torch\n",
    "from abc import abstractmethod\n",
    "import torch.tensor as Tensor\n",
    "import seaborn as sn\n",
    "import matplotlib.pyplot as plt\n",
    "\n",
    "from tqdm import trange\n",
    "from Models import BigGenerator\n",
    "\n",
    "from torch.distributions.multivariate_normal import MultivariateNormal\n"
   ]
  },
  {
   "cell_type": "code",
   "execution_count": 5,
   "metadata": {},
   "outputs": [],
   "source": [
    "device = torch.device('cuda:0' if torch.cuda.is_available() else 'cpu')\n"
   ]
  },
  {
   "cell_type": "code",
   "execution_count": 6,
   "metadata": {},
   "outputs": [],
   "source": [
    "def KL(theta0, theta1, k=1, device='cpu', p=2):\n",
    "    \"\"\"\n",
    "        Parameters:\n",
    "            theta0 (Tensor): Samples, P X NbDimensions\n",
    "            theta1 (Tensor): Samples, R X NbDimensions\n",
    "            k (Int): positive ordinal number\n",
    "\n",
    "        Returns:\n",
    "            (Float) k-Nearest Neighbour Estimation of the KL from theta0 to theta1\n",
    "\n",
    "        Kullback-Leibler Divergence Estimation of Continuous Distributions Fernando Pérez-Cruz\n",
    "        \"\"\"\n",
    "\n",
    "    n0 = theta0.shape[0]\n",
    "    n1 = theta1.shape[0]\n",
    "    dim0 = theta0.shape[1]\n",
    "    dim1 = theta1.shape[1]\n",
    "    assert dim0 == dim1\n",
    "\n",
    "    D0 = torch.cdist(theta0, theta0, p=p)\n",
    "    D1 = torch.cdist(theta0, theta1, p=p)\n",
    "\n",
    "    a0 = torch.topk(D0, k=k + 1, dim=1, largest=False, sorted=True)[0][:,k]  # .clamp(torch.finfo().eps,float('inf')).to(device)\n",
    "    a1 = torch.topk(D1, k=k, dim=1, largest=False, sorted=True)[0][:,k - 1]  # .clamp(torch.finfo().eps,float('inf')).to(device)\n",
    "\n",
    "    assert a0.shape == a1.shape, 'dimension do not match'\n",
    "\n",
    "    d = torch.as_tensor(float(dim0), device=device)\n",
    "    N0 = torch.as_tensor(float(n0), device=device)\n",
    "    N1 = torch.as_tensor(float(n1), device=device)\n",
    "\n",
    "    Mnn = (torch.log(a1) - 0.7*torch.log(a0)).mean()\n",
    "    return d*Mnn + N1.log() - (N0 - 1).log()"
   ]
  },
  {
   "cell_type": "code",
   "execution_count": 7,
   "metadata": {},
   "outputs": [],
   "source": [
    "# from https://github.com/AntixK/Spectral-Stein-Gradient\n",
    "\n",
    "class BaseScoreEstimator:\n",
    "\n",
    "    @staticmethod\n",
    "    def rbf_kernel(x1: Tensor,\n",
    "                   x2: Tensor,\n",
    "                   sigma: float) -> Tensor:\n",
    "        return torch.exp(-((x1 - x2).pow(2).sum(-1))/(2 * sigma ** 2))\n",
    "\n",
    "    def gram_matrix(self,\n",
    "             x1: Tensor,\n",
    "             x2: Tensor,\n",
    "             sigma: float) -> Tensor:\n",
    "        x1 = x1.unsqueeze(-2) # Make it into a column tensor\n",
    "        x2 = x2.unsqueeze(-3) # Make it into a row tensor\n",
    "        return self.rbf_kernel(x1, x2, sigma)\n",
    "\n",
    "    def grad_gram(self,\n",
    "                  x1: Tensor,\n",
    "                  x2: Tensor,\n",
    "                  sigma: float) -> Tensor:\n",
    "        \"\"\"\n",
    "        Computes the gradients of the RBF gram matrix with respect\n",
    "        to the inputs x1 an x2. It is given by\n",
    "        .. math::\n",
    "            \\nabla_x1 k(x1, x2) = k(x1, x2) \\frac{x1- x2}{\\sigma^2}\n",
    "            \\nabla_x2 k(x1, x2) = k(x1, x2) -\\frac{x1- x2}{\\sigma^2}\n",
    "        :param x1: (Tensor) [N x D]\n",
    "        :param x2: (Tensor) [M x D]\n",
    "        :param sigma: (Float) Width of the RBF kernel\n",
    "        :return: Gram matrix [N x M],\n",
    "                 gradients with respect to x1 [N x M x D],\n",
    "                 gradients with respect to x2 [N x M x D]\n",
    "        \"\"\"\n",
    "        with torch.no_grad():\n",
    "            Kxx = self.gram_matrix(x1, x2, sigma)\n",
    "\n",
    "            x1 = x1.unsqueeze(-2)  # Make it into a column tensor\n",
    "            x2 = x2.unsqueeze(-3)  # Make it into a row tensor\n",
    "            diff = (x1 - x2) / (sigma ** 2)\n",
    "\n",
    "            dKxx_dx1 = Kxx.unsqueeze(-1) * (-diff)\n",
    "            dKxx_dx2 = Kxx.unsqueeze(-1) * diff\n",
    "            return Kxx, dKxx_dx1, dKxx_dx2\n",
    "\n",
    "    def heuristic_sigma(self,\n",
    "                        x:Tensor,\n",
    "                        xm: Tensor) -> Tensor:\n",
    "        \"\"\"\n",
    "        Uses the median-heuristic for selecting the\n",
    "        appropriate sigma for the RBF kernel based\n",
    "        on the given samples.\n",
    "        The kernel width is set to the media of the\n",
    "        pairwise distances between x and xm.\n",
    "        :param x: (Tensor) [N x D]\n",
    "        :param xm: (Tensor) [M x D]\n",
    "        :return:\n",
    "        \"\"\"\n",
    "\n",
    "        with torch.no_grad():\n",
    "            x1 = x.unsqueeze(-2)   # Make it into a column tensor\n",
    "            x2 = xm.unsqueeze(-3)  # Make it into a row tensor\n",
    "\n",
    "            pdist_mat = torch.sqrt(((x1 - x2) ** 2).sum(dim = -1)) # [N x M]\n",
    "            kernel_width = torch.median(torch.flatten(pdist_mat))\n",
    "            return kernel_width\n",
    "\n",
    "    @abstractmethod\n",
    "    def compute_score_gradients(self, x: Tensor, xm: Tensor = None):\n",
    "        raise NotImplementedError\n",
    "\n",
    "    def __call__(self, x: Tensor, xm: Tensor = None):\n",
    "        return self.compute_score_gradients(x, xm)"
   ]
  },
  {
   "cell_type": "code",
   "execution_count": 8,
   "metadata": {},
   "outputs": [],
   "source": [
    "class SpectralSteinEstimator(BaseScoreEstimator):\n",
    "    def __init__(self,\n",
    "                 eta: float = None,\n",
    "                 num_eigs: int = None) -> None:\n",
    "        self.eta = eta\n",
    "        self.num_eigs = num_eigs\n",
    "\n",
    "    def nystrom_method(self,\n",
    "                       x: Tensor,\n",
    "                       eval_points: Tensor,\n",
    "                       eigen_vecs: Tensor,\n",
    "                       eigen_vals: Tensor,\n",
    "                       kernel_sigma: float) -> Tensor:\n",
    "        \"\"\"\n",
    "        Implements the Nystrom method for approximating the\n",
    "        eigenfunction (generalized eigenvectors) for the kernel\n",
    "        at x using the M eval_points (x_m). It is given\n",
    "        by -\n",
    "         .. math::\n",
    "            phi_j(x) = \\frac{M}{\\lambda_j} \\sum_{m=1}^M u_{jm} k(x, x_m)\n",
    "        :param x: (Tensor) Point at which the eigenfunction is evaluated [N x D]\n",
    "        :param eval_points: (Tensor) Sample points from the data of ize M [M x D]\n",
    "        :param eigen_vecs: (Tensor) Eigenvectors of the gram matrix [M x M]\n",
    "        :param eigen_vals: (Tensor) Eigenvalues of the gram matrix [M x 2]\n",
    "        :param kernel_sigma: (Float) Kernel width\n",
    "        :return: Eigenfunction at x [N x M]\n",
    "        \"\"\"\n",
    "        M = torch.tensor(eval_points.size(-2), dtype=torch.float)\n",
    "        Kxxm = self.gram_matrix(x, eval_points, kernel_sigma)\n",
    "        phi_x =  torch.sqrt(M) * Kxxm @ eigen_vecs\n",
    "\n",
    "        phi_x *= 1. / eigen_vals[:,0] # Take only the real part of the eigenvals\n",
    "                                      # as the Im is 0 (Symmetric matrix)\n",
    "        return phi_x\n",
    "\n",
    "\n",
    "    def compute_score_gradients(self,\n",
    "                                x: Tensor,\n",
    "                                xm: Tensor = None) -> Tensor:\n",
    "        \"\"\"\n",
    "        Computes the Spectral Stein Gradient Estimate (SSGE) for the\n",
    "        score function. The SSGE is given by\n",
    "        .. math::\n",
    "            \\nabla_{xi} phi_j(x) = \\frac{1}{\\mu_j M} \\sum_{m=1}^M \\nabla_{xi}k(x,x^m) \\phi_j(x^m)\n",
    "            \\beta_{ij} = -\\frac{1}{M} \\sum_{m=1}^M \\nabla_{xi} phi_j (x^m)\n",
    "            \\g_i(x) = \\sum_{j=1}^J \\beta_{ij} \\phi_j(x)\n",
    "        :param x: (Tensor) Point at which the gradient is evaluated [N x D]\n",
    "        :param xm: (Tensor) Samples for the kernel [M x D]\n",
    "        :return: gradient estimate [N x D]\n",
    "        \"\"\"\n",
    "        if xm is None:\n",
    "            xm = x\n",
    "            sigma = self.heuristic_sigma(xm, xm)\n",
    "        else:\n",
    "            # Account for the new data points too\n",
    "            _xm = torch.cat((x, xm), dim=-2)\n",
    "            sigma = self.heuristic_sigma(_xm, _xm)\n",
    "\n",
    "        M = torch.tensor(xm.size(-2), dtype=torch.float)\n",
    "\n",
    "        Kxx, dKxx_dx, _ = self.grad_gram(xm, xm, sigma)\n",
    "\n",
    "        # Kxx = Kxx + eta * I\n",
    "        if self.eta is not None:\n",
    "            Kxx += self.eta * torch.eye(xm.size(-2)).to(xm.device)\n",
    "\n",
    "        eigen_vals, eigen_vecs = torch.eig(Kxx, eigenvectors=True)\n",
    "\n",
    "        if self.num_eigs is not None:\n",
    "            eigen_vals = eigen_vals[:self.num_eigs]\n",
    "            eigen_vecs = eigen_vecs[:, :self.num_eigs]\n",
    "\n",
    "        phi_x = self.nystrom_method(x, xm, eigen_vecs, eigen_vals, sigma) # [N x M]\n",
    "\n",
    "        # Compute the Monte Carlo estimate of the gradient of\n",
    "        # the eigenfunction at x\n",
    "        dKxx_dx_avg = dKxx_dx.mean(dim=-3) #[M x D]\n",
    "\n",
    "        beta = - torch.sqrt(M) * eigen_vecs.t() @ dKxx_dx_avg\n",
    "        beta *= (1. / eigen_vals[:, 0].unsqueeze(-1))\n",
    "\n",
    "        # assert beta.allclose(beta1), f\"incorrect computation {beta - beta1}\"\n",
    "        g = phi_x @ beta # [N x D]\n",
    "        return g"
   ]
  },
  {
   "cell_type": "code",
   "execution_count": 232,
   "metadata": {},
   "outputs": [],
   "source": [
    "class mixture(nn.Module):\n",
    "    def __init__(self,dim, scale=2.0):\n",
    "        super(mixture, self).__init__()\n",
    "        self.scale=scale\n",
    "        self.dim=dim\n",
    "        self.mean=torch.distributions.categorical.Categorical(torch.ones(dim,device=device))\n",
    "        self.gaussian=MultivariateNormal(torch.zeros(dim,device=device), .01*torch.eye(dim,device=device))\n",
    "        self.modes=scale*torch.cartesian_prod(*[torch.Tensor([0.,1.])]*dim).to(device)\n",
    "    def log_prob(self,x):\n",
    "        val=x.unsqueeze(1)-self.modes.unsqueeze(0)\n",
    "        return self.gaussian.log_prob(val).logsumexp(dim=1)-torch.tensor(4.).log()\n",
    "    def sample(self,n=1):\n",
    "        return self.scale*self.mean.sample((n,dim))+self.gaussian.sample((n,))\n",
    "    \n",
    "        "
   ]
  },
  {
   "cell_type": "code",
   "execution_count": 233,
   "metadata": {},
   "outputs": [
    {
     "data": {
      "text/plain": [
       "tensor([[0., 0.],\n",
       "        [0., 1.],\n",
       "        [1., 0.],\n",
       "        [1., 1.]])"
      ]
     },
     "execution_count": 233,
     "metadata": {},
     "output_type": "execute_result"
    }
   ],
   "source": [
    "dim=2\n",
    "torch.cartesian_prod(*[torch.Tensor([0.,1.])]*dim)"
   ]
  },
  {
   "cell_type": "code",
   "execution_count": 234,
   "metadata": {},
   "outputs": [
    {
     "name": "stdout",
     "output_type": "stream",
     "text": [
      "tensor([[0., 0.],\n",
      "        [0., 2.],\n",
      "        [2., 0.],\n",
      "        [2., 2.]], device='cuda:0')\n"
     ]
    },
    {
     "data": {
      "text/plain": [
       "tensor([1.3810], device='cuda:0')"
      ]
     },
     "execution_count": 234,
     "metadata": {},
     "output_type": "execute_result"
    }
   ],
   "source": [
    "target=mixture(2)\n",
    "print(target.modes)\n",
    "target.log_prob(2*torch.ones(1,2).to(device))"
   ]
  },
  {
   "cell_type": "code",
   "execution_count": 235,
   "metadata": {},
   "outputs": [
    {
     "data": {
      "image/png": "[encoded data removed]",
      "text/plain": [
       "<Figure size 1440x1440 with 2 Axes>"
      ]
     },
     "metadata": {
      "needs_background": "light"
     },
     "output_type": "display_data"
    }
   ],
   "source": [
    "import seaborn as sns\n",
    "n=50\n",
    "points=torch.linspace(-1.,3.,n).to(device)\n",
    "points_sq=torch.cartesian_prod(points,points)\n",
    "\n",
    "pdf=target.log_prob(points_sq.view(-1,2)).exp()\n",
    "fig, ax = plt.subplots(figsize=(20,20))\n",
    "q=sns.heatmap(pdf.view(50,50).cpu())\n"
   ]
  },
  {
   "cell_type": "markdown",
   "metadata": {},
   "source": [
    "# Generator #"
   ]
  },
  {
   "cell_type": "code",
   "execution_count": 279,
   "metadata": {},
   "outputs": [
    {
     "name": "stdout",
     "output_type": "stream",
     "text": [
      "BigGenerator(\n",
      "  (model): Sequential(\n",
      "    (0): Linear(in_features=5, out_features=20, bias=True)\n",
      "    (1): ReLU(inplace=True)\n",
      "    (2): Linear(in_features=20, out_features=40, bias=True)\n",
      "    (3): ReLU(inplace=True)\n",
      "    (4): Linear(in_features=40, out_features=2, bias=True)\n",
      "  )\n",
      ")\n"
     ]
    },
    {
     "data": {
      "text/plain": [
       "Parameter containing:\n",
       "tensor([-0.7399,  0.0083], device='cuda:0', requires_grad=True)"
      ]
     },
     "execution_count": 279,
     "metadata": {},
     "output_type": "execute_result"
    }
   ],
   "source": [
    "#generative model\n",
    "lat_dim=5\n",
    "param_count=2\n",
    "GeN = BigGenerator(lat_dim,param_count,device).to(device)\n",
    "print(GeN)\n",
    "\n",
    "torch.nn.init.normal_(GeN.model[4].weight,mean=0., std=3.)\n",
    "torch.nn.init.normal_(GeN.model[4].bias,mean=0., std=1.)\n",
    "\n"
   ]
  },
  {
   "cell_type": "markdown",
   "metadata": {},
   "source": [
    "# SSGE #"
   ]
  },
  {
   "cell_type": "code",
   "execution_count": 280,
   "metadata": {},
   "outputs": [
    {
     "data": {
      "image/png": "[encoded data removed]",
      "text/plain": [
       "<Figure size 432x288 with 1 Axes>"
      ]
     },
     "metadata": {
      "needs_background": "light"
     },
     "output_type": "display_data"
    }
   ],
   "source": [
    "n_samples=100\n",
    "\n",
    "\n",
    "    \n",
    "var=GeN(100).detach().cpu()\n",
    "tar=target.sample(100).cpu()\n",
    "\n",
    "plt.scatter(var[:,0],var[:,1],  alpha=0.5,label='variational')\n",
    "plt.scatter(tar[:,0],tar[:,1], alpha=0.5)\n",
    "plt.legend()\n",
    "\n",
    "learning_rate=0.01\n",
    "optimizer = torch.optim.Adam(GeN.parameters(), lr=learning_rate)\n"
   ]
  },
  {
   "cell_type": "code",
   "execution_count": 283,
   "metadata": {},
   "outputs": [
    {
     "name": "stderr",
     "output_type": "stream",
     "text": [
      "100%|██████████| 1000/1000 [00:32<00:00, 30.34it/s, K=-.608, LP=0.48]   \n"
     ]
    }
   ],
   "source": [
    "H_grad=[]\n",
    "lr=0.0001\n",
    "KLs=[]\n",
    "ps=[]\n",
    "qs=[]\n",
    "\n",
    "with trange(1000) as tr:\n",
    "    for t in tr:\n",
    "        optimizer.zero_grad()\n",
    "        sample=GeN(n_samples)\n",
    "\n",
    "        lp=-target.log_prob(sample).mean()\n",
    "\n",
    "        # Get the estimate of the score \n",
    "        score_estimator = SpectralSteinEstimator(eta=0.1)\n",
    "\n",
    "        score = score_estimator(sample,sample)\n",
    "\n",
    "        for p in GeN.model.parameters():\n",
    "            p.grad=torch.zeros_like(p)\n",
    "            p.grad.add_(torch.autograd.grad(lp,p,retain_graph=True)[0]+torch.autograd.grad(sample, p, grad_outputs=score, retain_graph=True)[0]/n_samples)\n",
    "#            p.data.add_(-lr*grad)\n",
    "        optimizer.step()\n",
    "    \n",
    "        K=KL(sample.view(-1,dim),target.sample(n_samples),k=5,device='cpu')\n",
    "        KLs.append(K)\n",
    "        tr.set_postfix(LP=lp.item(), K=K.item())\n",
    "\n",
    "   # print(lp_grad_p[0])\n",
    "    \n",
    "#    H_grad.append(entropy_grad)"
   ]
  },
  {
   "cell_type": "code",
   "execution_count": 282,
   "metadata": {},
   "outputs": [
    {
     "data": {
      "text/plain": [
       "(-0.5158122956752778,\n",
       " 2.4982476413249968,\n",
       " -0.40500884056091313,\n",
       " 2.7887683391571043)"
      ]
     },
     "execution_count": 282,
     "metadata": {},
     "output_type": "execute_result"
    },
    {
     "data": {
      "image/png": "[encoded data removed]",
      "text/plain": [
       "<Figure size 432x288 with 1 Axes>"
      ]
     },
     "metadata": {
      "needs_background": "light"
     },
     "output_type": "display_data"
    }
   ],
   "source": [
    "var=GeN(1000).detach().cpu()\n",
    "tar=target.sample(1000).cpu()\n",
    "\n",
    "plt.scatter(var[:,0],var[:,1],alpha=0.5)\n",
    "plt.scatter(tar[:,0],tar[:,1],alpha=0.5)\n",
    "plt.axis('scaled')"
   ]
  },
  {
   "cell_type": "code",
   "execution_count": 50,
   "metadata": {},
   "outputs": [
    {
     "data": {
      "text/plain": [
       "[<matplotlib.lines.Line2D at 0x7f30da630370>]"
      ]
     },
     "execution_count": 50,
     "metadata": {},
     "output_type": "execute_result"
    },
    {
     "data": {
      "image/png": "[encoded data removed]",
      "text/plain": [
       "<Figure size 432x288 with 1 Axes>"
      ]
     },
     "metadata": {
      "needs_background": "light"
     },
     "output_type": "display_data"
    }
   ],
   "source": [
    "plt.plot(KLs)"
   ]
  },
  {
   "cell_type": "markdown",
   "metadata": {},
   "source": [
    "# Generator #"
   ]
  },
  {
   "cell_type": "code",
   "execution_count": 17,
   "metadata": {},
   "outputs": [
    {
     "name": "stdout",
     "output_type": "stream",
     "text": [
      "BigGenerator(\n",
      "  (model): Sequential(\n",
      "    (0): Linear(in_features=5, out_features=20, bias=True)\n",
      "    (1): ReLU(inplace=True)\n",
      "    (2): Linear(in_features=20, out_features=40, bias=True)\n",
      "    (3): ReLU(inplace=True)\n",
      "    (4): Linear(in_features=40, out_features=2, bias=True)\n",
      "  )\n",
      ")\n"
     ]
    },
    {
     "data": {
      "text/plain": [
       "Parameter containing:\n",
       "tensor([ 1.3917, -0.4725], device='cuda:0', requires_grad=True)"
      ]
     },
     "execution_count": 17,
     "metadata": {},
     "output_type": "execute_result"
    }
   ],
   "source": [
    "#generative model\n",
    "lat_dim=5\n",
    "param_count=2\n",
    "GeN = BigGenerator(lat_dim,param_count,device).to(device)\n",
    "print(GeN)\n",
    "\n",
    "torch.nn.init.normal_(GeN.model[4].weight,mean=0., std=1.)\n",
    "torch.nn.init.normal_(GeN.model[4].bias,mean=0., std=1.)\n",
    "\n"
   ]
  },
  {
   "cell_type": "markdown",
   "metadata": {},
   "source": [
    "# NN estimator #"
   ]
  },
  {
   "cell_type": "code",
   "execution_count": 18,
   "metadata": {},
   "outputs": [
    {
     "data": {
      "text/plain": [
       "<matplotlib.legend.Legend at 0x7ffa1d19dc40>"
      ]
     },
     "execution_count": 18,
     "metadata": {},
     "output_type": "execute_result"
    },
    {
     "data": {
      "image/png": "[encoded data removed]",
      "text/plain": [
       "<Figure size 432x288 with 1 Axes>"
      ]
     },
     "metadata": {
      "needs_background": "light"
     },
     "output_type": "display_data"
    }
   ],
   "source": [
    "n_samples=100\n",
    "var=GeN(100).detach().cpu()\n",
    "tar=target.sample(100).cpu()\n",
    "\n",
    "plt.scatter(var[:,0],var[:,1],  alpha=0.5,label='variational')\n",
    "plt.scatter(tar[:,0],tar[:,1], alpha=0.5)\n",
    "plt.legend()\n",
    "\n"
   ]
  },
  {
   "cell_type": "code",
   "execution_count": 19,
   "metadata": {},
   "outputs": [
    {
     "name": "stderr",
     "output_type": "stream",
     "text": [
      "100%|██████████| 4000/4000 [00:30<00:00, 131.87it/s, K=-.869]  \n"
     ]
    }
   ],
   "source": [
    "KLs=[]\n",
    "H_grad=[]\n",
    "lr=0.01\n",
    "n_samples=200\n",
    "\n",
    "ps=[]\n",
    "qs=[]\n",
    "with trange(4000) as tr:\n",
    "    for t in tr:\n",
    "        sample=GeN(n_samples)\n",
    "\n",
    "        K=KL(sample,target.sample(n_samples),k=5,device='cpu')\n",
    "\n",
    "        KLs.append(K.item())\n",
    "        tr.set_postfix(K=K.item())\n",
    "\n",
    "        for p in GeN.model.parameters():\n",
    "            grad=torch.autograd.grad(K,p,retain_graph=True)[0]\n",
    "            p.data.add_(-lr*grad)"
   ]
  },
  {
   "cell_type": "code",
   "execution_count": null,
   "metadata": {},
   "outputs": [],
   "source": [
    "var=GeN(500).detach().cpu()\n",
    "tar=target.sample(1000).cpu()\n",
    "\n",
    "\n",
    "plt.scatter(var[:,0],var[:,1],  alpha=0.2,label='variational')\n",
    "plt.scatter(tar[:,0],tar[:,1], alpha=0.2)\n",
    "\n",
    "plt.legend()\n",
    "plt.axis('scaled')\n",
    "plt.show()"
   ]
  },
  {
   "cell_type": "code",
   "execution_count": 94,
   "metadata": {},
   "outputs": [
    {
     "data": {
      "text/plain": [
       "[<matplotlib.lines.Line2D at 0x7f445034f6a0>]"
      ]
     },
     "execution_count": 94,
     "metadata": {},
     "output_type": "execute_result"
    },
    {
     "data": {
      "image/png": "[encoded data removed]",
      "text/plain": [
       "<Figure size 432x288 with 1 Axes>"
      ]
     },
     "metadata": {
      "needs_background": "light"
     },
     "output_type": "display_data"
    }
   ],
   "source": [
    "import matplotlib.pyplot as plt\n",
    "plt.plot(KLs)"
   ]
  },
  {
   "cell_type": "markdown",
   "metadata": {},
   "source": [
    "# consistency #"
   ]
  },
  {
   "cell_type": "code",
   "execution_count": 145,
   "metadata": {},
   "outputs": [
    {
     "name": "stderr",
     "output_type": "stream",
     "text": [
      "100%|██████████| 20/20 [01:34<00:00,  4.70s/it]\n"
     ]
    }
   ],
   "source": [
    "import timeit\n",
    "import numpy as np\n",
    "from tqdm import trange\n",
    "\n",
    "n_samples=100\n",
    "target = torch.distributions.Normal(torch.tensor([0.0]), torch.tensor([1.]))\n",
    "lr=0.1\n",
    "\n",
    "\n",
    "NN_ps=[]\n",
    "NN_qs=[]\n",
    "NN_time=[]\n",
    "for n in trange(20):\n",
    "    p=torch.tensor([1.]).uniform_(0.5,5.).detach().requires_grad_(True).to(device)\n",
    "    q=torch.tensor([10.]).uniform_(0.,10.).detach().requires_grad_(True).to(device)\n",
    "    start = timeit.default_timer()\n",
    "\n",
    "    for _ in range(2000):\n",
    "        x=torch.randn(n_samples).to(device)\n",
    "\n",
    "        n_samples=x.shape[0]\n",
    "        sample=p*x+q\n",
    "\n",
    "        K=KL(sample.view(-1,1),target.sample((n_samples,)).to(device),k=5,device='cpu')\n",
    "\n",
    "        p_grad=torch.autograd.grad(K,p,retain_graph=True)\n",
    "        q_grad=torch.autograd.grad(K,q,retain_graph=True)\n",
    "\n",
    "        p.data.add_(-lr*p_grad[0])\n",
    "        q.data.add_(-lr*q_grad[0])\n",
    "\n",
    "    NN_ps.append((p.item()))\n",
    "    NN_qs.append((q.item()))\n",
    "    stop = timeit.default_timer()\n",
    "    NN_time.append(stop - start)\n",
    "                 \n",
    "\n",
    "    "
   ]
  },
  {
   "cell_type": "code",
   "execution_count": 146,
   "metadata": {},
   "outputs": [
    {
     "name": "stdout",
     "output_type": "stream",
     "text": [
      "average time [s]: 4.685762455058284\n",
      "mean: (-0.04008566774427891, 0.4569391992067915)\n",
      "scale: (1.1856259882450104, 0.2521446274233837)\n"
     ]
    },
    {
     "data": {
      "image/png": "[encoded data removed]",
      "text/plain": [
       "<Figure size 432x432 with 3 Axes>"
      ]
     },
     "metadata": {
      "needs_background": "light"
     },
     "output_type": "display_data"
    }
   ],
   "source": [
    "sn.jointplot(NN_ps,NN_qs)\n",
    "print('average time [s]: '+str(np.mean(NN_time)))\n",
    "print('mean: '+str((np.mean(NN_qs),np.std(NN_qs))))\n",
    "print('scale: '+str((np.mean(NN_ps),np.std(NN_ps))))"
   ]
  },
  {
   "cell_type": "code",
   "execution_count": null,
   "metadata": {},
   "outputs": [
    {
     "name": "stderr",
     "output_type": "stream",
     "text": [
      " 10%|█         | 2/20 [01:08<10:11, 33.98s/it]"
     ]
    }
   ],
   "source": [
    "import timeit\n",
    "import numpy as np\n",
    "from tqdm import trange\n",
    "\n",
    "n_samples=100\n",
    "target = torch.distributions.Normal(torch.tensor([0.0],device=device), torch.tensor([1.],device=device))\n",
    "lr=0.1\n",
    "\n",
    "\n",
    "SSGE_ps=[]\n",
    "SSGE_qs=[]\n",
    "SSGE_time=[]\n",
    "for n in trange(20):\n",
    "    p=torch.Tensor(1).uniform_(0.5,5.).detach().requires_grad_(True).to(device)\n",
    "    q=torch.Tensor(1).uniform_(0.,10.).detach().requires_grad_(True).to(device)\n",
    "    start = timeit.default_timer()\n",
    "\n",
    "    for _ in range(2000):\n",
    "        x=torch.randn(n_samples).to(device)\n",
    "\n",
    "        n_samples=x.shape[0]\n",
    "        repeat_arg = (n_samples,) + (1,) * len(p.size())\n",
    "        pr=p.repeat(*repeat_arg)\n",
    "        qr=q.repeat(*repeat_arg)\n",
    "        y=pr*x+qr\n",
    "\n",
    "        sample=y[0].unsqueeze(-1)\n",
    "\n",
    "        lp=-target.log_prob(sample).mean()\n",
    "        lp_grad_p=torch.autograd.grad(lp,p,retain_graph=True)\n",
    "        lp_grad_q=torch.autograd.grad(lp,q,retain_graph=True)\n",
    "\n",
    "\n",
    "        I=torch.eye(n_samples).to(device)\n",
    "        Jp = torch.autograd.grad(y, pr,\n",
    "                              grad_outputs=I,\n",
    "                              retain_graph=True)\n",
    "        Jq = torch.autograd.grad(y, qr,\n",
    "                              grad_outputs=I,\n",
    "                              retain_graph=True)\n",
    "        Jp[0].shape\n",
    "        y_grad=torch.stack([Jp[0],Jq[0]],dim=1).to(device)\n",
    "\n",
    "\n",
    "        grad_estimator = EntropyGradient(eta=0.1)\n",
    "        entropy_grad = grad_estimator(sample, y_grad)\n",
    "\n",
    "        p.data.add_(-lr*(entropy_grad[0]+lp_grad_p[0]))\n",
    "        q.data.add_(-lr*(entropy_grad[1]+lp_grad_q[0]))\n",
    "\n",
    "    SSGE_ps.append((p.item()))\n",
    "    SSGE_qs.append((q.item()))\n",
    "    stop = timeit.default_timer()\n",
    "    SSGE_time.append(stop - start)\n",
    "                 \n"
   ]
  },
  {
   "cell_type": "code",
   "execution_count": 148,
   "metadata": {},
   "outputs": [
    {
     "name": "stdout",
     "output_type": "stream",
     "text": [
      "NN average time [s]: 4.685762455058284\n",
      "NN mean: (-0.04008566774427891, 0.4569391992067915)\n",
      "NN scale: (1.1856259882450104, 0.2521446274233837)\n",
      "SSGE average time [s]: nan\n",
      "SSGE mean: (nan, nan)\n",
      "SSGE scale: (nan, nan)\n"
     ]
    },
    {
     "name": "stderr",
     "output_type": "stream",
     "text": [
      "/home/yann/anaconda3/envs/bnn/lib/python3.8/site-packages/numpy/core/fromnumeric.py:3334: RuntimeWarning: Mean of empty slice.\n",
      "  return _methods._mean(a, axis=axis, dtype=dtype,\n",
      "/home/yann/anaconda3/envs/bnn/lib/python3.8/site-packages/numpy/core/_methods.py:161: RuntimeWarning: invalid value encountered in double_scalars\n",
      "  ret = ret.dtype.type(ret / rcount)\n",
      "/home/yann/anaconda3/envs/bnn/lib/python3.8/site-packages/numpy/core/_methods.py:216: RuntimeWarning: Degrees of freedom <= 0 for slice\n",
      "  ret = _var(a, axis=axis, dtype=dtype, out=out, ddof=ddof,\n",
      "/home/yann/anaconda3/envs/bnn/lib/python3.8/site-packages/numpy/core/_methods.py:185: RuntimeWarning: invalid value encountered in true_divide\n",
      "  arrmean = um.true_divide(\n",
      "/home/yann/anaconda3/envs/bnn/lib/python3.8/site-packages/numpy/core/_methods.py:209: RuntimeWarning: invalid value encountered in double_scalars\n",
      "  ret = ret.dtype.type(ret / rcount)\n"
     ]
    },
    {
     "data": {
      "image/png": "[encoded data removed]",
      "text/plain": [
       "<Figure size 432x432 with 3 Axes>"
      ]
     },
     "metadata": {
      "needs_background": "light"
     },
     "output_type": "display_data"
    },
    {
     "data": {
      "image/png": "[encoded data removed]",
      "text/plain": [
       "<Figure size 432x432 with 3 Axes>"
      ]
     },
     "metadata": {
      "needs_background": "light"
     },
     "output_type": "display_data"
    }
   ],
   "source": [
    "sn.jointplot(NN_ps,NN_qs)\n",
    "sn.jointplot(SSGE_ps,SSGE_qs)\n",
    "print('NN average time [s]: '+str(np.mean(NN_time)))\n",
    "print('NN mean: '+str((np.mean(NN_qs),np.std(NN_qs))))\n",
    "print('NN scale: '+str((np.mean(NN_ps),np.std(NN_ps))))\n",
    "print('SSGE average time [s]: '+str(np.mean(SSGE_time)))\n",
    "print('SSGE mean: '+str((np.mean(SSGE_qs),np.std(SSGE_qs))))\n",
    "print('SSGE scale: '+str((np.mean(SSGE_ps),np.std(SSGE_ps))))\n"
   ]
  },
  {
   "cell_type": "code",
   "execution_count": null,
   "metadata": {},
   "outputs": [],
   "source": []
  }
 ],
 "metadata": {
  "kernelspec": {
   "display_name": "Python 3",
   "language": "python",
   "name": "python3"
  },
  "language_info": {
   "codemirror_mode": {
    "name": "ipython",
    "version": 3
   },
   "file_extension": ".py",
   "mimetype": "text/x-python",
   "name": "python",
   "nbconvert_exporter": "python",
   "pygments_lexer": "ipython3",
   "version": "3.8.3"
  }
 },
 "nbformat": 4,
 "nbformat_minor": 4
}
