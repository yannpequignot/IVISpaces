{
 "cells": [
  {
   "cell_type": "code",
   "execution_count": 1,
   "metadata": {
    "scrolled": false
   },
   "outputs": [
    {
     "name": "stdout",
     "output_type": "stream",
     "text": [
      "/home/yann/IVISpaces\n"
     ]
    }
   ],
   "source": [
    "cd .."
   ]
  },
  {
   "cell_type": "code",
   "execution_count": 2,
   "metadata": {
    "scrolled": false
   },
   "outputs": [],
   "source": [
    "import numpy as np\n",
    "import math\n",
    "import torch\n",
    "from torch import nn\n",
    "\n",
    "import scipy.stats as stats\n",
    "import matplotlib\n",
    "import matplotlib.pyplot as plt\n",
    "\n",
    "from Models import BigGenerator\n",
    "\n",
    "from datetime import datetime\n",
    "\n",
    "from torch.utils.data import Dataset\n",
    "\n",
    "from Models import get_mlp\n",
    "from Tools import NormalLogLikelihood\n",
    "from Metrics import KL, evaluate_metrics\n",
    "\n",
    "from Experiments import get_setup\n",
    "\n",
    "from Inference.IVI import IVI\n",
    "\n",
    "from tqdm import trange\n",
    "\n",
    "import timeit"
   ]
  },
  {
   "cell_type": "code",
   "execution_count": 45,
   "metadata": {
    "scrolled": false
   },
   "outputs": [],
   "source": [
    "#hyperparameters\n",
    "\n",
    "#predictive model\n",
    "layerwidth=50\n",
    "nblayers=1\n",
    "activation=nn.Tanh()\n",
    "\n",
    "#generative model\n",
    "lat_dim=5\n",
    "\n",
    "\n",
    "\n",
    "#optimizer\n",
    "learning_rate=0.005\n",
    "\n",
    "#scheduler\n",
    "patience=20\n",
    "lr_decay=.7#.7\n",
    "min_lr= 0.0001\n",
    "n_epochs=1000#2000\n",
    "\n",
    "\n",
    "#loss hyperparameters\n",
    "n_samples_LL=100 #nb of predictor samples for average LogLikelihood\n",
    "\n",
    "n_samples_KL=500 #nb of predictor samples for KL divergence\n",
    "kNNE=1 #k-nearest neighbour\n",
    "\n"
   ]
  },
  {
   "cell_type": "code",
   "execution_count": 46,
   "metadata": {
    "scrolled": false
   },
   "outputs": [],
   "source": [
    "\n",
    "device = torch.device('cuda:0' if torch.cuda.is_available() else 'cpu')\n",
    "\n",
    "date_string = datetime.now().strftime(\"%Y-%m-%d-%H:%M\")"
   ]
  },
  {
   "cell_type": "markdown",
   "metadata": {},
   "source": [
    "# Setup #"
   ]
  },
  {
   "cell_type": "code",
   "execution_count": 50,
   "metadata": {
    "scrolled": false
   },
   "outputs": [
    {
     "name": "stdout",
     "output_type": "stream",
     "text": [
      "0.1\n"
     ]
    }
   ],
   "source": [
    "#UCI datasets: ['boston','concrete', 'energy', 'powerplant',  'wine', 'yacht']\n",
    "dataset='foong' \n",
    "\n",
    "setup_ = get_setup(dataset)\n",
    "setup=setup_.Setup(device) \n",
    "\n",
    "x_train, y_train=setup.train_data()\n",
    "x_test, y_test=setup.test_data()\n",
    "\n",
    "train_dataset = torch.utils.data.TensorDataset(x_train, y_train)\n",
    "test_dataset = torch.utils.data.TensorDataset(x_test, y_test)\n",
    "train_input = torch.utils.data.TensorDataset(x_train)\n",
    "\n",
    "sigma_noise=setup.sigma_noise\n",
    "print(sigma_noise)\n",
    "sigma_prior=setup.sigma_prior    \n",
    "\n",
    "size_data=len(train_dataset)\n",
    "#batch_size\n",
    "batch_size=20\n",
    "\n",
    "\n",
    "n_samples_FU=30 #number of OOD inputs for evaluation of the KL in predictor space\n",
    "n_train_input_samples_KL=0 #must be lower or equal to batch_size\n",
    "\n",
    "train_loader = torch.utils.data.DataLoader(train_dataset, batch_size=batch_size, shuffle=True)\n",
    "\n",
    "\n",
    "std_y_train = torch.tensor(1.)\n",
    "if hasattr(setup, '_scaler_y'):\n",
    "    std_y_train=torch.tensor(setup._scaler_y.scale_, device=device).squeeze().float()"
   ]
  },
  {
   "cell_type": "code",
   "execution_count": 89,
   "metadata": {},
   "outputs": [],
   "source": [
    "def PlotFoong(x_pred, y_pred, x=x_train, y=y_train, device=device):\n",
    "    N=y_pred.shape[0]-1\n",
    "    print(N)\n",
    "    m_3=int(0.001*N)\n",
    "    M_3=N-m_3\n",
    "    m_2=int(0.021*N)\n",
    "    M_2=N-m_2\n",
    "    m_1=int(0.136*N)\n",
    "    M_1=N-m_1\n",
    "\n",
    "    x_pred=x_pred.squeeze()\n",
    "\n",
    "    pred,_=y_pred.sort(dim=0)\n",
    "    y_mean=y_pred.mean(dim=0).squeeze().cpu()\n",
    "    y_3=pred[m_3,:].squeeze().cpu()\n",
    "    Y_3=pred[M_3,:].squeeze().cpu()\n",
    "    y_2=pred[m_2,:].squeeze().cpu()\n",
    "    Y_2=pred[M_2,:].squeeze().cpu()    \n",
    "    y_1=pred[m_1,:].squeeze().cpu()\n",
    "    Y_1=pred[M_1,:].squeeze().cpu()\n",
    "\n",
    "    \n",
    "\n",
    "    fig, ax=plt.subplots()\n",
    "    plt.plot(x_pred.cpu(), y_mean, color='springgreen')\n",
    "    plt.plot(x_pred.cpu(), torch.cos(4.0*(x_pred+0.2)).cpu(),'--',color='green')\n",
    "\n",
    "    ax.fill_between(x_pred.cpu(), y_3, Y_3, facecolor='springgreen', alpha=0.1)\n",
    "    ax.fill_between(x_pred.cpu(), y_2, Y_2, facecolor='springgreen', alpha=0.1)\n",
    "    ax.fill_between(x_pred.cpu(), y_1, Y_1, facecolor='springgreen', alpha=0.1)\n",
    "\n",
    "   # plt.grid(True, which='major', linewidth=0.5)\n",
    "\n",
    "    plt.ylim(-4, 4)\n",
    "    plt.scatter(x.cpu(), y.cpu() , marker='+',color='black',zorder=4)\n",
    "    return fig\n",
    "\n"
   ]
  },
  {
   "cell_type": "markdown",
   "metadata": {},
   "source": [
    "# Predictive model #"
   ]
  },
  {
   "cell_type": "code",
   "execution_count": 52,
   "metadata": {
    "scrolled": false
   },
   "outputs": [
    {
     "name": "stdout",
     "output_type": "stream",
     "text": [
      "input dim: 1\n",
      "param count: 151\n"
     ]
    }
   ],
   "source": [
    "input_dim=x_train.shape[1]\n",
    "param_count, model = get_mlp(input_dim, layerwidth, nblayers, activation)\n",
    "\n",
    "print('input dim: '+str(input_dim))\n",
    "print('param count: '+str(param_count))"
   ]
  },
  {
   "cell_type": "markdown",
   "metadata": {},
   "source": [
    "# ELBO"
   ]
  },
  {
   "cell_type": "markdown",
   "metadata": {},
   "source": [
    "## Average Log Likelihood"
   ]
  },
  {
   "cell_type": "code",
   "execution_count": 53,
   "metadata": {
    "scrolled": false
   },
   "outputs": [],
   "source": [
    "#average log likelihood loss\n",
    "def loss(x_data, y_data, GeN):\n",
    "    r\"\"\"\n",
    "\n",
    "    Parameters:\n",
    "    x_data (Tensor): tensor of size N X D\n",
    "    y_data (Tensor): tensor of size N X 1\n",
    "    GeN: hypernet generating weights for primary network 'model'\n",
    "\n",
    "\n",
    "    Returns:\n",
    "    (float):   mean of loglikelihood\n",
    "    \"\"\"\n",
    "\n",
    "    y_pred=model(x_data,GeN(n_samples_LL))\n",
    "    log_proba=NormalLogLikelihood(y_pred, y_data, sigma_noise).sum(1)\n",
    "    return log_proba.mean()"
   ]
  },
  {
   "cell_type": "markdown",
   "metadata": {},
   "source": [
    "## Kullback-Leibler divergence in Predictor space"
   ]
  },
  {
   "cell_type": "code",
   "execution_count": 82,
   "metadata": {
    "scrolled": false
   },
   "outputs": [],
   "source": [
    "\n",
    "# sampling of OOD inputs on which evaluate predictors for the Hilbert distance\n",
    "\"\"\"\n",
    "##for toy example\n",
    "n_samples_FU=30\n",
    "def projection(theta0,theta1):\n",
    "    #batch sample OOD    \n",
    "    M=2.\n",
    "    m=-2.\n",
    "    X_ood = torch.rand(n_samples_FU,input_dim).to(device) * (M-m) + m    \n",
    "    X=X_ood\n",
    "    #compute projection on both paramters with model\n",
    "    theta0_proj=model(X, theta0).squeeze(2)\n",
    "    theta1_proj=model(X, theta1).squeeze(2)\n",
    "    return theta0_proj, theta1_proj\n",
    "\"\"\"\n",
    "#predictor space KL\n",
    "def projection(theta0,theta1, x_data):\n",
    "    #batch sample OOD   \n",
    "    n_ood=n_samples_FU\n",
    "#    epsilon=0.1\n",
    "    M = 2.#x_train.max(0, keepdim=True)[0]+epsilon\n",
    "    m = -2.#x_train.min(0, keepdim=True)[0]-epsilon\n",
    "    X_ood = torch.rand(n_ood,input_dim).to(device) * (M-m) + m    \n",
    "\n",
    "    X=torch.cat([X_ood,x_data[:n_train_input_samples_KL,:]])\n",
    "    \n",
    "    #compute projection on both paramters with model\n",
    "    theta0_proj=model(X, theta0).squeeze(2)\n",
    "    theta1_proj=model(X, theta1).squeeze(2)\n",
    "    return theta0_proj, theta1_proj\n",
    "\n",
    "def projection_train(theta0,theta1,x_data):\n",
    "    #batch sample OOD\n",
    "\n",
    "    #compute projection on both paramters with model\n",
    "    theta0_proj=model(x_data, theta0).squeeze(2)\n",
    "    theta1_proj=model(x_data, theta1).squeeze(2)\n",
    "    return theta0_proj, theta1_proj\n",
    "\n",
    "\n",
    "#prior on parameters of predictive model\n",
    "\n",
    "def prior(n):\n",
    "    return sigma_prior*torch.randn(size=(n,param_count), device=device)\n",
    "\n",
    "\n",
    "def kl(x_data, GeN):\n",
    "\n",
    "    theta=GeN(n_samples_KL) #variationnel\n",
    "    theta_prior=prior(n_samples_KL) #prior\n",
    "\n",
    "    theta_proj, theta_prior_proj = projection(theta, theta_prior,x_data)\n",
    "\n",
    "    K=KL(theta_proj, theta_prior_proj,k=kNNE,device=device)\n",
    "    return K\n",
    "\n",
    "def kl_param(x_data, GeN):\n",
    "\n",
    "    theta=GeN(n_samples_KL) #variationnel\n",
    "    theta_prior=prior(n_samples_KL) #prior\n",
    "\n",
    "\n",
    "    K=KL(theta, theta_prior,k=kNNE,device=device)\n",
    "    return K\n",
    "\n",
    "def kl_train(GeN,x_data):\n",
    "\n",
    "    theta=GeN(x_data.shape[0]) #variationnel\n",
    "    theta_prior=prior(x_data.shape[0]) #prior\n",
    "\n",
    "    theta_proj, theta_prior_proj = projection_train(theta, theta_prior,x_data)\n",
    "\n",
    "    K=KL(theta_proj, theta_prior_proj,k=kNNE,device=device)\n",
    "    return K\n",
    "\n",
    "models_HMC = torch.load('Results/HMC_models.pt')\n",
    "HMC=models_HMC[dataset][:500,:].to(device)\n",
    "def kl_HMC_train(GeN,x_data):\n",
    "\n",
    "    theta=GeN(HMC.shape[0]) #variationnel\n",
    "\n",
    "    theta_proj, theta_HMC_proj = projection_train(theta, HMC ,x_data)\n",
    "\n",
    "    K=KL(theta_proj, theta_HMC_proj,k=kNNE,device=device)\n",
    "    return K\n",
    "\n",
    "def kl_HMC_OOD(GeN):\n",
    "\n",
    "    theta=GeN(HMC.shape[0]) #variationnel\n",
    "\n",
    "    theta_proj, theta_HMC_proj = projection(theta, HMC, torch.empty((0,input_dim)).to(device))\n",
    "\n",
    "    K=KL(theta_proj, theta_HMC_proj,k=kNNE,device=device)\n",
    "    return K"
   ]
  },
  {
   "cell_type": "code",
   "execution_count": 81,
   "metadata": {
    "scrolled": false
   },
   "outputs": [
    {
     "name": "stdout",
     "output_type": "stream",
     "text": [
      "0.1522289408991734\n"
     ]
    }
   ],
   "source": [
    "def meanlogKNNdistance(sample,k):\n",
    "    distances= torch.cdist(sample, sample, p=2)\n",
    "    kNN = torch.topk(distances, k=k + 1, dim=1, largest=False, sorted=True)[0][:,k]  # .clamp(torch.finfo().eps,float('inf\n",
    "    return kNN.log().mean()\n",
    "meanNNs=[]\n",
    "for (x,y) in train_loader:\n",
    "    sample=prior(n_samples_KL)\n",
    "    prior_pred,_=projection(sample,sample,x)\n",
    "    meanNNs.append(meanlogKNNdistance(prior_pred,k=1).item())\n",
    "print(np.mean(meanNNs))"
   ]
  },
  {
   "cell_type": "markdown",
   "metadata": {},
   "source": [
    "## ELBO ##"
   ]
  },
  {
   "cell_type": "code",
   "execution_count": 91,
   "metadata": {
    "scrolled": false
   },
   "outputs": [],
   "source": [
    "from Tools import AverageNormalLogLikelihood\n",
    "def ELBO_(x_data, y_data, GeN):\n",
    "    alpha=(len(x_data)/size_data)\n",
    "    Average_LogLikelihood=loss(x_data, y_data, GeN)\n",
    "    the_KL=kl(x_data, GeN)\n",
    "    the_ELBO= - Average_LogLikelihood+ alpha*the_KL\n",
    "    return the_ELBO, the_KL, Average_LogLikelihood \n",
    "\n",
    "def ELBO(x_data, y_data, GeN):\n",
    "    alpha=(len(x_data)/size_data) #TODO check with alpah=1.\n",
    "    y_pred=model(x_data,GeN(n_samples_LL))\n",
    "\n",
    "    Average_LogLikelihood=AverageNormalLogLikelihood(y_pred, y_data, sigma_noise)\n",
    "    the_KL=kl_param(x_data, GeN)\n",
    "    the_ELBO= - Average_LogLikelihood+ alpha* the_KL#(len(x_data)/size_data)*the_KL\n",
    "    return the_ELBO, the_KL, Average_LogLikelihood\n"
   ]
  },
  {
   "cell_type": "markdown",
   "metadata": {},
   "source": [
    "# Generative model #"
   ]
  },
  {
   "cell_type": "code",
   "execution_count": 92,
   "metadata": {
    "scrolled": false
   },
   "outputs": [
    {
     "name": "stdout",
     "output_type": "stream",
     "text": [
      "BigGenerator(\n",
      "  (model): Sequential(\n",
      "    (0): Linear(in_features=5, out_features=20, bias=True)\n",
      "    (1): ReLU(inplace=True)\n",
      "    (2): Linear(in_features=20, out_features=40, bias=True)\n",
      "    (3): ReLU(inplace=True)\n",
      "    (4): Linear(in_features=40, out_features=151, bias=True)\n",
      "  )\n",
      ")\n"
     ]
    }
   ],
   "source": [
    "#generative model\n",
    "GeN = BigGenerator(lat_dim,param_count,device).to(device)\n",
    "print(GeN)"
   ]
  },
  {
   "cell_type": "markdown",
   "metadata": {},
   "source": [
    "# Optimizer"
   ]
  },
  {
   "cell_type": "code",
   "execution_count": 93,
   "metadata": {
    "scrolled": false
   },
   "outputs": [],
   "source": [
    "optimizer = torch.optim.Adam(GeN.parameters(), lr=learning_rate)\n",
    "\n",
    "Run=IVI(train_loader, ELBO, optimizer)"
   ]
  },
  {
   "cell_type": "markdown",
   "metadata": {},
   "source": [
    "# Scheduler #"
   ]
  },
  {
   "cell_type": "code",
   "execution_count": 94,
   "metadata": {
    "scrolled": false
   },
   "outputs": [],
   "source": [
    "#scheduler\n",
    "scheduler = torch.optim.lr_scheduler.ReduceLROnPlateau(optimizer, patience=patience, factor=lr_decay, verbose=True, min_lr=min_lr)\n"
   ]
  },
  {
   "cell_type": "markdown",
   "metadata": {},
   "source": [
    "# TRAINING #"
   ]
  },
  {
   "cell_type": "code",
   "execution_count": 95,
   "metadata": {
    "scrolled": true
   },
   "outputs": [
    {
     "name": "stderr",
     "output_type": "stream",
     "text": [
      " 21%|██        | 211/1000 [00:06<00:25, 31.23it/s, ELBO=32.3, KL=220, LogLike=4.36, lr=0.0035]  "
     ]
    },
    {
     "name": "stdout",
     "output_type": "stream",
     "text": [
      "Epoch   205: reducing learning rate of group 0 to 3.5000e-03.\n"
     ]
    },
    {
     "name": "stderr",
     "output_type": "stream",
     "text": [
      " 32%|███▏      | 323/1000 [00:10<00:21, 30.97it/s, ELBO=24.9, KL=199, LogLike=8.24, lr=0.00245] "
     ]
    },
    {
     "name": "stdout",
     "output_type": "stream",
     "text": [
      "Epoch   319: reducing learning rate of group 0 to 2.4500e-03.\n"
     ]
    },
    {
     "name": "stderr",
     "output_type": "stream",
     "text": [
      " 36%|███▌      | 359/1000 [00:11<00:20, 31.02it/s, ELBO=22.1, KL=188, LogLike=9.12, lr=0.00171]"
     ]
    },
    {
     "name": "stdout",
     "output_type": "stream",
     "text": [
      "Epoch   354: reducing learning rate of group 0 to 1.7150e-03.\n"
     ]
    },
    {
     "name": "stderr",
     "output_type": "stream",
     "text": [
      " 41%|████      | 411/1000 [00:13<00:19, 30.88it/s, ELBO=17.4, KL=181, LogLike=12.8, lr=0.0012] "
     ]
    },
    {
     "name": "stdout",
     "output_type": "stream",
     "text": [
      "Epoch   407: reducing learning rate of group 0 to 1.2005e-03.\n"
     ]
    },
    {
     "name": "stderr",
     "output_type": "stream",
     "text": [
      " 48%|████▊     | 483/1000 [00:15<00:16, 30.67it/s, ELBO=16.4, KL=177, LogLike=13, lr=0.00084]  "
     ]
    },
    {
     "name": "stdout",
     "output_type": "stream",
     "text": [
      "Epoch   477: reducing learning rate of group 0 to 8.4035e-04.\n"
     ]
    },
    {
     "name": "stderr",
     "output_type": "stream",
     "text": [
      " 54%|█████▍    | 543/1000 [00:17<00:14, 31.04it/s, ELBO=15.3, KL=173, LogLike=13.5, lr=0.000588]"
     ]
    },
    {
     "name": "stdout",
     "output_type": "stream",
     "text": [
      "Epoch   538: reducing learning rate of group 0 to 5.8824e-04.\n"
     ]
    },
    {
     "name": "stderr",
     "output_type": "stream",
     "text": [
      " 57%|█████▋    | 571/1000 [00:18<00:13, 30.88it/s, ELBO=14.9, KL=172, LogLike=13.8, lr=0.000412]"
     ]
    },
    {
     "name": "stdout",
     "output_type": "stream",
     "text": [
      "Epoch   568: reducing learning rate of group 0 to 4.1177e-04.\n"
     ]
    },
    {
     "name": "stderr",
     "output_type": "stream",
     "text": [
      " 64%|██████▍   | 639/1000 [00:20<00:11, 31.11it/s, ELBO=14.3, KL=168, LogLike=13.8, lr=0.000288]"
     ]
    },
    {
     "name": "stdout",
     "output_type": "stream",
     "text": [
      "Epoch   635: reducing learning rate of group 0 to 2.8824e-04.\n"
     ]
    },
    {
     "name": "stderr",
     "output_type": "stream",
     "text": [
      " 69%|██████▉   | 691/1000 [00:22<00:09, 31.03it/s, ELBO=13.9, KL=168, LogLike=14, lr=0.000202]  "
     ]
    },
    {
     "name": "stdout",
     "output_type": "stream",
     "text": [
      "Epoch   686: reducing learning rate of group 0 to 2.0177e-04.\n"
     ]
    },
    {
     "name": "stderr",
     "output_type": "stream",
     "text": [
      " 75%|███████▌  | 751/1000 [00:24<00:08, 31.03it/s, ELBO=13.5, KL=166, LogLike=14.2, lr=0.000141]"
     ]
    },
    {
     "name": "stdout",
     "output_type": "stream",
     "text": [
      "Epoch   746: reducing learning rate of group 0 to 1.4124e-04.\n"
     ]
    },
    {
     "name": "stderr",
     "output_type": "stream",
     "text": [
      " 77%|███████▋  | 773/1000 [00:24<00:07, 30.96it/s, ELBO=13.7, KL=167, LogLike=14, lr=0.0001]    "
     ]
    },
    {
     "name": "stdout",
     "output_type": "stream",
     "text": [
      "Epoch   773: reducing learning rate of group 0 to 1.0000e-04.\n"
     ]
    },
    {
     "name": "stderr",
     "output_type": "stream",
     "text": [
      "\n"
     ]
    }
   ],
   "source": [
    "KLs=[]\n",
    "ELBOs=[]\n",
    "LLs=[]\n",
    "LRs=[]\n",
    "\n",
    "test_metrics={'RMSE':[],\n",
    "              'PICP':[],\n",
    "              'MPIW':[],\n",
    "              'LPP':[],\n",
    "              'KL_train':[],\n",
    "              'HMC_OOD':[],\n",
    "              'HMC_train':[]\n",
    "             }\n",
    "start = timeit.default_timer()\n",
    "with trange(n_epochs) as tr:\n",
    "    for t in tr:\n",
    "\n",
    "        scores=Run.run(GeN)\n",
    "        tr.set_postfix(ELBO=scores['ELBO'], LogLike=scores['LL'], KL=scores['KL'], lr=scores['lr'])\n",
    "        ELBOs.append(scores['ELBO'])\n",
    "        KLs.append(scores['KL'])\n",
    "        LLs.append(scores['LL'])\n",
    "        LRs.append(scores['lr'])\n",
    "        scheduler.step(scores['ELBO'])\n",
    "        if scores['lr'] <= 1e-4:\n",
    "            break\n",
    "stop = timeit.default_timer()\n",
    "execution_time = stop - start\n",
    "\n"
   ]
  },
  {
   "cell_type": "code",
   "execution_count": 90,
   "metadata": {},
   "outputs": [
    {
     "name": "stdout",
     "output_type": "stream",
     "text": [
      "999\n"
     ]
    },
    {
     "data": {
      "image/png": "[encoded data removed]",
      "text/plain": [
       "<Figure size 432x288 with 1 Axes>"
      ]
     },
     "metadata": {
      "needs_background": "light"
     },
     "output_type": "display_data"
    }
   ],
   "source": [
    "theta=GeN(1000).detach()\n",
    "x_pred=torch.linspace(-2.,2.,500).unsqueeze(-1).to(device)\n",
    "y_pred=model(x_pred,theta)\n",
    "y_pred+=sigma_noise*torch.randn_like(y_pred)\n",
    "fig=PlotFoong(x_pred=x_pred,y_pred=y_pred)"
   ]
  },
  {
   "cell_type": "code",
   "execution_count": 113,
   "metadata": {
    "scrolled": false
   },
   "outputs": [
    {
     "name": "stderr",
     "output_type": "stream",
     "text": [
      "foong/MFVI:   0%|          | 15/3000 [00:00<00:19, 149.44it/s, ELBO=1.3e+5, KL=150, LogLike=-1.3e+5, lr=0.005]  "
     ]
    },
    {
     "name": "stdout",
     "output_type": "stream",
     "text": [
      "0.1\n"
     ]
    },
    {
     "name": "stderr",
     "output_type": "stream",
     "text": [
      "foong/MFVI:  46%|████▌     | 1365/3000 [00:09<00:10, 149.87it/s, ELBO=3.07e+3, KL=47.2, LogLike=-3.02e+3, lr=0.0035]"
     ]
    },
    {
     "name": "stdout",
     "output_type": "stream",
     "text": [
      "Epoch  1338: reducing learning rate of group 0 to 3.5000e-03.\n"
     ]
    },
    {
     "name": "stderr",
     "output_type": "stream",
     "text": [
      "foong/MFVI:  49%|████▊     | 1458/3000 [00:09<00:10, 149.51it/s, ELBO=2.94e+3, KL=48.5, LogLike=-2.89e+3, lr=0.00245]"
     ]
    },
    {
     "name": "stdout",
     "output_type": "stream",
     "text": [
      "Epoch  1438: reducing learning rate of group 0 to 2.4500e-03.\n"
     ]
    },
    {
     "name": "stderr",
     "output_type": "stream",
     "text": [
      "foong/MFVI:  54%|█████▎    | 1609/3000 [00:10<00:09, 143.04it/s, ELBO=2.81e+3, KL=49.9, LogLike=-2.76e+3, lr=0.00171]"
     ]
    },
    {
     "name": "stdout",
     "output_type": "stream",
     "text": [
      "Epoch  1595: reducing learning rate of group 0 to 1.7150e-03.\n"
     ]
    },
    {
     "name": "stderr",
     "output_type": "stream",
     "text": [
      "foong/MFVI:  57%|█████▋    | 1697/3000 [00:11<00:09, 139.73it/s, ELBO=2.56e+3, KL=50.5, LogLike=-2.51e+3, lr=0.0012] "
     ]
    },
    {
     "name": "stdout",
     "output_type": "stream",
     "text": [
      "Epoch  1674: reducing learning rate of group 0 to 1.2005e-03.\n"
     ]
    },
    {
     "name": "stderr",
     "output_type": "stream",
     "text": [
      "foong/MFVI:  59%|█████▉    | 1772/3000 [00:11<00:08, 144.41it/s, ELBO=2.91e+3, KL=50.8, LogLike=-2.86e+3, lr=0.00084]"
     ]
    },
    {
     "name": "stdout",
     "output_type": "stream",
     "text": [
      "Epoch  1746: reducing learning rate of group 0 to 8.4035e-04.\n"
     ]
    },
    {
     "name": "stderr",
     "output_type": "stream",
     "text": [
      "foong/MFVI:  62%|██████▏   | 1847/3000 [00:12<00:07, 145.14it/s, ELBO=2.32e+3, KL=51.1, LogLike=-2.27e+3, lr=0.000588]"
     ]
    },
    {
     "name": "stdout",
     "output_type": "stream",
     "text": [
      "Epoch  1827: reducing learning rate of group 0 to 5.8824e-04.\n"
     ]
    },
    {
     "name": "stderr",
     "output_type": "stream",
     "text": [
      "foong/MFVI:  65%|██████▍   | 1937/3000 [00:13<00:07, 147.16it/s, ELBO=2.42e+3, KL=51.4, LogLike=-2.37e+3, lr=0.000412]"
     ]
    },
    {
     "name": "stdout",
     "output_type": "stream",
     "text": [
      "Epoch  1911: reducing learning rate of group 0 to 4.1177e-04.\n"
     ]
    },
    {
     "name": "stderr",
     "output_type": "stream",
     "text": [
      "foong/MFVI:  67%|██████▋   | 1998/3000 [00:13<00:06, 148.34it/s, ELBO=2.58e+3, KL=51.5, LogLike=-2.53e+3, lr=0.000288]"
     ]
    },
    {
     "name": "stdout",
     "output_type": "stream",
     "text": [
      "Epoch  1972: reducing learning rate of group 0 to 2.8824e-04.\n"
     ]
    },
    {
     "name": "stderr",
     "output_type": "stream",
     "text": [
      "foong/MFVI:  72%|███████▏  | 2148/3000 [00:14<00:05, 148.58it/s, ELBO=2.41e+3, KL=51.7, LogLike=-2.36e+3, lr=0.000202]"
     ]
    },
    {
     "name": "stdout",
     "output_type": "stream",
     "text": [
      "Epoch  2119: reducing learning rate of group 0 to 2.0177e-04.\n"
     ]
    },
    {
     "name": "stderr",
     "output_type": "stream",
     "text": [
      "foong/MFVI:  74%|███████▎  | 2208/3000 [00:14<00:05, 148.39it/s, ELBO=2.2e+3, KL=51.7, LogLike=-2.15e+3, lr=0.000141] "
     ]
    },
    {
     "name": "stdout",
     "output_type": "stream",
     "text": [
      "Epoch  2180: reducing learning rate of group 0 to 1.4124e-04.\n"
     ]
    },
    {
     "name": "stderr",
     "output_type": "stream",
     "text": [
      "foong/MFVI:  75%|███████▍  | 2241/3000 [00:15<00:05, 148.87it/s, ELBO=2.54e+3, KL=51.8, LogLike=-2.49e+3, lr=0.0001]  "
     ]
    },
    {
     "name": "stdout",
     "output_type": "stream",
     "text": [
      "Epoch  2241: reducing learning rate of group 0 to 1.0000e-04.\n"
     ]
    },
    {
     "name": "stderr",
     "output_type": "stream",
     "text": [
      "\n"
     ]
    }
   ],
   "source": [
    "from Models import  MeanFieldVariationalDistribution\n",
    "from Tools import AverageNormalLogLikelihood, logmvn01pdf\n",
    "\n",
    "x_train, y_train=setup.train_data()\n",
    "x_test, y_test=setup.test_data()\n",
    "\n",
    "train_dataset = torch.utils.data.TensorDataset(x_train, y_train)\n",
    "test_dataset = torch.utils.data.TensorDataset(x_test, y_test)\n",
    "train_input = torch.utils.data.TensorDataset(x_train)\n",
    "\n",
    "sigma_noise=setup.sigma_noise\n",
    "print(sigma_noise)\n",
    "sigma_prior=setup.sigma_prior    \n",
    "\n",
    "size_data=len(train_dataset)\n",
    "#batch_size\n",
    "batch_size=size_data\n",
    "\n",
    "\n",
    "n_samples_FU=30 #number of OOD inputs for evaluation of the KL in predictor space\n",
    "n_train_input_samples_KL=0 #must be lower or equal to batch_size\n",
    "\n",
    "train_loader = torch.utils.data.DataLoader(train_dataset, batch_size=batch_size, shuffle=True)\n",
    "\n",
    "\n",
    "\n",
    "init_std=0.\n",
    "MFVI=MeanFieldVariationalDistribution(param_count,0.,device=device)    \n",
    "\n",
    "sigma_noise = 0.1\n",
    "def ELBO(x_data, y_data, MFVI):\n",
    "    alpha=1.#(len(x_data)/size_data) #TODO check with alpah=1.\n",
    "\n",
    "    y_pred=model(x_data,MFVI(n_samples_LL))\n",
    "\n",
    "    Average_LogLikelihood=AverageNormalLogLikelihood(y_pred, y_data, sigma_noise)\n",
    "    theta=MFVI(n_samples_KL)\n",
    "    the_KL=MFVI.log_prob(theta).mean()-logmvn01pdf(theta,sigma_prior).mean()\n",
    "    the_ELBO= - Average_LogLikelihood+ alpha* the_KL\n",
    "    return the_ELBO, the_KL, Average_LogLikelihood\n",
    "\n",
    "optimizer = torch.optim.Adam(MFVI.parameters(), lr=0.005)\n",
    "scheduler = torch.optim.lr_scheduler.ReduceLROnPlateau(optimizer, patience=3*patience, factor=lr_decay, verbose=True, min_lr=min_lr)\n",
    "Run=IVI(train_loader, ELBO, optimizer)\n",
    "\n",
    "start = timeit.default_timer()\n",
    "with trange(3000) as tr:\n",
    "    tr.set_description(desc=dataset+'/MFVI', refresh=False)\n",
    "    for t in tr:\n",
    "\n",
    "\n",
    "        scores=Run.run(MFVI)\n",
    "\n",
    "        scheduler.step(scores['ELBO'])\n",
    "        tr.set_postfix(ELBO=scores['ELBO'], LogLike=scores['LL'], KL=scores['KL'], lr=scores['lr'])\n",
    "\n",
    "        if scores['lr'] <= 1e-4:\n",
    "            break\n",
    "stop = timeit.default_timer()\n",
    "execution_time = stop - start\n",
    "\n",
    "theta=MFVI(1000).detach()\n",
    "sigma_noise = torch.log(torch.exp(_sigma_noise) + 1.).detach().cpu()\n",
    "y_pred=model(x_test,theta)"
   ]
  },
  {
   "cell_type": "code",
   "execution_count": 110,
   "metadata": {},
   "outputs": [
    {
     "name": "stdout",
     "output_type": "stream",
     "text": [
      "999\n"
     ]
    },
    {
     "data": {
      "image/png": "[encoded data removed]",
      "text/plain": [
       "<Figure size 432x288 with 1 Axes>"
      ]
     },
     "metadata": {
      "needs_background": "light"
     },
     "output_type": "display_data"
    }
   ],
   "source": [
    "theta=MFVI(1000).detach()\n",
    "x_pred=torch.linspace(-2.,2.,500).unsqueeze(-1).to(device)\n",
    "y_pred=model(x_pred,theta)\n",
    "y_pred+=sigma_noise*torch.randn_like(y_pred)\n",
    "fig=PlotFoong(x_pred=x_pred,y_pred=y_pred)"
   ]
  },
  {
   "cell_type": "code",
   "execution_count": null,
   "metadata": {},
   "outputs": [],
   "source": []
  }
 ],
 "metadata": {
  "kernelspec": {
   "display_name": "Python 3",
   "language": "python",
   "name": "python3"
  },
  "language_info": {
   "codemirror_mode": {
    "name": "ipython",
    "version": 3
   },
   "file_extension": ".py",
   "mimetype": "text/x-python",
   "name": "python",
   "nbconvert_exporter": "python",
   "pygments_lexer": "ipython3",
   "version": "3.8.3"
  }
 },
 "nbformat": 4,
 "nbformat_minor": 4
}
